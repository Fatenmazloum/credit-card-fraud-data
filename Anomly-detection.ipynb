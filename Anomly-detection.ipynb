{
 "cells": [
  {
   "cell_type": "markdown",
   "id": "2f9e217c",
   "metadata": {},
   "source": [
    "✅unsupervised anomaly detection methods :\n",
    "\n",
    "Isolation forest, one class SVM, Auto encoders"
   ]
  },
  {
   "cell_type": "markdown",
   "id": "030e6de3",
   "metadata": {},
   "source": [
    "✅ Unsupervised Learning Definition\n",
    "In unsupervised learning, the model:\n",
    "\n",
    "Does not use labeled data during training\n",
    "\n",
    "Learns patterns or structure from the input data only\n",
    "\n",
    "Is typically used for tasks like clustering, dimensionality reduction, and anomaly detection\n",
    "\n"
   ]
  },
  {
   "cell_type": "markdown",
   "id": "4b1ef735",
   "metadata": {},
   "source": [
    "💡 What Is Anomaly Detection?\n",
    "Anomaly detection is a technique used to find unusual or unexpected data points — things that don’t fit the normal pattern."
   ]
  },
  {
   "cell_type": "markdown",
   "id": "f97ad7a8",
   "metadata": {},
   "source": [
    "💡Feature engineering is about transforming the data to improve model performance (onhot encoding, handling missing data,...)\n",
    "\n",
    "💡EDA is about understanding the data. Explore, visualize, and summarize the main characteristics of the dataset.\n",
    "\n",
    "1. from data.describe we undertsand mean and std for each features\n",
    "\n",
    "2. undertand dtype for each feature if its numeric or categorical \n",
    "\n",
    "3. distribution if its weel or skeweed using histplot and distplot\n",
    "\n",
    "4. outliers using boxplot\n",
    "\n",
    "5. correlaton matrix to undertsad relation of features to see how to reduce features"
   ]
  },
  {
   "cell_type": "code",
   "execution_count": 1,
   "metadata": {},
   "outputs": [],
   "source": [
    "import pandas as pd  \n",
    "import numpy as np  \n",
    "import matplotlib.pyplot as plt\n",
    "import seaborn as sns"
   ]
  },
  {
   "cell_type": "code",
   "execution_count": 2,
   "id": "825da2af",
   "metadata": {},
   "outputs": [],
   "source": [
    "data=pd.read_csv(\"creditcard.csv\")"
   ]
  },
  {
   "cell_type": "code",
   "execution_count": 3,
   "id": "1a7fb288",
   "metadata": {},
   "outputs": [
    {
     "data": {
      "text/html": [
       "<div>\n",
       "<style scoped>\n",
       "    .dataframe tbody tr th:only-of-type {\n",
       "        vertical-align: middle;\n",
       "    }\n",
       "\n",
       "    .dataframe tbody tr th {\n",
       "        vertical-align: top;\n",
       "    }\n",
       "\n",
       "    .dataframe thead th {\n",
       "        text-align: right;\n",
       "    }\n",
       "</style>\n",
       "<table border=\"1\" class=\"dataframe\">\n",
       "  <thead>\n",
       "    <tr style=\"text-align: right;\">\n",
       "      <th></th>\n",
       "      <th>Time</th>\n",
       "      <th>V1</th>\n",
       "      <th>V2</th>\n",
       "      <th>V3</th>\n",
       "      <th>V4</th>\n",
       "      <th>V5</th>\n",
       "      <th>V6</th>\n",
       "      <th>V7</th>\n",
       "      <th>V8</th>\n",
       "      <th>V9</th>\n",
       "      <th>...</th>\n",
       "      <th>V21</th>\n",
       "      <th>V22</th>\n",
       "      <th>V23</th>\n",
       "      <th>V24</th>\n",
       "      <th>V25</th>\n",
       "      <th>V26</th>\n",
       "      <th>V27</th>\n",
       "      <th>V28</th>\n",
       "      <th>Amount</th>\n",
       "      <th>Class</th>\n",
       "    </tr>\n",
       "  </thead>\n",
       "  <tbody>\n",
       "    <tr>\n",
       "      <th>0</th>\n",
       "      <td>0.0</td>\n",
       "      <td>-1.359807</td>\n",
       "      <td>-0.072781</td>\n",
       "      <td>2.536347</td>\n",
       "      <td>1.378155</td>\n",
       "      <td>-0.338321</td>\n",
       "      <td>0.462388</td>\n",
       "      <td>0.239599</td>\n",
       "      <td>0.098698</td>\n",
       "      <td>0.363787</td>\n",
       "      <td>...</td>\n",
       "      <td>-0.018307</td>\n",
       "      <td>0.277838</td>\n",
       "      <td>-0.110474</td>\n",
       "      <td>0.066928</td>\n",
       "      <td>0.128539</td>\n",
       "      <td>-0.189115</td>\n",
       "      <td>0.133558</td>\n",
       "      <td>-0.021053</td>\n",
       "      <td>149.62</td>\n",
       "      <td>0</td>\n",
       "    </tr>\n",
       "    <tr>\n",
       "      <th>1</th>\n",
       "      <td>0.0</td>\n",
       "      <td>1.191857</td>\n",
       "      <td>0.266151</td>\n",
       "      <td>0.166480</td>\n",
       "      <td>0.448154</td>\n",
       "      <td>0.060018</td>\n",
       "      <td>-0.082361</td>\n",
       "      <td>-0.078803</td>\n",
       "      <td>0.085102</td>\n",
       "      <td>-0.255425</td>\n",
       "      <td>...</td>\n",
       "      <td>-0.225775</td>\n",
       "      <td>-0.638672</td>\n",
       "      <td>0.101288</td>\n",
       "      <td>-0.339846</td>\n",
       "      <td>0.167170</td>\n",
       "      <td>0.125895</td>\n",
       "      <td>-0.008983</td>\n",
       "      <td>0.014724</td>\n",
       "      <td>2.69</td>\n",
       "      <td>0</td>\n",
       "    </tr>\n",
       "    <tr>\n",
       "      <th>2</th>\n",
       "      <td>1.0</td>\n",
       "      <td>-1.358354</td>\n",
       "      <td>-1.340163</td>\n",
       "      <td>1.773209</td>\n",
       "      <td>0.379780</td>\n",
       "      <td>-0.503198</td>\n",
       "      <td>1.800499</td>\n",
       "      <td>0.791461</td>\n",
       "      <td>0.247676</td>\n",
       "      <td>-1.514654</td>\n",
       "      <td>...</td>\n",
       "      <td>0.247998</td>\n",
       "      <td>0.771679</td>\n",
       "      <td>0.909412</td>\n",
       "      <td>-0.689281</td>\n",
       "      <td>-0.327642</td>\n",
       "      <td>-0.139097</td>\n",
       "      <td>-0.055353</td>\n",
       "      <td>-0.059752</td>\n",
       "      <td>378.66</td>\n",
       "      <td>0</td>\n",
       "    </tr>\n",
       "    <tr>\n",
       "      <th>3</th>\n",
       "      <td>1.0</td>\n",
       "      <td>-0.966272</td>\n",
       "      <td>-0.185226</td>\n",
       "      <td>1.792993</td>\n",
       "      <td>-0.863291</td>\n",
       "      <td>-0.010309</td>\n",
       "      <td>1.247203</td>\n",
       "      <td>0.237609</td>\n",
       "      <td>0.377436</td>\n",
       "      <td>-1.387024</td>\n",
       "      <td>...</td>\n",
       "      <td>-0.108300</td>\n",
       "      <td>0.005274</td>\n",
       "      <td>-0.190321</td>\n",
       "      <td>-1.175575</td>\n",
       "      <td>0.647376</td>\n",
       "      <td>-0.221929</td>\n",
       "      <td>0.062723</td>\n",
       "      <td>0.061458</td>\n",
       "      <td>123.50</td>\n",
       "      <td>0</td>\n",
       "    </tr>\n",
       "    <tr>\n",
       "      <th>4</th>\n",
       "      <td>2.0</td>\n",
       "      <td>-1.158233</td>\n",
       "      <td>0.877737</td>\n",
       "      <td>1.548718</td>\n",
       "      <td>0.403034</td>\n",
       "      <td>-0.407193</td>\n",
       "      <td>0.095921</td>\n",
       "      <td>0.592941</td>\n",
       "      <td>-0.270533</td>\n",
       "      <td>0.817739</td>\n",
       "      <td>...</td>\n",
       "      <td>-0.009431</td>\n",
       "      <td>0.798278</td>\n",
       "      <td>-0.137458</td>\n",
       "      <td>0.141267</td>\n",
       "      <td>-0.206010</td>\n",
       "      <td>0.502292</td>\n",
       "      <td>0.219422</td>\n",
       "      <td>0.215153</td>\n",
       "      <td>69.99</td>\n",
       "      <td>0</td>\n",
       "    </tr>\n",
       "    <tr>\n",
       "      <th>...</th>\n",
       "      <td>...</td>\n",
       "      <td>...</td>\n",
       "      <td>...</td>\n",
       "      <td>...</td>\n",
       "      <td>...</td>\n",
       "      <td>...</td>\n",
       "      <td>...</td>\n",
       "      <td>...</td>\n",
       "      <td>...</td>\n",
       "      <td>...</td>\n",
       "      <td>...</td>\n",
       "      <td>...</td>\n",
       "      <td>...</td>\n",
       "      <td>...</td>\n",
       "      <td>...</td>\n",
       "      <td>...</td>\n",
       "      <td>...</td>\n",
       "      <td>...</td>\n",
       "      <td>...</td>\n",
       "      <td>...</td>\n",
       "      <td>...</td>\n",
       "    </tr>\n",
       "    <tr>\n",
       "      <th>284802</th>\n",
       "      <td>172786.0</td>\n",
       "      <td>-11.881118</td>\n",
       "      <td>10.071785</td>\n",
       "      <td>-9.834783</td>\n",
       "      <td>-2.066656</td>\n",
       "      <td>-5.364473</td>\n",
       "      <td>-2.606837</td>\n",
       "      <td>-4.918215</td>\n",
       "      <td>7.305334</td>\n",
       "      <td>1.914428</td>\n",
       "      <td>...</td>\n",
       "      <td>0.213454</td>\n",
       "      <td>0.111864</td>\n",
       "      <td>1.014480</td>\n",
       "      <td>-0.509348</td>\n",
       "      <td>1.436807</td>\n",
       "      <td>0.250034</td>\n",
       "      <td>0.943651</td>\n",
       "      <td>0.823731</td>\n",
       "      <td>0.77</td>\n",
       "      <td>0</td>\n",
       "    </tr>\n",
       "    <tr>\n",
       "      <th>284803</th>\n",
       "      <td>172787.0</td>\n",
       "      <td>-0.732789</td>\n",
       "      <td>-0.055080</td>\n",
       "      <td>2.035030</td>\n",
       "      <td>-0.738589</td>\n",
       "      <td>0.868229</td>\n",
       "      <td>1.058415</td>\n",
       "      <td>0.024330</td>\n",
       "      <td>0.294869</td>\n",
       "      <td>0.584800</td>\n",
       "      <td>...</td>\n",
       "      <td>0.214205</td>\n",
       "      <td>0.924384</td>\n",
       "      <td>0.012463</td>\n",
       "      <td>-1.016226</td>\n",
       "      <td>-0.606624</td>\n",
       "      <td>-0.395255</td>\n",
       "      <td>0.068472</td>\n",
       "      <td>-0.053527</td>\n",
       "      <td>24.79</td>\n",
       "      <td>0</td>\n",
       "    </tr>\n",
       "    <tr>\n",
       "      <th>284804</th>\n",
       "      <td>172788.0</td>\n",
       "      <td>1.919565</td>\n",
       "      <td>-0.301254</td>\n",
       "      <td>-3.249640</td>\n",
       "      <td>-0.557828</td>\n",
       "      <td>2.630515</td>\n",
       "      <td>3.031260</td>\n",
       "      <td>-0.296827</td>\n",
       "      <td>0.708417</td>\n",
       "      <td>0.432454</td>\n",
       "      <td>...</td>\n",
       "      <td>0.232045</td>\n",
       "      <td>0.578229</td>\n",
       "      <td>-0.037501</td>\n",
       "      <td>0.640134</td>\n",
       "      <td>0.265745</td>\n",
       "      <td>-0.087371</td>\n",
       "      <td>0.004455</td>\n",
       "      <td>-0.026561</td>\n",
       "      <td>67.88</td>\n",
       "      <td>0</td>\n",
       "    </tr>\n",
       "    <tr>\n",
       "      <th>284805</th>\n",
       "      <td>172788.0</td>\n",
       "      <td>-0.240440</td>\n",
       "      <td>0.530483</td>\n",
       "      <td>0.702510</td>\n",
       "      <td>0.689799</td>\n",
       "      <td>-0.377961</td>\n",
       "      <td>0.623708</td>\n",
       "      <td>-0.686180</td>\n",
       "      <td>0.679145</td>\n",
       "      <td>0.392087</td>\n",
       "      <td>...</td>\n",
       "      <td>0.265245</td>\n",
       "      <td>0.800049</td>\n",
       "      <td>-0.163298</td>\n",
       "      <td>0.123205</td>\n",
       "      <td>-0.569159</td>\n",
       "      <td>0.546668</td>\n",
       "      <td>0.108821</td>\n",
       "      <td>0.104533</td>\n",
       "      <td>10.00</td>\n",
       "      <td>0</td>\n",
       "    </tr>\n",
       "    <tr>\n",
       "      <th>284806</th>\n",
       "      <td>172792.0</td>\n",
       "      <td>-0.533413</td>\n",
       "      <td>-0.189733</td>\n",
       "      <td>0.703337</td>\n",
       "      <td>-0.506271</td>\n",
       "      <td>-0.012546</td>\n",
       "      <td>-0.649617</td>\n",
       "      <td>1.577006</td>\n",
       "      <td>-0.414650</td>\n",
       "      <td>0.486180</td>\n",
       "      <td>...</td>\n",
       "      <td>0.261057</td>\n",
       "      <td>0.643078</td>\n",
       "      <td>0.376777</td>\n",
       "      <td>0.008797</td>\n",
       "      <td>-0.473649</td>\n",
       "      <td>-0.818267</td>\n",
       "      <td>-0.002415</td>\n",
       "      <td>0.013649</td>\n",
       "      <td>217.00</td>\n",
       "      <td>0</td>\n",
       "    </tr>\n",
       "  </tbody>\n",
       "</table>\n",
       "<p>284807 rows × 31 columns</p>\n",
       "</div>"
      ],
      "text/plain": [
       "            Time         V1         V2        V3        V4        V5  \\\n",
       "0            0.0  -1.359807  -0.072781  2.536347  1.378155 -0.338321   \n",
       "1            0.0   1.191857   0.266151  0.166480  0.448154  0.060018   \n",
       "2            1.0  -1.358354  -1.340163  1.773209  0.379780 -0.503198   \n",
       "3            1.0  -0.966272  -0.185226  1.792993 -0.863291 -0.010309   \n",
       "4            2.0  -1.158233   0.877737  1.548718  0.403034 -0.407193   \n",
       "...          ...        ...        ...       ...       ...       ...   \n",
       "284802  172786.0 -11.881118  10.071785 -9.834783 -2.066656 -5.364473   \n",
       "284803  172787.0  -0.732789  -0.055080  2.035030 -0.738589  0.868229   \n",
       "284804  172788.0   1.919565  -0.301254 -3.249640 -0.557828  2.630515   \n",
       "284805  172788.0  -0.240440   0.530483  0.702510  0.689799 -0.377961   \n",
       "284806  172792.0  -0.533413  -0.189733  0.703337 -0.506271 -0.012546   \n",
       "\n",
       "              V6        V7        V8        V9  ...       V21       V22  \\\n",
       "0       0.462388  0.239599  0.098698  0.363787  ... -0.018307  0.277838   \n",
       "1      -0.082361 -0.078803  0.085102 -0.255425  ... -0.225775 -0.638672   \n",
       "2       1.800499  0.791461  0.247676 -1.514654  ...  0.247998  0.771679   \n",
       "3       1.247203  0.237609  0.377436 -1.387024  ... -0.108300  0.005274   \n",
       "4       0.095921  0.592941 -0.270533  0.817739  ... -0.009431  0.798278   \n",
       "...          ...       ...       ...       ...  ...       ...       ...   \n",
       "284802 -2.606837 -4.918215  7.305334  1.914428  ...  0.213454  0.111864   \n",
       "284803  1.058415  0.024330  0.294869  0.584800  ...  0.214205  0.924384   \n",
       "284804  3.031260 -0.296827  0.708417  0.432454  ...  0.232045  0.578229   \n",
       "284805  0.623708 -0.686180  0.679145  0.392087  ...  0.265245  0.800049   \n",
       "284806 -0.649617  1.577006 -0.414650  0.486180  ...  0.261057  0.643078   \n",
       "\n",
       "             V23       V24       V25       V26       V27       V28  Amount  \\\n",
       "0      -0.110474  0.066928  0.128539 -0.189115  0.133558 -0.021053  149.62   \n",
       "1       0.101288 -0.339846  0.167170  0.125895 -0.008983  0.014724    2.69   \n",
       "2       0.909412 -0.689281 -0.327642 -0.139097 -0.055353 -0.059752  378.66   \n",
       "3      -0.190321 -1.175575  0.647376 -0.221929  0.062723  0.061458  123.50   \n",
       "4      -0.137458  0.141267 -0.206010  0.502292  0.219422  0.215153   69.99   \n",
       "...          ...       ...       ...       ...       ...       ...     ...   \n",
       "284802  1.014480 -0.509348  1.436807  0.250034  0.943651  0.823731    0.77   \n",
       "284803  0.012463 -1.016226 -0.606624 -0.395255  0.068472 -0.053527   24.79   \n",
       "284804 -0.037501  0.640134  0.265745 -0.087371  0.004455 -0.026561   67.88   \n",
       "284805 -0.163298  0.123205 -0.569159  0.546668  0.108821  0.104533   10.00   \n",
       "284806  0.376777  0.008797 -0.473649 -0.818267 -0.002415  0.013649  217.00   \n",
       "\n",
       "        Class  \n",
       "0           0  \n",
       "1           0  \n",
       "2           0  \n",
       "3           0  \n",
       "4           0  \n",
       "...       ...  \n",
       "284802      0  \n",
       "284803      0  \n",
       "284804      0  \n",
       "284805      0  \n",
       "284806      0  \n",
       "\n",
       "[284807 rows x 31 columns]"
      ]
     },
     "execution_count": 3,
     "metadata": {},
     "output_type": "execute_result"
    }
   ],
   "source": [
    "data"
   ]
  },
  {
   "cell_type": "code",
   "execution_count": 4,
   "id": "9af26bb8",
   "metadata": {},
   "outputs": [],
   "source": [
    "data.drop(columns=['Class'],inplace=True)"
   ]
  },
  {
   "cell_type": "code",
   "execution_count": 5,
   "id": "01be756d",
   "metadata": {},
   "outputs": [
    {
     "name": "stdout",
     "output_type": "stream",
     "text": [
      "<class 'pandas.core.frame.DataFrame'>\n",
      "RangeIndex: 284807 entries, 0 to 284806\n",
      "Data columns (total 30 columns):\n",
      " #   Column  Non-Null Count   Dtype  \n",
      "---  ------  --------------   -----  \n",
      " 0   Time    284807 non-null  float64\n",
      " 1   V1      284807 non-null  float64\n",
      " 2   V2      284807 non-null  float64\n",
      " 3   V3      284807 non-null  float64\n",
      " 4   V4      284807 non-null  float64\n",
      " 5   V5      284807 non-null  float64\n",
      " 6   V6      284807 non-null  float64\n",
      " 7   V7      284807 non-null  float64\n",
      " 8   V8      284807 non-null  float64\n",
      " 9   V9      284807 non-null  float64\n",
      " 10  V10     284807 non-null  float64\n",
      " 11  V11     284807 non-null  float64\n",
      " 12  V12     284807 non-null  float64\n",
      " 13  V13     284807 non-null  float64\n",
      " 14  V14     284807 non-null  float64\n",
      " 15  V15     284807 non-null  float64\n",
      " 16  V16     284807 non-null  float64\n",
      " 17  V17     284807 non-null  float64\n",
      " 18  V18     284807 non-null  float64\n",
      " 19  V19     284807 non-null  float64\n",
      " 20  V20     284807 non-null  float64\n",
      " 21  V21     284807 non-null  float64\n",
      " 22  V22     284807 non-null  float64\n",
      " 23  V23     284807 non-null  float64\n",
      " 24  V24     284807 non-null  float64\n",
      " 25  V25     284807 non-null  float64\n",
      " 26  V26     284807 non-null  float64\n",
      " 27  V27     284807 non-null  float64\n",
      " 28  V28     284807 non-null  float64\n",
      " 29  Amount  284807 non-null  float64\n",
      "dtypes: float64(30)\n",
      "memory usage: 65.2 MB\n"
     ]
    }
   ],
   "source": [
    "data.info()"
   ]
  },
  {
   "cell_type": "code",
   "execution_count": 6,
   "id": "e013bf08",
   "metadata": {},
   "outputs": [
    {
     "data": {
      "text/plain": [
       "Time      0\n",
       "V1        0\n",
       "V2        0\n",
       "V3        0\n",
       "V4        0\n",
       "V5        0\n",
       "V6        0\n",
       "V7        0\n",
       "V8        0\n",
       "V9        0\n",
       "V10       0\n",
       "V11       0\n",
       "V12       0\n",
       "V13       0\n",
       "V14       0\n",
       "V15       0\n",
       "V16       0\n",
       "V17       0\n",
       "V18       0\n",
       "V19       0\n",
       "V20       0\n",
       "V21       0\n",
       "V22       0\n",
       "V23       0\n",
       "V24       0\n",
       "V25       0\n",
       "V26       0\n",
       "V27       0\n",
       "V28       0\n",
       "Amount    0\n",
       "dtype: int64"
      ]
     },
     "execution_count": 6,
     "metadata": {},
     "output_type": "execute_result"
    }
   ],
   "source": [
    "data.isnull().sum()"
   ]
  },
  {
   "cell_type": "code",
   "execution_count": 7,
   "id": "d99050a9",
   "metadata": {},
   "outputs": [
    {
     "data": {
      "text/plain": [
       "(284807, 30)"
      ]
     },
     "execution_count": 7,
     "metadata": {},
     "output_type": "execute_result"
    }
   ],
   "source": [
    "data.shape"
   ]
  },
  {
   "cell_type": "markdown",
   "id": "3095e792",
   "metadata": {},
   "source": [
    "A small standard deviation (std) means the data is tightly grouped around the mean, but that doesn’t always mean the distribution is “good” or “normal.” We can check distribution usinh histplot or distplot\n",
    "\n"
   ]
  },
  {
   "cell_type": "code",
   "execution_count": 8,
   "id": "1d091736",
   "metadata": {},
   "outputs": [
    {
     "data": {
      "text/html": [
       "<div>\n",
       "<style scoped>\n",
       "    .dataframe tbody tr th:only-of-type {\n",
       "        vertical-align: middle;\n",
       "    }\n",
       "\n",
       "    .dataframe tbody tr th {\n",
       "        vertical-align: top;\n",
       "    }\n",
       "\n",
       "    .dataframe thead th {\n",
       "        text-align: right;\n",
       "    }\n",
       "</style>\n",
       "<table border=\"1\" class=\"dataframe\">\n",
       "  <thead>\n",
       "    <tr style=\"text-align: right;\">\n",
       "      <th></th>\n",
       "      <th>Time</th>\n",
       "      <th>V1</th>\n",
       "      <th>V2</th>\n",
       "      <th>V3</th>\n",
       "      <th>V4</th>\n",
       "      <th>V5</th>\n",
       "      <th>V6</th>\n",
       "      <th>V7</th>\n",
       "      <th>V8</th>\n",
       "      <th>V9</th>\n",
       "      <th>...</th>\n",
       "      <th>V20</th>\n",
       "      <th>V21</th>\n",
       "      <th>V22</th>\n",
       "      <th>V23</th>\n",
       "      <th>V24</th>\n",
       "      <th>V25</th>\n",
       "      <th>V26</th>\n",
       "      <th>V27</th>\n",
       "      <th>V28</th>\n",
       "      <th>Amount</th>\n",
       "    </tr>\n",
       "  </thead>\n",
       "  <tbody>\n",
       "    <tr>\n",
       "      <th>count</th>\n",
       "      <td>284807.000000</td>\n",
       "      <td>2.848070e+05</td>\n",
       "      <td>2.848070e+05</td>\n",
       "      <td>2.848070e+05</td>\n",
       "      <td>2.848070e+05</td>\n",
       "      <td>2.848070e+05</td>\n",
       "      <td>2.848070e+05</td>\n",
       "      <td>2.848070e+05</td>\n",
       "      <td>2.848070e+05</td>\n",
       "      <td>2.848070e+05</td>\n",
       "      <td>...</td>\n",
       "      <td>2.848070e+05</td>\n",
       "      <td>2.848070e+05</td>\n",
       "      <td>2.848070e+05</td>\n",
       "      <td>2.848070e+05</td>\n",
       "      <td>2.848070e+05</td>\n",
       "      <td>2.848070e+05</td>\n",
       "      <td>2.848070e+05</td>\n",
       "      <td>2.848070e+05</td>\n",
       "      <td>2.848070e+05</td>\n",
       "      <td>284807.000000</td>\n",
       "    </tr>\n",
       "    <tr>\n",
       "      <th>mean</th>\n",
       "      <td>94813.859575</td>\n",
       "      <td>1.168375e-15</td>\n",
       "      <td>3.416908e-16</td>\n",
       "      <td>-1.379537e-15</td>\n",
       "      <td>2.074095e-15</td>\n",
       "      <td>9.604066e-16</td>\n",
       "      <td>1.487313e-15</td>\n",
       "      <td>-5.556467e-16</td>\n",
       "      <td>1.213481e-16</td>\n",
       "      <td>-2.406331e-15</td>\n",
       "      <td>...</td>\n",
       "      <td>6.406204e-16</td>\n",
       "      <td>1.654067e-16</td>\n",
       "      <td>-3.568593e-16</td>\n",
       "      <td>2.578648e-16</td>\n",
       "      <td>4.473266e-15</td>\n",
       "      <td>5.340915e-16</td>\n",
       "      <td>1.683437e-15</td>\n",
       "      <td>-3.660091e-16</td>\n",
       "      <td>-1.227390e-16</td>\n",
       "      <td>88.349619</td>\n",
       "    </tr>\n",
       "    <tr>\n",
       "      <th>std</th>\n",
       "      <td>47488.145955</td>\n",
       "      <td>1.958696e+00</td>\n",
       "      <td>1.651309e+00</td>\n",
       "      <td>1.516255e+00</td>\n",
       "      <td>1.415869e+00</td>\n",
       "      <td>1.380247e+00</td>\n",
       "      <td>1.332271e+00</td>\n",
       "      <td>1.237094e+00</td>\n",
       "      <td>1.194353e+00</td>\n",
       "      <td>1.098632e+00</td>\n",
       "      <td>...</td>\n",
       "      <td>7.709250e-01</td>\n",
       "      <td>7.345240e-01</td>\n",
       "      <td>7.257016e-01</td>\n",
       "      <td>6.244603e-01</td>\n",
       "      <td>6.056471e-01</td>\n",
       "      <td>5.212781e-01</td>\n",
       "      <td>4.822270e-01</td>\n",
       "      <td>4.036325e-01</td>\n",
       "      <td>3.300833e-01</td>\n",
       "      <td>250.120109</td>\n",
       "    </tr>\n",
       "    <tr>\n",
       "      <th>min</th>\n",
       "      <td>0.000000</td>\n",
       "      <td>-5.640751e+01</td>\n",
       "      <td>-7.271573e+01</td>\n",
       "      <td>-4.832559e+01</td>\n",
       "      <td>-5.683171e+00</td>\n",
       "      <td>-1.137433e+02</td>\n",
       "      <td>-2.616051e+01</td>\n",
       "      <td>-4.355724e+01</td>\n",
       "      <td>-7.321672e+01</td>\n",
       "      <td>-1.343407e+01</td>\n",
       "      <td>...</td>\n",
       "      <td>-5.449772e+01</td>\n",
       "      <td>-3.483038e+01</td>\n",
       "      <td>-1.093314e+01</td>\n",
       "      <td>-4.480774e+01</td>\n",
       "      <td>-2.836627e+00</td>\n",
       "      <td>-1.029540e+01</td>\n",
       "      <td>-2.604551e+00</td>\n",
       "      <td>-2.256568e+01</td>\n",
       "      <td>-1.543008e+01</td>\n",
       "      <td>0.000000</td>\n",
       "    </tr>\n",
       "    <tr>\n",
       "      <th>25%</th>\n",
       "      <td>54201.500000</td>\n",
       "      <td>-9.203734e-01</td>\n",
       "      <td>-5.985499e-01</td>\n",
       "      <td>-8.903648e-01</td>\n",
       "      <td>-8.486401e-01</td>\n",
       "      <td>-6.915971e-01</td>\n",
       "      <td>-7.682956e-01</td>\n",
       "      <td>-5.540759e-01</td>\n",
       "      <td>-2.086297e-01</td>\n",
       "      <td>-6.430976e-01</td>\n",
       "      <td>...</td>\n",
       "      <td>-2.117214e-01</td>\n",
       "      <td>-2.283949e-01</td>\n",
       "      <td>-5.423504e-01</td>\n",
       "      <td>-1.618463e-01</td>\n",
       "      <td>-3.545861e-01</td>\n",
       "      <td>-3.171451e-01</td>\n",
       "      <td>-3.269839e-01</td>\n",
       "      <td>-7.083953e-02</td>\n",
       "      <td>-5.295979e-02</td>\n",
       "      <td>5.600000</td>\n",
       "    </tr>\n",
       "    <tr>\n",
       "      <th>50%</th>\n",
       "      <td>84692.000000</td>\n",
       "      <td>1.810880e-02</td>\n",
       "      <td>6.548556e-02</td>\n",
       "      <td>1.798463e-01</td>\n",
       "      <td>-1.984653e-02</td>\n",
       "      <td>-5.433583e-02</td>\n",
       "      <td>-2.741871e-01</td>\n",
       "      <td>4.010308e-02</td>\n",
       "      <td>2.235804e-02</td>\n",
       "      <td>-5.142873e-02</td>\n",
       "      <td>...</td>\n",
       "      <td>-6.248109e-02</td>\n",
       "      <td>-2.945017e-02</td>\n",
       "      <td>6.781943e-03</td>\n",
       "      <td>-1.119293e-02</td>\n",
       "      <td>4.097606e-02</td>\n",
       "      <td>1.659350e-02</td>\n",
       "      <td>-5.213911e-02</td>\n",
       "      <td>1.342146e-03</td>\n",
       "      <td>1.124383e-02</td>\n",
       "      <td>22.000000</td>\n",
       "    </tr>\n",
       "    <tr>\n",
       "      <th>75%</th>\n",
       "      <td>139320.500000</td>\n",
       "      <td>1.315642e+00</td>\n",
       "      <td>8.037239e-01</td>\n",
       "      <td>1.027196e+00</td>\n",
       "      <td>7.433413e-01</td>\n",
       "      <td>6.119264e-01</td>\n",
       "      <td>3.985649e-01</td>\n",
       "      <td>5.704361e-01</td>\n",
       "      <td>3.273459e-01</td>\n",
       "      <td>5.971390e-01</td>\n",
       "      <td>...</td>\n",
       "      <td>1.330408e-01</td>\n",
       "      <td>1.863772e-01</td>\n",
       "      <td>5.285536e-01</td>\n",
       "      <td>1.476421e-01</td>\n",
       "      <td>4.395266e-01</td>\n",
       "      <td>3.507156e-01</td>\n",
       "      <td>2.409522e-01</td>\n",
       "      <td>9.104512e-02</td>\n",
       "      <td>7.827995e-02</td>\n",
       "      <td>77.165000</td>\n",
       "    </tr>\n",
       "    <tr>\n",
       "      <th>max</th>\n",
       "      <td>172792.000000</td>\n",
       "      <td>2.454930e+00</td>\n",
       "      <td>2.205773e+01</td>\n",
       "      <td>9.382558e+00</td>\n",
       "      <td>1.687534e+01</td>\n",
       "      <td>3.480167e+01</td>\n",
       "      <td>7.330163e+01</td>\n",
       "      <td>1.205895e+02</td>\n",
       "      <td>2.000721e+01</td>\n",
       "      <td>1.559499e+01</td>\n",
       "      <td>...</td>\n",
       "      <td>3.942090e+01</td>\n",
       "      <td>2.720284e+01</td>\n",
       "      <td>1.050309e+01</td>\n",
       "      <td>2.252841e+01</td>\n",
       "      <td>4.584549e+00</td>\n",
       "      <td>7.519589e+00</td>\n",
       "      <td>3.517346e+00</td>\n",
       "      <td>3.161220e+01</td>\n",
       "      <td>3.384781e+01</td>\n",
       "      <td>25691.160000</td>\n",
       "    </tr>\n",
       "  </tbody>\n",
       "</table>\n",
       "<p>8 rows × 30 columns</p>\n",
       "</div>"
      ],
      "text/plain": [
       "                Time            V1            V2            V3            V4  \\\n",
       "count  284807.000000  2.848070e+05  2.848070e+05  2.848070e+05  2.848070e+05   \n",
       "mean    94813.859575  1.168375e-15  3.416908e-16 -1.379537e-15  2.074095e-15   \n",
       "std     47488.145955  1.958696e+00  1.651309e+00  1.516255e+00  1.415869e+00   \n",
       "min         0.000000 -5.640751e+01 -7.271573e+01 -4.832559e+01 -5.683171e+00   \n",
       "25%     54201.500000 -9.203734e-01 -5.985499e-01 -8.903648e-01 -8.486401e-01   \n",
       "50%     84692.000000  1.810880e-02  6.548556e-02  1.798463e-01 -1.984653e-02   \n",
       "75%    139320.500000  1.315642e+00  8.037239e-01  1.027196e+00  7.433413e-01   \n",
       "max    172792.000000  2.454930e+00  2.205773e+01  9.382558e+00  1.687534e+01   \n",
       "\n",
       "                 V5            V6            V7            V8            V9  \\\n",
       "count  2.848070e+05  2.848070e+05  2.848070e+05  2.848070e+05  2.848070e+05   \n",
       "mean   9.604066e-16  1.487313e-15 -5.556467e-16  1.213481e-16 -2.406331e-15   \n",
       "std    1.380247e+00  1.332271e+00  1.237094e+00  1.194353e+00  1.098632e+00   \n",
       "min   -1.137433e+02 -2.616051e+01 -4.355724e+01 -7.321672e+01 -1.343407e+01   \n",
       "25%   -6.915971e-01 -7.682956e-01 -5.540759e-01 -2.086297e-01 -6.430976e-01   \n",
       "50%   -5.433583e-02 -2.741871e-01  4.010308e-02  2.235804e-02 -5.142873e-02   \n",
       "75%    6.119264e-01  3.985649e-01  5.704361e-01  3.273459e-01  5.971390e-01   \n",
       "max    3.480167e+01  7.330163e+01  1.205895e+02  2.000721e+01  1.559499e+01   \n",
       "\n",
       "       ...           V20           V21           V22           V23  \\\n",
       "count  ...  2.848070e+05  2.848070e+05  2.848070e+05  2.848070e+05   \n",
       "mean   ...  6.406204e-16  1.654067e-16 -3.568593e-16  2.578648e-16   \n",
       "std    ...  7.709250e-01  7.345240e-01  7.257016e-01  6.244603e-01   \n",
       "min    ... -5.449772e+01 -3.483038e+01 -1.093314e+01 -4.480774e+01   \n",
       "25%    ... -2.117214e-01 -2.283949e-01 -5.423504e-01 -1.618463e-01   \n",
       "50%    ... -6.248109e-02 -2.945017e-02  6.781943e-03 -1.119293e-02   \n",
       "75%    ...  1.330408e-01  1.863772e-01  5.285536e-01  1.476421e-01   \n",
       "max    ...  3.942090e+01  2.720284e+01  1.050309e+01  2.252841e+01   \n",
       "\n",
       "                V24           V25           V26           V27           V28  \\\n",
       "count  2.848070e+05  2.848070e+05  2.848070e+05  2.848070e+05  2.848070e+05   \n",
       "mean   4.473266e-15  5.340915e-16  1.683437e-15 -3.660091e-16 -1.227390e-16   \n",
       "std    6.056471e-01  5.212781e-01  4.822270e-01  4.036325e-01  3.300833e-01   \n",
       "min   -2.836627e+00 -1.029540e+01 -2.604551e+00 -2.256568e+01 -1.543008e+01   \n",
       "25%   -3.545861e-01 -3.171451e-01 -3.269839e-01 -7.083953e-02 -5.295979e-02   \n",
       "50%    4.097606e-02  1.659350e-02 -5.213911e-02  1.342146e-03  1.124383e-02   \n",
       "75%    4.395266e-01  3.507156e-01  2.409522e-01  9.104512e-02  7.827995e-02   \n",
       "max    4.584549e+00  7.519589e+00  3.517346e+00  3.161220e+01  3.384781e+01   \n",
       "\n",
       "              Amount  \n",
       "count  284807.000000  \n",
       "mean       88.349619  \n",
       "std       250.120109  \n",
       "min         0.000000  \n",
       "25%         5.600000  \n",
       "50%        22.000000  \n",
       "75%        77.165000  \n",
       "max     25691.160000  \n",
       "\n",
       "[8 rows x 30 columns]"
      ]
     },
     "execution_count": 8,
     "metadata": {},
     "output_type": "execute_result"
    }
   ],
   "source": [
    "data.describe()"
   ]
  },
  {
   "cell_type": "markdown",
   "id": "51572438",
   "metadata": {},
   "source": [
    "If you have two features:\n",
    "\n",
    "Amount: ranges from 0 to 10,000\n",
    "\n",
    "V1: ranges from -2 to 2\n",
    "\n",
    "Then PCA or other algorithms will give more weight to Amount, just because its values are bigger, not because it’s more important! So mean =0 mean distbute points  so that all of them ceneterd at zero"
   ]
  },
  {
   "cell_type": "code",
   "execution_count": 9,
   "id": "ecd8215e",
   "metadata": {},
   "outputs": [
    {
     "name": "stderr",
     "output_type": "stream",
     "text": [
      "C:\\Users\\asus\\AppData\\Local\\Temp\\ipykernel_9820\\3758815730.py:2: UserWarning: \n",
      "\n",
      "`distplot` is a deprecated function and will be removed in seaborn v0.14.0.\n",
      "\n",
      "Please adapt your code to use either `displot` (a figure-level function with\n",
      "similar flexibility) or `histplot` (an axes-level function for histograms).\n",
      "\n",
      "For a guide to updating your code to use the new functions, please see\n",
      "https://gist.github.com/mwaskom/de44147ed2974457ad6372750bbe5751\n",
      "\n",
      "  sns.distplot(data['Amount'])\n",
      "C:\\Users\\asus\\AppData\\Local\\Temp\\ipykernel_9820\\3758815730.py:4: UserWarning: \n",
      "\n",
      "`distplot` is a deprecated function and will be removed in seaborn v0.14.0.\n",
      "\n",
      "Please adapt your code to use either `displot` (a figure-level function with\n",
      "similar flexibility) or `histplot` (an axes-level function for histograms).\n",
      "\n",
      "For a guide to updating your code to use the new functions, please see\n",
      "https://gist.github.com/mwaskom/de44147ed2974457ad6372750bbe5751\n",
      "\n",
      "  sns.distplot(data['Time'])\n"
     ]
    },
    {
     "data": {
      "text/plain": [
       "<Axes: xlabel='Time', ylabel='Density'>"
      ]
     },
     "execution_count": 9,
     "metadata": {},
     "output_type": "execute_result"
    },
    {
     "data": {
      "image/png": "[encoded data removed]",
      "text/plain": [
       "<Figure size 640x480 with 2 Axes>"
      ]
     },
     "metadata": {},
     "output_type": "display_data"
    }
   ],
   "source": [
    "\n",
    "plt.subplot(1,2,1)\n",
    "sns.distplot(data['Amount'])\n",
    "plt.subplot(1,2,2)\n",
    "sns.distplot(data['Time'])\n",
    "\n"
   ]
  },
  {
   "cell_type": "markdown",
   "id": "97a31919",
   "metadata": {},
   "source": [
    "Time and amount are not distributed well"
   ]
  },
  {
   "cell_type": "markdown",
   "id": "ec5dbc79",
   "metadata": {},
   "source": [
    "Time’s large values will dominate. Models like PCA or Isolation Forest will focus mostly on Time instead of a balanced view.\n",
    "\n",
    "By standardizing:\n",
    "\n",
    "Both features will be transformed to have mean = 0 and std = 1.\n",
    "\n",
    "It puts all features on the same scale, so one feature with big numbers doesn’t dominate."
   ]
  },
  {
   "cell_type": "code",
   "execution_count": 10,
   "id": "e5d3d6ea",
   "metadata": {},
   "outputs": [
    {
     "data": {
      "text/plain": [
       "<Axes: xlabel='Time', ylabel='Count'>"
      ]
     },
     "execution_count": 10,
     "metadata": {},
     "output_type": "execute_result"
    },
    {
     "data": {
      "image/png": "[encoded data removed]",
      "text/plain": [
       "<Figure size 640x480 with 2 Axes>"
      ]
     },
     "metadata": {},
     "output_type": "display_data"
    }
   ],
   "source": [
    "\n",
    "plt.subplot(1,2,1)\n",
    "sns.histplot(data['Amount'])\n",
    "plt.subplot(1,2,2)\n",
    "sns.histplot(data['Time'])"
   ]
  },
  {
   "cell_type": "markdown",
   "id": "80be2e8d",
   "metadata": {},
   "source": [
    "Using sns.distplot, I can observe the range of values on the x-axis. If the values are close to each other and form a bell-shaped curve, it indicates that the standard deviation is low and the data is well distributed. However, if the distribution is skewed to the right or left, this suggests the presence of outliers, the values are more spread out, and the standard deviation is higher."
   ]
  },
  {
   "cell_type": "markdown",
   "id": "d3ba45b3",
   "metadata": {},
   "source": [
    "Machine learnng doesnot understand the unit of values of data so data scaling should be applies:\n",
    "\n",
    "1. If feature is skewed, has outliers or non-Gaussian, normalization often works better to squash values into a range.(range values btw 0 and 1)\n",
    "\n",
    "2. If feature is roughly Gaussian, standardization works well.(mean =0 and std=1)\n",
    "\n",
    "This data scaling shoud be done before PCA and clustering"
   ]
  },
  {
   "cell_type": "markdown",
   "id": "85ce6118",
   "metadata": {},
   "source": [
    "StandardScaler → for PCA ✅\n",
    "\n",
    "PCA → reduce dimensions ✅\n",
    "\n",
    "MinMaxScaler → for clustering ✅"
   ]
  },
  {
   "cell_type": "markdown",
   "id": "3f1a93c7",
   "metadata": {},
   "source": [
    "Step 1: Before PCA\n",
    "Always apply Standardization (use StandardScaler) to all features.\n",
    "\n",
    "This means: subtract the mean and divide by the standard deviation for each feature.\n",
    "\n",
    "Why? PCA works best when data is centered and scaled.\n",
    "\n",
    "Step 2: Before K-Means Clustering\n",
    "Check the shape of your features’ distributions (you can use a histogram or distplot).\n",
    "\n",
    "For features that look like a bell curve (Gaussian/normal): apply Standardization (same as step 1).\n",
    "\n",
    "For features that look skewed or have outliers: apply Normalization (use MinMaxScaler) to squash values between 0 and 1."
   ]
  },
  {
   "cell_type": "code",
   "execution_count": 11,
   "id": "64a03cdd",
   "metadata": {},
   "outputs": [],
   "source": [
    "from sklearn.preprocessing import StandardScaler,MinMaxScaler\n",
    "mms=MinMaxScaler()\n",
    "ss=StandardScaler()"
   ]
  },
  {
   "cell_type": "markdown",
   "id": "d0f136e0",
   "metadata": {},
   "source": [
    "\n",
    "1. Time (in seconds)\n",
    "\n",
    "2. Amount (in dollars)\n",
    "\n",
    "3. V1 to V28 (PCA-transformed, unitless)\n",
    "\n",
    "4. Then we MUST apply data scaling before using most machine learning models.\n",
    "\n",
    "5. When to Use Standardization (Mean=0, Std=1):\n",
    "    - When features have different units or scales and you want to center data and make variances comparable.\n",
    "\n",
    "    - When using PCA, SVM, Isolation Forest, or other algorithms that assume data is centered.\n",
    "\n",
    "6. When to Use Normalization (Scaling to [0,1]):\n",
    "\n",
    "     - When features have different units but you want all values bounded in the same range.\n",
    "\n",
    "     - When using algorithms sensitive to distance and where relative scale matters, such as(Clustering (KMEAN....),AUtoencoder)\n",
    "\n"
   ]
  },
  {
   "cell_type": "code",
   "execution_count": 12,
   "id": "40afcb12",
   "metadata": {},
   "outputs": [
    {
     "data": {
      "text/plain": [
       "['Time',\n",
       " 'V1',\n",
       " 'V2',\n",
       " 'V3',\n",
       " 'V4',\n",
       " 'V5',\n",
       " 'V6',\n",
       " 'V7',\n",
       " 'V8',\n",
       " 'V9',\n",
       " 'V10',\n",
       " 'V11',\n",
       " 'V12',\n",
       " 'V13',\n",
       " 'V14',\n",
       " 'V15',\n",
       " 'V16',\n",
       " 'V17',\n",
       " 'V18',\n",
       " 'V19',\n",
       " 'V20',\n",
       " 'V21',\n",
       " 'V22',\n",
       " 'V23',\n",
       " 'V24',\n",
       " 'V25',\n",
       " 'V26',\n",
       " 'V27',\n",
       " 'V28',\n",
       " 'Amount']"
      ]
     },
     "execution_count": 12,
     "metadata": {},
     "output_type": "execute_result"
    }
   ],
   "source": [
    "#standarization before PCA because all fetaures have # unit\n",
    "c=list(data.columns)\n",
    "c\n"
   ]
  },
  {
   "cell_type": "code",
   "execution_count": 13,
   "id": "684c7b8c",
   "metadata": {},
   "outputs": [],
   "source": [
    "for i in c:\n",
    "    data[i]=ss.fit_transform(data[[i]])"
   ]
  },
  {
   "cell_type": "code",
   "execution_count": 14,
   "id": "45bcdda6",
   "metadata": {},
   "outputs": [
    {
     "data": {
      "text/html": [
       "<div>\n",
       "<style scoped>\n",
       "    .dataframe tbody tr th:only-of-type {\n",
       "        vertical-align: middle;\n",
       "    }\n",
       "\n",
       "    .dataframe tbody tr th {\n",
       "        vertical-align: top;\n",
       "    }\n",
       "\n",
       "    .dataframe thead th {\n",
       "        text-align: right;\n",
       "    }\n",
       "</style>\n",
       "<table border=\"1\" class=\"dataframe\">\n",
       "  <thead>\n",
       "    <tr style=\"text-align: right;\">\n",
       "      <th></th>\n",
       "      <th>Time</th>\n",
       "      <th>V1</th>\n",
       "      <th>V2</th>\n",
       "      <th>V3</th>\n",
       "      <th>V4</th>\n",
       "      <th>V5</th>\n",
       "      <th>V6</th>\n",
       "      <th>V7</th>\n",
       "      <th>V8</th>\n",
       "      <th>V9</th>\n",
       "      <th>...</th>\n",
       "      <th>V20</th>\n",
       "      <th>V21</th>\n",
       "      <th>V22</th>\n",
       "      <th>V23</th>\n",
       "      <th>V24</th>\n",
       "      <th>V25</th>\n",
       "      <th>V26</th>\n",
       "      <th>V27</th>\n",
       "      <th>V28</th>\n",
       "      <th>Amount</th>\n",
       "    </tr>\n",
       "  </thead>\n",
       "  <tbody>\n",
       "    <tr>\n",
       "      <th>0</th>\n",
       "      <td>-1.996583</td>\n",
       "      <td>-0.694242</td>\n",
       "      <td>-0.044075</td>\n",
       "      <td>1.672773</td>\n",
       "      <td>0.973366</td>\n",
       "      <td>-0.245117</td>\n",
       "      <td>0.347068</td>\n",
       "      <td>0.193679</td>\n",
       "      <td>0.082637</td>\n",
       "      <td>0.331128</td>\n",
       "      <td>...</td>\n",
       "      <td>0.326118</td>\n",
       "      <td>-0.024923</td>\n",
       "      <td>0.382854</td>\n",
       "      <td>-0.176911</td>\n",
       "      <td>0.110507</td>\n",
       "      <td>0.246585</td>\n",
       "      <td>-0.392170</td>\n",
       "      <td>0.330892</td>\n",
       "      <td>-0.063781</td>\n",
       "      <td>0.244964</td>\n",
       "    </tr>\n",
       "    <tr>\n",
       "      <th>1</th>\n",
       "      <td>-1.996583</td>\n",
       "      <td>0.608496</td>\n",
       "      <td>0.161176</td>\n",
       "      <td>0.109797</td>\n",
       "      <td>0.316523</td>\n",
       "      <td>0.043483</td>\n",
       "      <td>-0.061820</td>\n",
       "      <td>-0.063700</td>\n",
       "      <td>0.071253</td>\n",
       "      <td>-0.232494</td>\n",
       "      <td>...</td>\n",
       "      <td>-0.089611</td>\n",
       "      <td>-0.307377</td>\n",
       "      <td>-0.880077</td>\n",
       "      <td>0.162201</td>\n",
       "      <td>-0.561131</td>\n",
       "      <td>0.320694</td>\n",
       "      <td>0.261069</td>\n",
       "      <td>-0.022256</td>\n",
       "      <td>0.044608</td>\n",
       "      <td>-0.342475</td>\n",
       "    </tr>\n",
       "    <tr>\n",
       "      <th>2</th>\n",
       "      <td>-1.996562</td>\n",
       "      <td>-0.693500</td>\n",
       "      <td>-0.811578</td>\n",
       "      <td>1.169468</td>\n",
       "      <td>0.268231</td>\n",
       "      <td>-0.364572</td>\n",
       "      <td>1.351454</td>\n",
       "      <td>0.639776</td>\n",
       "      <td>0.207373</td>\n",
       "      <td>-1.378675</td>\n",
       "      <td>...</td>\n",
       "      <td>0.680975</td>\n",
       "      <td>0.337632</td>\n",
       "      <td>1.063358</td>\n",
       "      <td>1.456320</td>\n",
       "      <td>-1.138092</td>\n",
       "      <td>-0.628537</td>\n",
       "      <td>-0.288447</td>\n",
       "      <td>-0.137137</td>\n",
       "      <td>-0.181021</td>\n",
       "      <td>1.160686</td>\n",
       "    </tr>\n",
       "    <tr>\n",
       "      <th>3</th>\n",
       "      <td>-1.996562</td>\n",
       "      <td>-0.493325</td>\n",
       "      <td>-0.112169</td>\n",
       "      <td>1.182516</td>\n",
       "      <td>-0.609727</td>\n",
       "      <td>-0.007469</td>\n",
       "      <td>0.936150</td>\n",
       "      <td>0.192071</td>\n",
       "      <td>0.316018</td>\n",
       "      <td>-1.262503</td>\n",
       "      <td>...</td>\n",
       "      <td>-0.269855</td>\n",
       "      <td>-0.147443</td>\n",
       "      <td>0.007267</td>\n",
       "      <td>-0.304777</td>\n",
       "      <td>-1.941027</td>\n",
       "      <td>1.241904</td>\n",
       "      <td>-0.460217</td>\n",
       "      <td>0.155396</td>\n",
       "      <td>0.186189</td>\n",
       "      <td>0.140534</td>\n",
       "    </tr>\n",
       "    <tr>\n",
       "      <th>4</th>\n",
       "      <td>-1.996541</td>\n",
       "      <td>-0.591330</td>\n",
       "      <td>0.531541</td>\n",
       "      <td>1.021412</td>\n",
       "      <td>0.284655</td>\n",
       "      <td>-0.295015</td>\n",
       "      <td>0.071999</td>\n",
       "      <td>0.479302</td>\n",
       "      <td>-0.226510</td>\n",
       "      <td>0.744326</td>\n",
       "      <td>...</td>\n",
       "      <td>0.529939</td>\n",
       "      <td>-0.012839</td>\n",
       "      <td>1.100011</td>\n",
       "      <td>-0.220123</td>\n",
       "      <td>0.233250</td>\n",
       "      <td>-0.395202</td>\n",
       "      <td>1.041611</td>\n",
       "      <td>0.543620</td>\n",
       "      <td>0.651816</td>\n",
       "      <td>-0.073403</td>\n",
       "    </tr>\n",
       "  </tbody>\n",
       "</table>\n",
       "<p>5 rows × 30 columns</p>\n",
       "</div>"
      ],
      "text/plain": [
       "       Time        V1        V2        V3        V4        V5        V6  \\\n",
       "0 -1.996583 -0.694242 -0.044075  1.672773  0.973366 -0.245117  0.347068   \n",
       "1 -1.996583  0.608496  0.161176  0.109797  0.316523  0.043483 -0.061820   \n",
       "2 -1.996562 -0.693500 -0.811578  1.169468  0.268231 -0.364572  1.351454   \n",
       "3 -1.996562 -0.493325 -0.112169  1.182516 -0.609727 -0.007469  0.936150   \n",
       "4 -1.996541 -0.591330  0.531541  1.021412  0.284655 -0.295015  0.071999   \n",
       "\n",
       "         V7        V8        V9  ...       V20       V21       V22       V23  \\\n",
       "0  0.193679  0.082637  0.331128  ...  0.326118 -0.024923  0.382854 -0.176911   \n",
       "1 -0.063700  0.071253 -0.232494  ... -0.089611 -0.307377 -0.880077  0.162201   \n",
       "2  0.639776  0.207373 -1.378675  ...  0.680975  0.337632  1.063358  1.456320   \n",
       "3  0.192071  0.316018 -1.262503  ... -0.269855 -0.147443  0.007267 -0.304777   \n",
       "4  0.479302 -0.226510  0.744326  ...  0.529939 -0.012839  1.100011 -0.220123   \n",
       "\n",
       "        V24       V25       V26       V27       V28    Amount  \n",
       "0  0.110507  0.246585 -0.392170  0.330892 -0.063781  0.244964  \n",
       "1 -0.561131  0.320694  0.261069 -0.022256  0.044608 -0.342475  \n",
       "2 -1.138092 -0.628537 -0.288447 -0.137137 -0.181021  1.160686  \n",
       "3 -1.941027  1.241904 -0.460217  0.155396  0.186189  0.140534  \n",
       "4  0.233250 -0.395202  1.041611  0.543620  0.651816 -0.073403  \n",
       "\n",
       "[5 rows x 30 columns]"
      ]
     },
     "execution_count": 14,
     "metadata": {},
     "output_type": "execute_result"
    }
   ],
   "source": [
    "data.head()"
   ]
  },
  {
   "cell_type": "code",
   "execution_count": 15,
   "id": "e5ee1bb8",
   "metadata": {},
   "outputs": [
    {
     "data": {
      "text/html": [
       "<div>\n",
       "<style scoped>\n",
       "    .dataframe tbody tr th:only-of-type {\n",
       "        vertical-align: middle;\n",
       "    }\n",
       "\n",
       "    .dataframe tbody tr th {\n",
       "        vertical-align: top;\n",
       "    }\n",
       "\n",
       "    .dataframe thead th {\n",
       "        text-align: right;\n",
       "    }\n",
       "</style>\n",
       "<table border=\"1\" class=\"dataframe\">\n",
       "  <thead>\n",
       "    <tr style=\"text-align: right;\">\n",
       "      <th></th>\n",
       "      <th>Time</th>\n",
       "      <th>V1</th>\n",
       "      <th>V2</th>\n",
       "      <th>V3</th>\n",
       "      <th>V4</th>\n",
       "      <th>V5</th>\n",
       "      <th>V6</th>\n",
       "      <th>V7</th>\n",
       "      <th>V8</th>\n",
       "      <th>V9</th>\n",
       "      <th>...</th>\n",
       "      <th>V20</th>\n",
       "      <th>V21</th>\n",
       "      <th>V22</th>\n",
       "      <th>V23</th>\n",
       "      <th>V24</th>\n",
       "      <th>V25</th>\n",
       "      <th>V26</th>\n",
       "      <th>V27</th>\n",
       "      <th>V28</th>\n",
       "      <th>Amount</th>\n",
       "    </tr>\n",
       "  </thead>\n",
       "  <tbody>\n",
       "    <tr>\n",
       "      <th>count</th>\n",
       "      <td>2.848070e+05</td>\n",
       "      <td>2.848070e+05</td>\n",
       "      <td>2.848070e+05</td>\n",
       "      <td>2.848070e+05</td>\n",
       "      <td>2.848070e+05</td>\n",
       "      <td>2.848070e+05</td>\n",
       "      <td>2.848070e+05</td>\n",
       "      <td>2.848070e+05</td>\n",
       "      <td>2.848070e+05</td>\n",
       "      <td>2.848070e+05</td>\n",
       "      <td>...</td>\n",
       "      <td>2.848070e+05</td>\n",
       "      <td>2.848070e+05</td>\n",
       "      <td>2.848070e+05</td>\n",
       "      <td>2.848070e+05</td>\n",
       "      <td>2.848070e+05</td>\n",
       "      <td>2.848070e+05</td>\n",
       "      <td>2.848070e+05</td>\n",
       "      <td>2.848070e+05</td>\n",
       "      <td>2.848070e+05</td>\n",
       "      <td>2.848070e+05</td>\n",
       "    </tr>\n",
       "    <tr>\n",
       "      <th>mean</th>\n",
       "      <td>-3.065637e-16</td>\n",
       "      <td>-1.506872e-17</td>\n",
       "      <td>-9.580116e-18</td>\n",
       "      <td>-8.622104e-17</td>\n",
       "      <td>-5.189230e-18</td>\n",
       "      <td>3.832046e-17</td>\n",
       "      <td>9.979288e-18</td>\n",
       "      <td>1.237432e-17</td>\n",
       "      <td>-3.193372e-18</td>\n",
       "      <td>7.234983e-19</td>\n",
       "      <td>...</td>\n",
       "      <td>-1.247411e-18</td>\n",
       "      <td>-3.642440e-18</td>\n",
       "      <td>3.193372e-18</td>\n",
       "      <td>8.781773e-18</td>\n",
       "      <td>9.580116e-18</td>\n",
       "      <td>-5.029561e-17</td>\n",
       "      <td>5.887780e-18</td>\n",
       "      <td>2.444925e-18</td>\n",
       "      <td>-7.908585e-18</td>\n",
       "      <td>2.913952e-17</td>\n",
       "    </tr>\n",
       "    <tr>\n",
       "      <th>std</th>\n",
       "      <td>1.000002e+00</td>\n",
       "      <td>1.000002e+00</td>\n",
       "      <td>1.000002e+00</td>\n",
       "      <td>1.000002e+00</td>\n",
       "      <td>1.000002e+00</td>\n",
       "      <td>1.000002e+00</td>\n",
       "      <td>1.000002e+00</td>\n",
       "      <td>1.000002e+00</td>\n",
       "      <td>1.000002e+00</td>\n",
       "      <td>1.000002e+00</td>\n",
       "      <td>...</td>\n",
       "      <td>1.000002e+00</td>\n",
       "      <td>1.000002e+00</td>\n",
       "      <td>1.000002e+00</td>\n",
       "      <td>1.000002e+00</td>\n",
       "      <td>1.000002e+00</td>\n",
       "      <td>1.000002e+00</td>\n",
       "      <td>1.000002e+00</td>\n",
       "      <td>1.000002e+00</td>\n",
       "      <td>1.000002e+00</td>\n",
       "      <td>1.000002e+00</td>\n",
       "    </tr>\n",
       "    <tr>\n",
       "      <th>min</th>\n",
       "      <td>-1.996583e+00</td>\n",
       "      <td>-2.879855e+01</td>\n",
       "      <td>-4.403529e+01</td>\n",
       "      <td>-3.187173e+01</td>\n",
       "      <td>-4.013919e+00</td>\n",
       "      <td>-8.240810e+01</td>\n",
       "      <td>-1.963606e+01</td>\n",
       "      <td>-3.520940e+01</td>\n",
       "      <td>-6.130252e+01</td>\n",
       "      <td>-1.222802e+01</td>\n",
       "      <td>...</td>\n",
       "      <td>-7.069146e+01</td>\n",
       "      <td>-4.741907e+01</td>\n",
       "      <td>-1.506565e+01</td>\n",
       "      <td>-7.175446e+01</td>\n",
       "      <td>-4.683638e+00</td>\n",
       "      <td>-1.975033e+01</td>\n",
       "      <td>-5.401098e+00</td>\n",
       "      <td>-5.590660e+01</td>\n",
       "      <td>-4.674612e+01</td>\n",
       "      <td>-3.532294e-01</td>\n",
       "    </tr>\n",
       "    <tr>\n",
       "      <th>25%</th>\n",
       "      <td>-8.552120e-01</td>\n",
       "      <td>-4.698918e-01</td>\n",
       "      <td>-3.624707e-01</td>\n",
       "      <td>-5.872142e-01</td>\n",
       "      <td>-5.993788e-01</td>\n",
       "      <td>-5.010686e-01</td>\n",
       "      <td>-5.766822e-01</td>\n",
       "      <td>-4.478860e-01</td>\n",
       "      <td>-1.746805e-01</td>\n",
       "      <td>-5.853631e-01</td>\n",
       "      <td>...</td>\n",
       "      <td>-2.746334e-01</td>\n",
       "      <td>-3.109433e-01</td>\n",
       "      <td>-7.473476e-01</td>\n",
       "      <td>-2.591784e-01</td>\n",
       "      <td>-5.854676e-01</td>\n",
       "      <td>-6.084001e-01</td>\n",
       "      <td>-6.780717e-01</td>\n",
       "      <td>-1.755053e-01</td>\n",
       "      <td>-1.604440e-01</td>\n",
       "      <td>-3.308401e-01</td>\n",
       "    </tr>\n",
       "    <tr>\n",
       "      <th>50%</th>\n",
       "      <td>-2.131453e-01</td>\n",
       "      <td>9.245351e-03</td>\n",
       "      <td>3.965683e-02</td>\n",
       "      <td>1.186124e-01</td>\n",
       "      <td>-1.401724e-02</td>\n",
       "      <td>-3.936682e-02</td>\n",
       "      <td>-2.058046e-01</td>\n",
       "      <td>3.241723e-02</td>\n",
       "      <td>1.871982e-02</td>\n",
       "      <td>-4.681169e-02</td>\n",
       "      <td>...</td>\n",
       "      <td>-8.104705e-02</td>\n",
       "      <td>-4.009429e-02</td>\n",
       "      <td>9.345377e-03</td>\n",
       "      <td>-1.792420e-02</td>\n",
       "      <td>6.765678e-02</td>\n",
       "      <td>3.183240e-02</td>\n",
       "      <td>-1.081217e-01</td>\n",
       "      <td>3.325174e-03</td>\n",
       "      <td>3.406368e-02</td>\n",
       "      <td>-2.652715e-01</td>\n",
       "    </tr>\n",
       "    <tr>\n",
       "      <th>75%</th>\n",
       "      <td>9.372174e-01</td>\n",
       "      <td>6.716939e-01</td>\n",
       "      <td>4.867202e-01</td>\n",
       "      <td>6.774569e-01</td>\n",
       "      <td>5.250082e-01</td>\n",
       "      <td>4.433465e-01</td>\n",
       "      <td>2.991625e-01</td>\n",
       "      <td>4.611107e-01</td>\n",
       "      <td>2.740785e-01</td>\n",
       "      <td>5.435305e-01</td>\n",
       "      <td>...</td>\n",
       "      <td>1.725733e-01</td>\n",
       "      <td>2.537392e-01</td>\n",
       "      <td>7.283360e-01</td>\n",
       "      <td>2.364319e-01</td>\n",
       "      <td>7.257153e-01</td>\n",
       "      <td>6.728006e-01</td>\n",
       "      <td>4.996663e-01</td>\n",
       "      <td>2.255648e-01</td>\n",
       "      <td>2.371526e-01</td>\n",
       "      <td>-4.471707e-02</td>\n",
       "    </tr>\n",
       "    <tr>\n",
       "      <th>max</th>\n",
       "      <td>1.642058e+00</td>\n",
       "      <td>1.253351e+00</td>\n",
       "      <td>1.335775e+01</td>\n",
       "      <td>6.187993e+00</td>\n",
       "      <td>1.191874e+01</td>\n",
       "      <td>2.521413e+01</td>\n",
       "      <td>5.502015e+01</td>\n",
       "      <td>9.747824e+01</td>\n",
       "      <td>1.675153e+01</td>\n",
       "      <td>1.419494e+01</td>\n",
       "      <td>...</td>\n",
       "      <td>5.113464e+01</td>\n",
       "      <td>3.703471e+01</td>\n",
       "      <td>1.447304e+01</td>\n",
       "      <td>3.607668e+01</td>\n",
       "      <td>7.569684e+00</td>\n",
       "      <td>1.442532e+01</td>\n",
       "      <td>7.293975e+00</td>\n",
       "      <td>7.831940e+01</td>\n",
       "      <td>1.025434e+02</td>\n",
       "      <td>1.023622e+02</td>\n",
       "    </tr>\n",
       "  </tbody>\n",
       "</table>\n",
       "<p>8 rows × 30 columns</p>\n",
       "</div>"
      ],
      "text/plain": [
       "               Time            V1            V2            V3            V4  \\\n",
       "count  2.848070e+05  2.848070e+05  2.848070e+05  2.848070e+05  2.848070e+05   \n",
       "mean  -3.065637e-16 -1.506872e-17 -9.580116e-18 -8.622104e-17 -5.189230e-18   \n",
       "std    1.000002e+00  1.000002e+00  1.000002e+00  1.000002e+00  1.000002e+00   \n",
       "min   -1.996583e+00 -2.879855e+01 -4.403529e+01 -3.187173e+01 -4.013919e+00   \n",
       "25%   -8.552120e-01 -4.698918e-01 -3.624707e-01 -5.872142e-01 -5.993788e-01   \n",
       "50%   -2.131453e-01  9.245351e-03  3.965683e-02  1.186124e-01 -1.401724e-02   \n",
       "75%    9.372174e-01  6.716939e-01  4.867202e-01  6.774569e-01  5.250082e-01   \n",
       "max    1.642058e+00  1.253351e+00  1.335775e+01  6.187993e+00  1.191874e+01   \n",
       "\n",
       "                 V5            V6            V7            V8            V9  \\\n",
       "count  2.848070e+05  2.848070e+05  2.848070e+05  2.848070e+05  2.848070e+05   \n",
       "mean   3.832046e-17  9.979288e-18  1.237432e-17 -3.193372e-18  7.234983e-19   \n",
       "std    1.000002e+00  1.000002e+00  1.000002e+00  1.000002e+00  1.000002e+00   \n",
       "min   -8.240810e+01 -1.963606e+01 -3.520940e+01 -6.130252e+01 -1.222802e+01   \n",
       "25%   -5.010686e-01 -5.766822e-01 -4.478860e-01 -1.746805e-01 -5.853631e-01   \n",
       "50%   -3.936682e-02 -2.058046e-01  3.241723e-02  1.871982e-02 -4.681169e-02   \n",
       "75%    4.433465e-01  2.991625e-01  4.611107e-01  2.740785e-01  5.435305e-01   \n",
       "max    2.521413e+01  5.502015e+01  9.747824e+01  1.675153e+01  1.419494e+01   \n",
       "\n",
       "       ...           V20           V21           V22           V23  \\\n",
       "count  ...  2.848070e+05  2.848070e+05  2.848070e+05  2.848070e+05   \n",
       "mean   ... -1.247411e-18 -3.642440e-18  3.193372e-18  8.781773e-18   \n",
       "std    ...  1.000002e+00  1.000002e+00  1.000002e+00  1.000002e+00   \n",
       "min    ... -7.069146e+01 -4.741907e+01 -1.506565e+01 -7.175446e+01   \n",
       "25%    ... -2.746334e-01 -3.109433e-01 -7.473476e-01 -2.591784e-01   \n",
       "50%    ... -8.104705e-02 -4.009429e-02  9.345377e-03 -1.792420e-02   \n",
       "75%    ...  1.725733e-01  2.537392e-01  7.283360e-01  2.364319e-01   \n",
       "max    ...  5.113464e+01  3.703471e+01  1.447304e+01  3.607668e+01   \n",
       "\n",
       "                V24           V25           V26           V27           V28  \\\n",
       "count  2.848070e+05  2.848070e+05  2.848070e+05  2.848070e+05  2.848070e+05   \n",
       "mean   9.580116e-18 -5.029561e-17  5.887780e-18  2.444925e-18 -7.908585e-18   \n",
       "std    1.000002e+00  1.000002e+00  1.000002e+00  1.000002e+00  1.000002e+00   \n",
       "min   -4.683638e+00 -1.975033e+01 -5.401098e+00 -5.590660e+01 -4.674612e+01   \n",
       "25%   -5.854676e-01 -6.084001e-01 -6.780717e-01 -1.755053e-01 -1.604440e-01   \n",
       "50%    6.765678e-02  3.183240e-02 -1.081217e-01  3.325174e-03  3.406368e-02   \n",
       "75%    7.257153e-01  6.728006e-01  4.996663e-01  2.255648e-01  2.371526e-01   \n",
       "max    7.569684e+00  1.442532e+01  7.293975e+00  7.831940e+01  1.025434e+02   \n",
       "\n",
       "             Amount  \n",
       "count  2.848070e+05  \n",
       "mean   2.913952e-17  \n",
       "std    1.000002e+00  \n",
       "min   -3.532294e-01  \n",
       "25%   -3.308401e-01  \n",
       "50%   -2.652715e-01  \n",
       "75%   -4.471707e-02  \n",
       "max    1.023622e+02  \n",
       "\n",
       "[8 rows x 30 columns]"
      ]
     },
     "execution_count": 15,
     "metadata": {},
     "output_type": "execute_result"
    }
   ],
   "source": [
    "data.describe()"
   ]
  },
  {
   "cell_type": "markdown",
   "id": "04e222d1",
   "metadata": {},
   "source": [
    "Now data features are standarized(same unit ) we can apply PCA to reduce number of features"
   ]
  },
  {
   "cell_type": "code",
   "execution_count": 16,
   "id": "55e7bbbb",
   "metadata": {},
   "outputs": [],
   "source": [
    "from sklearn.decomposition import PCA\n",
    "pca=PCA()"
   ]
  },
  {
   "cell_type": "code",
   "execution_count": 17,
   "id": "89586ccb",
   "metadata": {},
   "outputs": [],
   "source": [
    "new=pca.fit_transform(data)"
   ]
  },
  {
   "cell_type": "markdown",
   "id": "b988aac8",
   "metadata": {},
   "source": [
    "PCA: convert the original input features into new components and variance indicates how much the new component captures the original information."
   ]
  },
  {
   "cell_type": "markdown",
   "id": "67c22e15",
   "metadata": {},
   "source": [
    "After running PCA, we need to choose how many principal components to keep based on explained variance, then drop the rest."
   ]
  },
  {
   "cell_type": "code",
   "execution_count": 18,
   "id": "de14a956",
   "metadata": {},
   "outputs": [
    {
     "data": {
      "text/plain": [
       "array([[ 0.41663045, -2.53266428,  0.61575819, ..., -0.97450386,\n",
       "        -0.27581306,  0.02083772],\n",
       "       [-0.39345348, -2.0773255 ,  0.60029811, ...,  1.13661813,\n",
       "        -0.76458219, -0.01490406],\n",
       "       [ 1.86852545, -2.53349699, -0.07194548, ...,  0.82666618,\n",
       "        -0.21358778, -0.13526557],\n",
       "       ...,\n",
       "       [-0.19406338,  2.07078798, -0.09638461, ..., -0.04603214,\n",
       "         0.24503234,  0.00392092],\n",
       "       [-0.46608925,  1.22539363,  0.01679354, ..., -1.37666609,\n",
       "         1.07832866, -0.0242546 ],\n",
       "       [ 0.76759651,  1.90590292, -0.14487119, ..., -0.21256488,\n",
       "         0.45055744, -0.10879846]])"
      ]
     },
     "execution_count": 18,
     "metadata": {},
     "output_type": "execute_result"
    }
   ],
   "source": [
    "new"
   ]
  },
  {
   "cell_type": "code",
   "execution_count": 19,
   "id": "ef607c00",
   "metadata": {},
   "outputs": [
    {
     "data": {
      "text/plain": [
       "array([1.95826326, 1.6836999 , 1.00000351, 1.00000351, 1.00000351,\n",
       "       1.00000351, 1.00000351, 1.00000351, 1.00000351, 1.00000351,\n",
       "       1.00000351, 1.00000351, 1.00000351, 1.00000351, 1.00000351,\n",
       "       1.00000351, 1.00000351, 1.00000351, 1.00000351, 1.00000351,\n",
       "       1.00000351, 1.00000351, 1.00000351, 1.00000351, 1.00000351,\n",
       "       1.00000351, 1.00000351, 1.00000351, 0.31589583, 0.04215505])"
      ]
     },
     "execution_count": 19,
     "metadata": {},
     "output_type": "execute_result"
    }
   ],
   "source": [
    "pca.explained_variance_"
   ]
  },
  {
   "cell_type": "code",
   "execution_count": 20,
   "id": "c0f1b086",
   "metadata": {},
   "outputs": [
    {
     "data": {
      "text/html": [
       "<div>\n",
       "<style scoped>\n",
       "    .dataframe tbody tr th:only-of-type {\n",
       "        vertical-align: middle;\n",
       "    }\n",
       "\n",
       "    .dataframe tbody tr th {\n",
       "        vertical-align: top;\n",
       "    }\n",
       "\n",
       "    .dataframe thead th {\n",
       "        text-align: right;\n",
       "    }\n",
       "</style>\n",
       "<table border=\"1\" class=\"dataframe\">\n",
       "  <thead>\n",
       "    <tr style=\"text-align: right;\">\n",
       "      <th></th>\n",
       "      <th>0</th>\n",
       "      <th>1</th>\n",
       "      <th>2</th>\n",
       "      <th>3</th>\n",
       "      <th>4</th>\n",
       "      <th>5</th>\n",
       "      <th>6</th>\n",
       "      <th>7</th>\n",
       "      <th>8</th>\n",
       "      <th>9</th>\n",
       "      <th>...</th>\n",
       "      <th>20</th>\n",
       "      <th>21</th>\n",
       "      <th>22</th>\n",
       "      <th>23</th>\n",
       "      <th>24</th>\n",
       "      <th>25</th>\n",
       "      <th>26</th>\n",
       "      <th>27</th>\n",
       "      <th>28</th>\n",
       "      <th>29</th>\n",
       "    </tr>\n",
       "  </thead>\n",
       "  <tbody>\n",
       "    <tr>\n",
       "      <th>0</th>\n",
       "      <td>0.416630</td>\n",
       "      <td>-2.532664</td>\n",
       "      <td>0.615758</td>\n",
       "      <td>0.434305</td>\n",
       "      <td>-0.202052</td>\n",
       "      <td>0.503704</td>\n",
       "      <td>0.207345</td>\n",
       "      <td>-0.372804</td>\n",
       "      <td>0.444146</td>\n",
       "      <td>0.354984</td>\n",
       "      <td>...</td>\n",
       "      <td>-0.707707</td>\n",
       "      <td>0.214207</td>\n",
       "      <td>0.478082</td>\n",
       "      <td>-0.777172</td>\n",
       "      <td>0.441819</td>\n",
       "      <td>1.221133</td>\n",
       "      <td>0.329165</td>\n",
       "      <td>-0.974504</td>\n",
       "      <td>-0.275813</td>\n",
       "      <td>0.020838</td>\n",
       "    </tr>\n",
       "    <tr>\n",
       "      <th>1</th>\n",
       "      <td>-0.393453</td>\n",
       "      <td>-2.077326</td>\n",
       "      <td>0.600298</td>\n",
       "      <td>0.071324</td>\n",
       "      <td>-0.483239</td>\n",
       "      <td>-0.423898</td>\n",
       "      <td>0.400443</td>\n",
       "      <td>-0.589043</td>\n",
       "      <td>0.036856</td>\n",
       "      <td>0.519000</td>\n",
       "      <td>...</td>\n",
       "      <td>0.202588</td>\n",
       "      <td>-0.239136</td>\n",
       "      <td>-0.600761</td>\n",
       "      <td>0.576989</td>\n",
       "      <td>-0.495292</td>\n",
       "      <td>-0.259381</td>\n",
       "      <td>-0.212173</td>\n",
       "      <td>1.136618</td>\n",
       "      <td>-0.764582</td>\n",
       "      <td>-0.014904</td>\n",
       "    </tr>\n",
       "    <tr>\n",
       "      <th>2</th>\n",
       "      <td>1.868525</td>\n",
       "      <td>-2.533497</td>\n",
       "      <td>-0.071945</td>\n",
       "      <td>1.494092</td>\n",
       "      <td>1.172747</td>\n",
       "      <td>1.186620</td>\n",
       "      <td>-0.613634</td>\n",
       "      <td>-2.119968</td>\n",
       "      <td>0.287948</td>\n",
       "      <td>1.092398</td>\n",
       "      <td>...</td>\n",
       "      <td>-0.596508</td>\n",
       "      <td>-1.244672</td>\n",
       "      <td>-1.378491</td>\n",
       "      <td>-2.523609</td>\n",
       "      <td>0.194882</td>\n",
       "      <td>1.190156</td>\n",
       "      <td>-0.136572</td>\n",
       "      <td>0.826666</td>\n",
       "      <td>-0.213588</td>\n",
       "      <td>-0.135266</td>\n",
       "    </tr>\n",
       "    <tr>\n",
       "      <th>3</th>\n",
       "      <td>0.315744</td>\n",
       "      <td>-1.783506</td>\n",
       "      <td>-0.175553</td>\n",
       "      <td>2.516096</td>\n",
       "      <td>1.071696</td>\n",
       "      <td>-0.758788</td>\n",
       "      <td>-0.945653</td>\n",
       "      <td>-0.392858</td>\n",
       "      <td>0.425380</td>\n",
       "      <td>-0.164391</td>\n",
       "      <td>...</td>\n",
       "      <td>0.314896</td>\n",
       "      <td>-0.617191</td>\n",
       "      <td>-0.735545</td>\n",
       "      <td>-0.672116</td>\n",
       "      <td>-1.424208</td>\n",
       "      <td>-1.013742</td>\n",
       "      <td>0.612713</td>\n",
       "      <td>0.541362</td>\n",
       "      <td>-1.028256</td>\n",
       "      <td>-0.050116</td>\n",
       "    </tr>\n",
       "    <tr>\n",
       "      <th>4</th>\n",
       "      <td>-0.004379</td>\n",
       "      <td>-1.488415</td>\n",
       "      <td>-0.445403</td>\n",
       "      <td>0.168959</td>\n",
       "      <td>-0.288938</td>\n",
       "      <td>0.575042</td>\n",
       "      <td>-0.099431</td>\n",
       "      <td>0.576535</td>\n",
       "      <td>0.057766</td>\n",
       "      <td>0.137390</td>\n",
       "      <td>...</td>\n",
       "      <td>0.180346</td>\n",
       "      <td>-0.197292</td>\n",
       "      <td>0.058801</td>\n",
       "      <td>0.593062</td>\n",
       "      <td>0.672125</td>\n",
       "      <td>1.632410</td>\n",
       "      <td>-0.233944</td>\n",
       "      <td>1.390793</td>\n",
       "      <td>-1.336490</td>\n",
       "      <td>-0.042204</td>\n",
       "    </tr>\n",
       "  </tbody>\n",
       "</table>\n",
       "<p>5 rows × 30 columns</p>\n",
       "</div>"
      ],
      "text/plain": [
       "         0         1         2         3         4         5         6   \\\n",
       "0  0.416630 -2.532664  0.615758  0.434305 -0.202052  0.503704  0.207345   \n",
       "1 -0.393453 -2.077326  0.600298  0.071324 -0.483239 -0.423898  0.400443   \n",
       "2  1.868525 -2.533497 -0.071945  1.494092  1.172747  1.186620 -0.613634   \n",
       "3  0.315744 -1.783506 -0.175553  2.516096  1.071696 -0.758788 -0.945653   \n",
       "4 -0.004379 -1.488415 -0.445403  0.168959 -0.288938  0.575042 -0.099431   \n",
       "\n",
       "         7         8         9   ...        20        21        22        23  \\\n",
       "0 -0.372804  0.444146  0.354984  ... -0.707707  0.214207  0.478082 -0.777172   \n",
       "1 -0.589043  0.036856  0.519000  ...  0.202588 -0.239136 -0.600761  0.576989   \n",
       "2 -2.119968  0.287948  1.092398  ... -0.596508 -1.244672 -1.378491 -2.523609   \n",
       "3 -0.392858  0.425380 -0.164391  ...  0.314896 -0.617191 -0.735545 -0.672116   \n",
       "4  0.576535  0.057766  0.137390  ...  0.180346 -0.197292  0.058801  0.593062   \n",
       "\n",
       "         24        25        26        27        28        29  \n",
       "0  0.441819  1.221133  0.329165 -0.974504 -0.275813  0.020838  \n",
       "1 -0.495292 -0.259381 -0.212173  1.136618 -0.764582 -0.014904  \n",
       "2  0.194882  1.190156 -0.136572  0.826666 -0.213588 -0.135266  \n",
       "3 -1.424208 -1.013742  0.612713  0.541362 -1.028256 -0.050116  \n",
       "4  0.672125  1.632410 -0.233944  1.390793 -1.336490 -0.042204  \n",
       "\n",
       "[5 rows x 30 columns]"
      ]
     },
     "execution_count": 20,
     "metadata": {},
     "output_type": "execute_result"
    }
   ],
   "source": [
    "final=pd.DataFrame(new)\n",
    "final.head()"
   ]
  },
  {
   "cell_type": "code",
   "execution_count": 21,
   "id": "200548d4",
   "metadata": {},
   "outputs": [],
   "source": [
    "final.drop(columns=[28,29],inplace=True)"
   ]
  },
  {
   "cell_type": "code",
   "execution_count": 22,
   "id": "76436402",
   "metadata": {},
   "outputs": [
    {
     "data": {
      "text/html": [
       "<div>\n",
       "<style scoped>\n",
       "    .dataframe tbody tr th:only-of-type {\n",
       "        vertical-align: middle;\n",
       "    }\n",
       "\n",
       "    .dataframe tbody tr th {\n",
       "        vertical-align: top;\n",
       "    }\n",
       "\n",
       "    .dataframe thead th {\n",
       "        text-align: right;\n",
       "    }\n",
       "</style>\n",
       "<table border=\"1\" class=\"dataframe\">\n",
       "  <thead>\n",
       "    <tr style=\"text-align: right;\">\n",
       "      <th></th>\n",
       "      <th>0</th>\n",
       "      <th>1</th>\n",
       "      <th>2</th>\n",
       "      <th>3</th>\n",
       "      <th>4</th>\n",
       "      <th>5</th>\n",
       "      <th>6</th>\n",
       "      <th>7</th>\n",
       "      <th>8</th>\n",
       "      <th>9</th>\n",
       "      <th>...</th>\n",
       "      <th>18</th>\n",
       "      <th>19</th>\n",
       "      <th>20</th>\n",
       "      <th>21</th>\n",
       "      <th>22</th>\n",
       "      <th>23</th>\n",
       "      <th>24</th>\n",
       "      <th>25</th>\n",
       "      <th>26</th>\n",
       "      <th>27</th>\n",
       "    </tr>\n",
       "  </thead>\n",
       "  <tbody>\n",
       "    <tr>\n",
       "      <th>0</th>\n",
       "      <td>0.416630</td>\n",
       "      <td>-2.532664</td>\n",
       "      <td>0.615758</td>\n",
       "      <td>0.434305</td>\n",
       "      <td>-0.202052</td>\n",
       "      <td>0.503704</td>\n",
       "      <td>0.207345</td>\n",
       "      <td>-0.372804</td>\n",
       "      <td>0.444146</td>\n",
       "      <td>0.354984</td>\n",
       "      <td>...</td>\n",
       "      <td>0.466061</td>\n",
       "      <td>0.733560</td>\n",
       "      <td>-0.707707</td>\n",
       "      <td>0.214207</td>\n",
       "      <td>0.478082</td>\n",
       "      <td>-0.777172</td>\n",
       "      <td>0.441819</td>\n",
       "      <td>1.221133</td>\n",
       "      <td>0.329165</td>\n",
       "      <td>-0.974504</td>\n",
       "    </tr>\n",
       "    <tr>\n",
       "      <th>1</th>\n",
       "      <td>-0.393453</td>\n",
       "      <td>-2.077326</td>\n",
       "      <td>0.600298</td>\n",
       "      <td>0.071324</td>\n",
       "      <td>-0.483239</td>\n",
       "      <td>-0.423898</td>\n",
       "      <td>0.400443</td>\n",
       "      <td>-0.589043</td>\n",
       "      <td>0.036856</td>\n",
       "      <td>0.519000</td>\n",
       "      <td>...</td>\n",
       "      <td>0.057282</td>\n",
       "      <td>-0.684427</td>\n",
       "      <td>0.202588</td>\n",
       "      <td>-0.239136</td>\n",
       "      <td>-0.600761</td>\n",
       "      <td>0.576989</td>\n",
       "      <td>-0.495292</td>\n",
       "      <td>-0.259381</td>\n",
       "      <td>-0.212173</td>\n",
       "      <td>1.136618</td>\n",
       "    </tr>\n",
       "    <tr>\n",
       "      <th>2</th>\n",
       "      <td>1.868525</td>\n",
       "      <td>-2.533497</td>\n",
       "      <td>-0.071945</td>\n",
       "      <td>1.494092</td>\n",
       "      <td>1.172747</td>\n",
       "      <td>1.186620</td>\n",
       "      <td>-0.613634</td>\n",
       "      <td>-2.119968</td>\n",
       "      <td>0.287948</td>\n",
       "      <td>1.092398</td>\n",
       "      <td>...</td>\n",
       "      <td>-2.143424</td>\n",
       "      <td>1.615213</td>\n",
       "      <td>-0.596508</td>\n",
       "      <td>-1.244672</td>\n",
       "      <td>-1.378491</td>\n",
       "      <td>-2.523609</td>\n",
       "      <td>0.194882</td>\n",
       "      <td>1.190156</td>\n",
       "      <td>-0.136572</td>\n",
       "      <td>0.826666</td>\n",
       "    </tr>\n",
       "    <tr>\n",
       "      <th>3</th>\n",
       "      <td>0.315744</td>\n",
       "      <td>-1.783506</td>\n",
       "      <td>-0.175553</td>\n",
       "      <td>2.516096</td>\n",
       "      <td>1.071696</td>\n",
       "      <td>-0.758788</td>\n",
       "      <td>-0.945653</td>\n",
       "      <td>-0.392858</td>\n",
       "      <td>0.425380</td>\n",
       "      <td>-0.164391</td>\n",
       "      <td>...</td>\n",
       "      <td>-0.919148</td>\n",
       "      <td>-0.161968</td>\n",
       "      <td>0.314896</td>\n",
       "      <td>-0.617191</td>\n",
       "      <td>-0.735545</td>\n",
       "      <td>-0.672116</td>\n",
       "      <td>-1.424208</td>\n",
       "      <td>-1.013742</td>\n",
       "      <td>0.612713</td>\n",
       "      <td>0.541362</td>\n",
       "    </tr>\n",
       "    <tr>\n",
       "      <th>4</th>\n",
       "      <td>-0.004379</td>\n",
       "      <td>-1.488415</td>\n",
       "      <td>-0.445403</td>\n",
       "      <td>0.168959</td>\n",
       "      <td>-0.288938</td>\n",
       "      <td>0.575042</td>\n",
       "      <td>-0.099431</td>\n",
       "      <td>0.576535</td>\n",
       "      <td>0.057766</td>\n",
       "      <td>0.137390</td>\n",
       "      <td>...</td>\n",
       "      <td>0.538087</td>\n",
       "      <td>1.458182</td>\n",
       "      <td>0.180346</td>\n",
       "      <td>-0.197292</td>\n",
       "      <td>0.058801</td>\n",
       "      <td>0.593062</td>\n",
       "      <td>0.672125</td>\n",
       "      <td>1.632410</td>\n",
       "      <td>-0.233944</td>\n",
       "      <td>1.390793</td>\n",
       "    </tr>\n",
       "  </tbody>\n",
       "</table>\n",
       "<p>5 rows × 28 columns</p>\n",
       "</div>"
      ],
      "text/plain": [
       "         0         1         2         3         4         5         6   \\\n",
       "0  0.416630 -2.532664  0.615758  0.434305 -0.202052  0.503704  0.207345   \n",
       "1 -0.393453 -2.077326  0.600298  0.071324 -0.483239 -0.423898  0.400443   \n",
       "2  1.868525 -2.533497 -0.071945  1.494092  1.172747  1.186620 -0.613634   \n",
       "3  0.315744 -1.783506 -0.175553  2.516096  1.071696 -0.758788 -0.945653   \n",
       "4 -0.004379 -1.488415 -0.445403  0.168959 -0.288938  0.575042 -0.099431   \n",
       "\n",
       "         7         8         9   ...        18        19        20        21  \\\n",
       "0 -0.372804  0.444146  0.354984  ...  0.466061  0.733560 -0.707707  0.214207   \n",
       "1 -0.589043  0.036856  0.519000  ...  0.057282 -0.684427  0.202588 -0.239136   \n",
       "2 -2.119968  0.287948  1.092398  ... -2.143424  1.615213 -0.596508 -1.244672   \n",
       "3 -0.392858  0.425380 -0.164391  ... -0.919148 -0.161968  0.314896 -0.617191   \n",
       "4  0.576535  0.057766  0.137390  ...  0.538087  1.458182  0.180346 -0.197292   \n",
       "\n",
       "         22        23        24        25        26        27  \n",
       "0  0.478082 -0.777172  0.441819  1.221133  0.329165 -0.974504  \n",
       "1 -0.600761  0.576989 -0.495292 -0.259381 -0.212173  1.136618  \n",
       "2 -1.378491 -2.523609  0.194882  1.190156 -0.136572  0.826666  \n",
       "3 -0.735545 -0.672116 -1.424208 -1.013742  0.612713  0.541362  \n",
       "4  0.058801  0.593062  0.672125  1.632410 -0.233944  1.390793  \n",
       "\n",
       "[5 rows x 28 columns]"
      ]
     },
     "execution_count": 22,
     "metadata": {},
     "output_type": "execute_result"
    }
   ],
   "source": [
    "final.head()"
   ]
  },
  {
   "cell_type": "code",
   "execution_count": 23,
   "id": "416dd1a8",
   "metadata": {},
   "outputs": [
    {
     "data": {
      "text/html": [
       "<div>\n",
       "<style scoped>\n",
       "    .dataframe tbody tr th:only-of-type {\n",
       "        vertical-align: middle;\n",
       "    }\n",
       "\n",
       "    .dataframe tbody tr th {\n",
       "        vertical-align: top;\n",
       "    }\n",
       "\n",
       "    .dataframe thead th {\n",
       "        text-align: right;\n",
       "    }\n",
       "</style>\n",
       "<table border=\"1\" class=\"dataframe\">\n",
       "  <thead>\n",
       "    <tr style=\"text-align: right;\">\n",
       "      <th></th>\n",
       "      <th>0</th>\n",
       "      <th>1</th>\n",
       "      <th>2</th>\n",
       "      <th>3</th>\n",
       "      <th>4</th>\n",
       "      <th>5</th>\n",
       "      <th>6</th>\n",
       "      <th>7</th>\n",
       "      <th>8</th>\n",
       "      <th>9</th>\n",
       "      <th>...</th>\n",
       "      <th>18</th>\n",
       "      <th>19</th>\n",
       "      <th>20</th>\n",
       "      <th>21</th>\n",
       "      <th>22</th>\n",
       "      <th>23</th>\n",
       "      <th>24</th>\n",
       "      <th>25</th>\n",
       "      <th>26</th>\n",
       "      <th>27</th>\n",
       "    </tr>\n",
       "  </thead>\n",
       "  <tbody>\n",
       "    <tr>\n",
       "      <th>count</th>\n",
       "      <td>2.848070e+05</td>\n",
       "      <td>2.848070e+05</td>\n",
       "      <td>2.848070e+05</td>\n",
       "      <td>2.848070e+05</td>\n",
       "      <td>2.848070e+05</td>\n",
       "      <td>2.848070e+05</td>\n",
       "      <td>2.848070e+05</td>\n",
       "      <td>2.848070e+05</td>\n",
       "      <td>2.848070e+05</td>\n",
       "      <td>2.848070e+05</td>\n",
       "      <td>...</td>\n",
       "      <td>2.848070e+05</td>\n",
       "      <td>2.848070e+05</td>\n",
       "      <td>2.848070e+05</td>\n",
       "      <td>2.848070e+05</td>\n",
       "      <td>2.848070e+05</td>\n",
       "      <td>2.848070e+05</td>\n",
       "      <td>2.848070e+05</td>\n",
       "      <td>2.848070e+05</td>\n",
       "      <td>2.848070e+05</td>\n",
       "      <td>2.848070e+05</td>\n",
       "    </tr>\n",
       "    <tr>\n",
       "      <th>mean</th>\n",
       "      <td>-2.075692e-17</td>\n",
       "      <td>1.660553e-16</td>\n",
       "      <td>1.397100e-17</td>\n",
       "      <td>-5.089437e-18</td>\n",
       "      <td>1.466955e-17</td>\n",
       "      <td>-3.592544e-18</td>\n",
       "      <td>-1.496893e-19</td>\n",
       "      <td>-3.123517e-17</td>\n",
       "      <td>7.384673e-18</td>\n",
       "      <td>1.886085e-17</td>\n",
       "      <td>...</td>\n",
       "      <td>1.377142e-17</td>\n",
       "      <td>-9.929391e-18</td>\n",
       "      <td>3.991715e-19</td>\n",
       "      <td>-1.816230e-17</td>\n",
       "      <td>8.981359e-18</td>\n",
       "      <td>6.187158e-18</td>\n",
       "      <td>2.734325e-17</td>\n",
       "      <td>2.794201e-18</td>\n",
       "      <td>6.187158e-18</td>\n",
       "      <td>7.983430e-19</td>\n",
       "    </tr>\n",
       "    <tr>\n",
       "      <th>std</th>\n",
       "      <td>1.399380e+00</td>\n",
       "      <td>1.297575e+00</td>\n",
       "      <td>1.000002e+00</td>\n",
       "      <td>1.000002e+00</td>\n",
       "      <td>1.000002e+00</td>\n",
       "      <td>1.000002e+00</td>\n",
       "      <td>1.000002e+00</td>\n",
       "      <td>1.000002e+00</td>\n",
       "      <td>1.000002e+00</td>\n",
       "      <td>1.000002e+00</td>\n",
       "      <td>...</td>\n",
       "      <td>1.000002e+00</td>\n",
       "      <td>1.000002e+00</td>\n",
       "      <td>1.000002e+00</td>\n",
       "      <td>1.000002e+00</td>\n",
       "      <td>1.000002e+00</td>\n",
       "      <td>1.000002e+00</td>\n",
       "      <td>1.000002e+00</td>\n",
       "      <td>1.000002e+00</td>\n",
       "      <td>1.000002e+00</td>\n",
       "      <td>1.000002e+00</td>\n",
       "    </tr>\n",
       "    <tr>\n",
       "      <th>min</th>\n",
       "      <td>-8.643362e+00</td>\n",
       "      <td>-4.080572e+00</td>\n",
       "      <td>-1.285673e+01</td>\n",
       "      <td>-1.197753e+01</td>\n",
       "      <td>-3.385109e+01</td>\n",
       "      <td>-2.878160e+01</td>\n",
       "      <td>-3.152597e+01</td>\n",
       "      <td>-1.465640e+01</td>\n",
       "      <td>-3.410362e+01</td>\n",
       "      <td>-3.850798e+01</td>\n",
       "      <td>...</td>\n",
       "      <td>-9.591096e+00</td>\n",
       "      <td>-4.021997e+01</td>\n",
       "      <td>-2.707655e+01</td>\n",
       "      <td>-3.449029e+01</td>\n",
       "      <td>-2.281753e+01</td>\n",
       "      <td>-2.097705e+01</td>\n",
       "      <td>-3.100699e+01</td>\n",
       "      <td>-1.270187e+01</td>\n",
       "      <td>-2.466339e+01</td>\n",
       "      <td>-1.273644e+01</td>\n",
       "    </tr>\n",
       "    <tr>\n",
       "      <th>25%</th>\n",
       "      <td>-4.499731e-01</td>\n",
       "      <td>-1.065533e+00</td>\n",
       "      <td>-3.264019e-01</td>\n",
       "      <td>-4.684902e-01</td>\n",
       "      <td>-4.721904e-01</td>\n",
       "      <td>-6.112888e-01</td>\n",
       "      <td>-5.055194e-01</td>\n",
       "      <td>-5.753644e-01</td>\n",
       "      <td>-4.587141e-01</td>\n",
       "      <td>-4.842065e-01</td>\n",
       "      <td>...</td>\n",
       "      <td>-4.788304e-01</td>\n",
       "      <td>-5.238026e-01</td>\n",
       "      <td>-5.118157e-01</td>\n",
       "      <td>-4.959204e-01</td>\n",
       "      <td>-4.782485e-01</td>\n",
       "      <td>-6.249709e-01</td>\n",
       "      <td>-6.221258e-01</td>\n",
       "      <td>-4.195059e-01</td>\n",
       "      <td>-5.620796e-01</td>\n",
       "      <td>-6.239204e-01</td>\n",
       "    </tr>\n",
       "    <tr>\n",
       "      <th>50%</th>\n",
       "      <td>-3.472874e-01</td>\n",
       "      <td>-2.679456e-01</td>\n",
       "      <td>1.503509e-01</td>\n",
       "      <td>-1.421535e-03</td>\n",
       "      <td>5.132288e-02</td>\n",
       "      <td>-2.159982e-02</td>\n",
       "      <td>4.646796e-02</td>\n",
       "      <td>-2.322298e-02</td>\n",
       "      <td>-2.158163e-02</td>\n",
       "      <td>3.559335e-02</td>\n",
       "      <td>...</td>\n",
       "      <td>6.950397e-03</td>\n",
       "      <td>-5.227708e-02</td>\n",
       "      <td>-2.856167e-02</td>\n",
       "      <td>-6.979942e-03</td>\n",
       "      <td>-2.757391e-02</td>\n",
       "      <td>1.046624e-02</td>\n",
       "      <td>2.704693e-03</td>\n",
       "      <td>-7.688235e-02</td>\n",
       "      <td>-8.280250e-02</td>\n",
       "      <td>3.553281e-02</td>\n",
       "    </tr>\n",
       "    <tr>\n",
       "      <th>75%</th>\n",
       "      <td>-4.814420e-02</td>\n",
       "      <td>1.245121e+00</td>\n",
       "      <td>5.954912e-01</td>\n",
       "      <td>4.789591e-01</td>\n",
       "      <td>5.432991e-01</td>\n",
       "      <td>5.627972e-01</td>\n",
       "      <td>6.662070e-01</td>\n",
       "      <td>5.265725e-01</td>\n",
       "      <td>4.265219e-01</td>\n",
       "      <td>5.334791e-01</td>\n",
       "      <td>...</td>\n",
       "      <td>4.675682e-01</td>\n",
       "      <td>4.592832e-01</td>\n",
       "      <td>4.903861e-01</td>\n",
       "      <td>4.690080e-01</td>\n",
       "      <td>4.917363e-01</td>\n",
       "      <td>6.096823e-01</td>\n",
       "      <td>6.270897e-01</td>\n",
       "      <td>3.598179e-01</td>\n",
       "      <td>4.828897e-01</td>\n",
       "      <td>7.118333e-01</td>\n",
       "    </tr>\n",
       "    <tr>\n",
       "      <th>max</th>\n",
       "      <td>1.324681e+02</td>\n",
       "      <td>5.305730e+00</td>\n",
       "      <td>7.744026e+00</td>\n",
       "      <td>1.988549e+01</td>\n",
       "      <td>3.801006e+01</td>\n",
       "      <td>2.353761e+01</td>\n",
       "      <td>1.816453e+01</td>\n",
       "      <td>2.438998e+01</td>\n",
       "      <td>4.665868e+01</td>\n",
       "      <td>2.226639e+01</td>\n",
       "      <td>...</td>\n",
       "      <td>3.140487e+01</td>\n",
       "      <td>3.308273e+01</td>\n",
       "      <td>1.992772e+01</td>\n",
       "      <td>4.466160e+01</td>\n",
       "      <td>4.331207e+01</td>\n",
       "      <td>2.587834e+01</td>\n",
       "      <td>2.064177e+01</td>\n",
       "      <td>5.594787e+01</td>\n",
       "      <td>1.097816e+01</td>\n",
       "      <td>5.292802e+00</td>\n",
       "    </tr>\n",
       "  </tbody>\n",
       "</table>\n",
       "<p>8 rows × 28 columns</p>\n",
       "</div>"
      ],
      "text/plain": [
       "                 0             1             2             3             4   \\\n",
       "count  2.848070e+05  2.848070e+05  2.848070e+05  2.848070e+05  2.848070e+05   \n",
       "mean  -2.075692e-17  1.660553e-16  1.397100e-17 -5.089437e-18  1.466955e-17   \n",
       "std    1.399380e+00  1.297575e+00  1.000002e+00  1.000002e+00  1.000002e+00   \n",
       "min   -8.643362e+00 -4.080572e+00 -1.285673e+01 -1.197753e+01 -3.385109e+01   \n",
       "25%   -4.499731e-01 -1.065533e+00 -3.264019e-01 -4.684902e-01 -4.721904e-01   \n",
       "50%   -3.472874e-01 -2.679456e-01  1.503509e-01 -1.421535e-03  5.132288e-02   \n",
       "75%   -4.814420e-02  1.245121e+00  5.954912e-01  4.789591e-01  5.432991e-01   \n",
       "max    1.324681e+02  5.305730e+00  7.744026e+00  1.988549e+01  3.801006e+01   \n",
       "\n",
       "                 5             6             7             8             9   \\\n",
       "count  2.848070e+05  2.848070e+05  2.848070e+05  2.848070e+05  2.848070e+05   \n",
       "mean  -3.592544e-18 -1.496893e-19 -3.123517e-17  7.384673e-18  1.886085e-17   \n",
       "std    1.000002e+00  1.000002e+00  1.000002e+00  1.000002e+00  1.000002e+00   \n",
       "min   -2.878160e+01 -3.152597e+01 -1.465640e+01 -3.410362e+01 -3.850798e+01   \n",
       "25%   -6.112888e-01 -5.055194e-01 -5.753644e-01 -4.587141e-01 -4.842065e-01   \n",
       "50%   -2.159982e-02  4.646796e-02 -2.322298e-02 -2.158163e-02  3.559335e-02   \n",
       "75%    5.627972e-01  6.662070e-01  5.265725e-01  4.265219e-01  5.334791e-01   \n",
       "max    2.353761e+01  1.816453e+01  2.438998e+01  4.665868e+01  2.226639e+01   \n",
       "\n",
       "       ...            18            19            20            21  \\\n",
       "count  ...  2.848070e+05  2.848070e+05  2.848070e+05  2.848070e+05   \n",
       "mean   ...  1.377142e-17 -9.929391e-18  3.991715e-19 -1.816230e-17   \n",
       "std    ...  1.000002e+00  1.000002e+00  1.000002e+00  1.000002e+00   \n",
       "min    ... -9.591096e+00 -4.021997e+01 -2.707655e+01 -3.449029e+01   \n",
       "25%    ... -4.788304e-01 -5.238026e-01 -5.118157e-01 -4.959204e-01   \n",
       "50%    ...  6.950397e-03 -5.227708e-02 -2.856167e-02 -6.979942e-03   \n",
       "75%    ...  4.675682e-01  4.592832e-01  4.903861e-01  4.690080e-01   \n",
       "max    ...  3.140487e+01  3.308273e+01  1.992772e+01  4.466160e+01   \n",
       "\n",
       "                 22            23            24            25            26  \\\n",
       "count  2.848070e+05  2.848070e+05  2.848070e+05  2.848070e+05  2.848070e+05   \n",
       "mean   8.981359e-18  6.187158e-18  2.734325e-17  2.794201e-18  6.187158e-18   \n",
       "std    1.000002e+00  1.000002e+00  1.000002e+00  1.000002e+00  1.000002e+00   \n",
       "min   -2.281753e+01 -2.097705e+01 -3.100699e+01 -1.270187e+01 -2.466339e+01   \n",
       "25%   -4.782485e-01 -6.249709e-01 -6.221258e-01 -4.195059e-01 -5.620796e-01   \n",
       "50%   -2.757391e-02  1.046624e-02  2.704693e-03 -7.688235e-02 -8.280250e-02   \n",
       "75%    4.917363e-01  6.096823e-01  6.270897e-01  3.598179e-01  4.828897e-01   \n",
       "max    4.331207e+01  2.587834e+01  2.064177e+01  5.594787e+01  1.097816e+01   \n",
       "\n",
       "                 27  \n",
       "count  2.848070e+05  \n",
       "mean   7.983430e-19  \n",
       "std    1.000002e+00  \n",
       "min   -1.273644e+01  \n",
       "25%   -6.239204e-01  \n",
       "50%    3.553281e-02  \n",
       "75%    7.118333e-01  \n",
       "max    5.292802e+00  \n",
       "\n",
       "[8 rows x 28 columns]"
      ]
     },
     "execution_count": 23,
     "metadata": {},
     "output_type": "execute_result"
    }
   ],
   "source": [
    "final.describe()"
   ]
  },
  {
   "cell_type": "code",
   "execution_count": 24,
   "id": "9922db20",
   "metadata": {},
   "outputs": [
    {
     "name": "stderr",
     "output_type": "stream",
     "text": [
      "C:\\Users\\asus\\AppData\\Local\\Temp\\ipykernel_9820\\2708758507.py:2: UserWarning: \n",
      "\n",
      "`distplot` is a deprecated function and will be removed in seaborn v0.14.0.\n",
      "\n",
      "Please adapt your code to use either `displot` (a figure-level function with\n",
      "similar flexibility) or `histplot` (an axes-level function for histograms).\n",
      "\n",
      "For a guide to updating your code to use the new functions, please see\n",
      "https://gist.github.com/mwaskom/de44147ed2974457ad6372750bbe5751\n",
      "\n",
      "  sns.distplot(final[i])  # kde=True adds the smooth curve\n"
     ]
    },
    {
     "data": {
      "image/png": "[encoded data removed]",
      "text/plain": [
       "<Figure size 640x480 with 1 Axes>"
      ]
     },
     "metadata": {},
     "output_type": "display_data"
    },
    {
     "name": "stderr",
     "output_type": "stream",
     "text": [
      "C:\\Users\\asus\\AppData\\Local\\Temp\\ipykernel_9820\\2708758507.py:2: UserWarning: \n",
      "\n",
      "`distplot` is a deprecated function and will be removed in seaborn v0.14.0.\n",
      "\n",
      "Please adapt your code to use either `displot` (a figure-level function with\n",
      "similar flexibility) or `histplot` (an axes-level function for histograms).\n",
      "\n",
      "For a guide to updating your code to use the new functions, please see\n",
      "https://gist.github.com/mwaskom/de44147ed2974457ad6372750bbe5751\n",
      "\n",
      "  sns.distplot(final[i])  # kde=True adds the smooth curve\n"
     ]
    },
    {
     "data": {
      "image/png": "[encoded data removed]",
      "text/plain": [
       "<Figure size 640x480 with 1 Axes>"
      ]
     },
     "metadata": {},
     "output_type": "display_data"
    },
    {
     "name": "stderr",
     "output_type": "stream",
     "text": [
      "C:\\Users\\asus\\AppData\\Local\\Temp\\ipykernel_9820\\2708758507.py:2: UserWarning: \n",
      "\n",
      "`distplot` is a deprecated function and will be removed in seaborn v0.14.0.\n",
      "\n",
      "Please adapt your code to use either `displot` (a figure-level function with\n",
      "similar flexibility) or `histplot` (an axes-level function for histograms).\n",
      "\n",
      "For a guide to updating your code to use the new functions, please see\n",
      "https://gist.github.com/mwaskom/de44147ed2974457ad6372750bbe5751\n",
      "\n",
      "  sns.distplot(final[i])  # kde=True adds the smooth curve\n"
     ]
    },
    {
     "data": {
      "image/png": "[encoded data removed]",
      "text/plain": [
       "<Figure size 640x480 with 1 Axes>"
      ]
     },
     "metadata": {},
     "output_type": "display_data"
    },
    {
     "name": "stderr",
     "output_type": "stream",
     "text": [
      "C:\\Users\\asus\\AppData\\Local\\Temp\\ipykernel_9820\\2708758507.py:2: UserWarning: \n",
      "\n",
      "`distplot` is a deprecated function and will be removed in seaborn v0.14.0.\n",
      "\n",
      "Please adapt your code to use either `displot` (a figure-level function with\n",
      "similar flexibility) or `histplot` (an axes-level function for histograms).\n",
      "\n",
      "For a guide to updating your code to use the new functions, please see\n",
      "https://gist.github.com/mwaskom/de44147ed2974457ad6372750bbe5751\n",
      "\n",
      "  sns.distplot(final[i])  # kde=True adds the smooth curve\n"
     ]
    },
    {
     "data": {
      "image/png": "[encoded data removed]",
      "text/plain": [
       "<Figure size 640x480 with 1 Axes>"
      ]
     },
     "metadata": {},
     "output_type": "display_data"
    },
    {
     "name": "stderr",
     "output_type": "stream",
     "text": [
      "C:\\Users\\asus\\AppData\\Local\\Temp\\ipykernel_9820\\2708758507.py:2: UserWarning: \n",
      "\n",
      "`distplot` is a deprecated function and will be removed in seaborn v0.14.0.\n",
      "\n",
      "Please adapt your code to use either `displot` (a figure-level function with\n",
      "similar flexibility) or `histplot` (an axes-level function for histograms).\n",
      "\n",
      "For a guide to updating your code to use the new functions, please see\n",
      "https://gist.github.com/mwaskom/de44147ed2974457ad6372750bbe5751\n",
      "\n",
      "  sns.distplot(final[i])  # kde=True adds the smooth curve\n"
     ]
    },
    {
     "data": {
      "image/png": "[encoded data removed]",
      "text/plain": [
       "<Figure size 640x480 with 1 Axes>"
      ]
     },
     "metadata": {},
     "output_type": "display_data"
    },
    {
     "name": "stderr",
     "output_type": "stream",
     "text": [
      "C:\\Users\\asus\\AppData\\Local\\Temp\\ipykernel_9820\\2708758507.py:2: UserWarning: \n",
      "\n",
      "`distplot` is a deprecated function and will be removed in seaborn v0.14.0.\n",
      "\n",
      "Please adapt your code to use either `displot` (a figure-level function with\n",
      "similar flexibility) or `histplot` (an axes-level function for histograms).\n",
      "\n",
      "For a guide to updating your code to use the new functions, please see\n",
      "https://gist.github.com/mwaskom/de44147ed2974457ad6372750bbe5751\n",
      "\n",
      "  sns.distplot(final[i])  # kde=True adds the smooth curve\n"
     ]
    },
    {
     "data": {
      "image/png": "[encoded data removed]",
      "text/plain": [
       "<Figure size 640x480 with 1 Axes>"
      ]
     },
     "metadata": {},
     "output_type": "display_data"
    },
    {
     "name": "stderr",
     "output_type": "stream",
     "text": [
      "C:\\Users\\asus\\AppData\\Local\\Temp\\ipykernel_9820\\2708758507.py:2: UserWarning: \n",
      "\n",
      "`distplot` is a deprecated function and will be removed in seaborn v0.14.0.\n",
      "\n",
      "Please adapt your code to use either `displot` (a figure-level function with\n",
      "similar flexibility) or `histplot` (an axes-level function for histograms).\n",
      "\n",
      "For a guide to updating your code to use the new functions, please see\n",
      "https://gist.github.com/mwaskom/de44147ed2974457ad6372750bbe5751\n",
      "\n",
      "  sns.distplot(final[i])  # kde=True adds the smooth curve\n"
     ]
    },
    {
     "data": {
      "image/png": "[encoded data removed]",
      "text/plain": [
       "<Figure size 640x480 with 1 Axes>"
      ]
     },
     "metadata": {},
     "output_type": "display_data"
    },
    {
     "name": "stderr",
     "output_type": "stream",
     "text": [
      "C:\\Users\\asus\\AppData\\Local\\Temp\\ipykernel_9820\\2708758507.py:2: UserWarning: \n",
      "\n",
      "`distplot` is a deprecated function and will be removed in seaborn v0.14.0.\n",
      "\n",
      "Please adapt your code to use either `displot` (a figure-level function with\n",
      "similar flexibility) or `histplot` (an axes-level function for histograms).\n",
      "\n",
      "For a guide to updating your code to use the new functions, please see\n",
      "https://gist.github.com/mwaskom/de44147ed2974457ad6372750bbe5751\n",
      "\n",
      "  sns.distplot(final[i])  # kde=True adds the smooth curve\n"
     ]
    },
    {
     "data": {
      "image/png": "[encoded data removed]",
      "text/plain": [
       "<Figure size 640x480 with 1 Axes>"
      ]
     },
     "metadata": {},
     "output_type": "display_data"
    },
    {
     "name": "stderr",
     "output_type": "stream",
     "text": [
      "C:\\Users\\asus\\AppData\\Local\\Temp\\ipykernel_9820\\2708758507.py:2: UserWarning: \n",
      "\n",
      "`distplot` is a deprecated function and will be removed in seaborn v0.14.0.\n",
      "\n",
      "Please adapt your code to use either `displot` (a figure-level function with\n",
      "similar flexibility) or `histplot` (an axes-level function for histograms).\n",
      "\n",
      "For a guide to updating your code to use the new functions, please see\n",
      "https://gist.github.com/mwaskom/de44147ed2974457ad6372750bbe5751\n",
      "\n",
      "  sns.distplot(final[i])  # kde=True adds the smooth curve\n"
     ]
    },
    {
     "data": {
      "image/png": "[encoded data removed]",
      "text/plain": [
       "<Figure size 640x480 with 1 Axes>"
      ]
     },
     "metadata": {},
     "output_type": "display_data"
    },
    {
     "name": "stderr",
     "output_type": "stream",
     "text": [
      "C:\\Users\\asus\\AppData\\Local\\Temp\\ipykernel_9820\\2708758507.py:2: UserWarning: \n",
      "\n",
      "`distplot` is a deprecated function and will be removed in seaborn v0.14.0.\n",
      "\n",
      "Please adapt your code to use either `displot` (a figure-level function with\n",
      "similar flexibility) or `histplot` (an axes-level function for histograms).\n",
      "\n",
      "For a guide to updating your code to use the new functions, please see\n",
      "https://gist.github.com/mwaskom/de44147ed2974457ad6372750bbe5751\n",
      "\n",
      "  sns.distplot(final[i])  # kde=True adds the smooth curve\n"
     ]
    },
    {
     "data": {
      "image/png": "[encoded data removed]",
      "text/plain": [
       "<Figure size 640x480 with 1 Axes>"
      ]
     },
     "metadata": {},
     "output_type": "display_data"
    },
    {
     "name": "stderr",
     "output_type": "stream",
     "text": [
      "C:\\Users\\asus\\AppData\\Local\\Temp\\ipykernel_9820\\2708758507.py:2: UserWarning: \n",
      "\n",
      "`distplot` is a deprecated function and will be removed in seaborn v0.14.0.\n",
      "\n",
      "Please adapt your code to use either `displot` (a figure-level function with\n",
      "similar flexibility) or `histplot` (an axes-level function for histograms).\n",
      "\n",
      "For a guide to updating your code to use the new functions, please see\n",
      "https://gist.github.com/mwaskom/de44147ed2974457ad6372750bbe5751\n",
      "\n",
      "  sns.distplot(final[i])  # kde=True adds the smooth curve\n"
     ]
    },
    {
     "data": {
      "image/png": "[encoded data removed]",
      "text/plain": [
       "<Figure size 640x480 with 1 Axes>"
      ]
     },
     "metadata": {},
     "output_type": "display_data"
    },
    {
     "name": "stderr",
     "output_type": "stream",
     "text": [
      "C:\\Users\\asus\\AppData\\Local\\Temp\\ipykernel_9820\\2708758507.py:2: UserWarning: \n",
      "\n",
      "`distplot` is a deprecated function and will be removed in seaborn v0.14.0.\n",
      "\n",
      "Please adapt your code to use either `displot` (a figure-level function with\n",
      "similar flexibility) or `histplot` (an axes-level function for histograms).\n",
      "\n",
      "For a guide to updating your code to use the new functions, please see\n",
      "https://gist.github.com/mwaskom/de44147ed2974457ad6372750bbe5751\n",
      "\n",
      "  sns.distplot(final[i])  # kde=True adds the smooth curve\n"
     ]
    },
    {
     "data": {
      "image/png": "[encoded data removed]",
      "text/plain": [
       "<Figure size 640x480 with 1 Axes>"
      ]
     },
     "metadata": {},
     "output_type": "display_data"
    },
    {
     "name": "stderr",
     "output_type": "stream",
     "text": [
      "C:\\Users\\asus\\AppData\\Local\\Temp\\ipykernel_9820\\2708758507.py:2: UserWarning: \n",
      "\n",
      "`distplot` is a deprecated function and will be removed in seaborn v0.14.0.\n",
      "\n",
      "Please adapt your code to use either `displot` (a figure-level function with\n",
      "similar flexibility) or `histplot` (an axes-level function for histograms).\n",
      "\n",
      "For a guide to updating your code to use the new functions, please see\n",
      "https://gist.github.com/mwaskom/de44147ed2974457ad6372750bbe5751\n",
      "\n",
      "  sns.distplot(final[i])  # kde=True adds the smooth curve\n"
     ]
    },
    {
     "data": {
      "image/png": "[encoded data removed]",
      "text/plain": [
       "<Figure size 640x480 with 1 Axes>"
      ]
     },
     "metadata": {},
     "output_type": "display_data"
    },
    {
     "name": "stderr",
     "output_type": "stream",
     "text": [
      "C:\\Users\\asus\\AppData\\Local\\Temp\\ipykernel_9820\\2708758507.py:2: UserWarning: \n",
      "\n",
      "`distplot` is a deprecated function and will be removed in seaborn v0.14.0.\n",
      "\n",
      "Please adapt your code to use either `displot` (a figure-level function with\n",
      "similar flexibility) or `histplot` (an axes-level function for histograms).\n",
      "\n",
      "For a guide to updating your code to use the new functions, please see\n",
      "https://gist.github.com/mwaskom/de44147ed2974457ad6372750bbe5751\n",
      "\n",
      "  sns.distplot(final[i])  # kde=True adds the smooth curve\n"
     ]
    },
    {
     "data": {
      "image/png": "[encoded data removed]",
      "text/plain": [
       "<Figure size 640x480 with 1 Axes>"
      ]
     },
     "metadata": {},
     "output_type": "display_data"
    },
    {
     "name": "stderr",
     "output_type": "stream",
     "text": [
      "C:\\Users\\asus\\AppData\\Local\\Temp\\ipykernel_9820\\2708758507.py:2: UserWarning: \n",
      "\n",
      "`distplot` is a deprecated function and will be removed in seaborn v0.14.0.\n",
      "\n",
      "Please adapt your code to use either `displot` (a figure-level function with\n",
      "similar flexibility) or `histplot` (an axes-level function for histograms).\n",
      "\n",
      "For a guide to updating your code to use the new functions, please see\n",
      "https://gist.github.com/mwaskom/de44147ed2974457ad6372750bbe5751\n",
      "\n",
      "  sns.distplot(final[i])  # kde=True adds the smooth curve\n"
     ]
    },
    {
     "data": {
      "image/png": "[encoded data removed]",
      "text/plain": [
       "<Figure size 640x480 with 1 Axes>"
      ]
     },
     "metadata": {},
     "output_type": "display_data"
    },
    {
     "name": "stderr",
     "output_type": "stream",
     "text": [
      "C:\\Users\\asus\\AppData\\Local\\Temp\\ipykernel_9820\\2708758507.py:2: UserWarning: \n",
      "\n",
      "`distplot` is a deprecated function and will be removed in seaborn v0.14.0.\n",
      "\n",
      "Please adapt your code to use either `displot` (a figure-level function with\n",
      "similar flexibility) or `histplot` (an axes-level function for histograms).\n",
      "\n",
      "For a guide to updating your code to use the new functions, please see\n",
      "https://gist.github.com/mwaskom/de44147ed2974457ad6372750bbe5751\n",
      "\n",
      "  sns.distplot(final[i])  # kde=True adds the smooth curve\n"
     ]
    },
    {
     "data": {
      "image/png": "[encoded data removed]",
      "text/plain": [
       "<Figure size 640x480 with 1 Axes>"
      ]
     },
     "metadata": {},
     "output_type": "display_data"
    },
    {
     "name": "stderr",
     "output_type": "stream",
     "text": [
      "C:\\Users\\asus\\AppData\\Local\\Temp\\ipykernel_9820\\2708758507.py:2: UserWarning: \n",
      "\n",
      "`distplot` is a deprecated function and will be removed in seaborn v0.14.0.\n",
      "\n",
      "Please adapt your code to use either `displot` (a figure-level function with\n",
      "similar flexibility) or `histplot` (an axes-level function for histograms).\n",
      "\n",
      "For a guide to updating your code to use the new functions, please see\n",
      "https://gist.github.com/mwaskom/de44147ed2974457ad6372750bbe5751\n",
      "\n",
      "  sns.distplot(final[i])  # kde=True adds the smooth curve\n"
     ]
    },
    {
     "data": {
      "image/png": "[encoded data removed]",
      "text/plain": [
       "<Figure size 640x480 with 1 Axes>"
      ]
     },
     "metadata": {},
     "output_type": "display_data"
    },
    {
     "name": "stderr",
     "output_type": "stream",
     "text": [
      "C:\\Users\\asus\\AppData\\Local\\Temp\\ipykernel_9820\\2708758507.py:2: UserWarning: \n",
      "\n",
      "`distplot` is a deprecated function and will be removed in seaborn v0.14.0.\n",
      "\n",
      "Please adapt your code to use either `displot` (a figure-level function with\n",
      "similar flexibility) or `histplot` (an axes-level function for histograms).\n",
      "\n",
      "For a guide to updating your code to use the new functions, please see\n",
      "https://gist.github.com/mwaskom/de44147ed2974457ad6372750bbe5751\n",
      "\n",
      "  sns.distplot(final[i])  # kde=True adds the smooth curve\n"
     ]
    },
    {
     "data": {
      "image/png": "[encoded data removed]",
      "text/plain": [
       "<Figure size 640x480 with 1 Axes>"
      ]
     },
     "metadata": {},
     "output_type": "display_data"
    },
    {
     "name": "stderr",
     "output_type": "stream",
     "text": [
      "C:\\Users\\asus\\AppData\\Local\\Temp\\ipykernel_9820\\2708758507.py:2: UserWarning: \n",
      "\n",
      "`distplot` is a deprecated function and will be removed in seaborn v0.14.0.\n",
      "\n",
      "Please adapt your code to use either `displot` (a figure-level function with\n",
      "similar flexibility) or `histplot` (an axes-level function for histograms).\n",
      "\n",
      "For a guide to updating your code to use the new functions, please see\n",
      "https://gist.github.com/mwaskom/de44147ed2974457ad6372750bbe5751\n",
      "\n",
      "  sns.distplot(final[i])  # kde=True adds the smooth curve\n"
     ]
    },
    {
     "data": {
      "image/png": "[encoded data removed]",
      "text/plain": [
       "<Figure size 640x480 with 1 Axes>"
      ]
     },
     "metadata": {},
     "output_type": "display_data"
    },
    {
     "name": "stderr",
     "output_type": "stream",
     "text": [
      "C:\\Users\\asus\\AppData\\Local\\Temp\\ipykernel_9820\\2708758507.py:2: UserWarning: \n",
      "\n",
      "`distplot` is a deprecated function and will be removed in seaborn v0.14.0.\n",
      "\n",
      "Please adapt your code to use either `displot` (a figure-level function with\n",
      "similar flexibility) or `histplot` (an axes-level function for histograms).\n",
      "\n",
      "For a guide to updating your code to use the new functions, please see\n",
      "https://gist.github.com/mwaskom/de44147ed2974457ad6372750bbe5751\n",
      "\n",
      "  sns.distplot(final[i])  # kde=True adds the smooth curve\n"
     ]
    },
    {
     "data": {
      "image/png": "[encoded data removed]",
      "text/plain": [
       "<Figure size 640x480 with 1 Axes>"
      ]
     },
     "metadata": {},
     "output_type": "display_data"
    },
    {
     "name": "stderr",
     "output_type": "stream",
     "text": [
      "C:\\Users\\asus\\AppData\\Local\\Temp\\ipykernel_9820\\2708758507.py:2: UserWarning: \n",
      "\n",
      "`distplot` is a deprecated function and will be removed in seaborn v0.14.0.\n",
      "\n",
      "Please adapt your code to use either `displot` (a figure-level function with\n",
      "similar flexibility) or `histplot` (an axes-level function for histograms).\n",
      "\n",
      "For a guide to updating your code to use the new functions, please see\n",
      "https://gist.github.com/mwaskom/de44147ed2974457ad6372750bbe5751\n",
      "\n",
      "  sns.distplot(final[i])  # kde=True adds the smooth curve\n"
     ]
    },
    {
     "data": {
      "image/png": "[encoded data removed]",
      "text/plain": [
       "<Figure size 640x480 with 1 Axes>"
      ]
     },
     "metadata": {},
     "output_type": "display_data"
    },
    {
     "name": "stderr",
     "output_type": "stream",
     "text": [
      "C:\\Users\\asus\\AppData\\Local\\Temp\\ipykernel_9820\\2708758507.py:2: UserWarning: \n",
      "\n",
      "`distplot` is a deprecated function and will be removed in seaborn v0.14.0.\n",
      "\n",
      "Please adapt your code to use either `displot` (a figure-level function with\n",
      "similar flexibility) or `histplot` (an axes-level function for histograms).\n",
      "\n",
      "For a guide to updating your code to use the new functions, please see\n",
      "https://gist.github.com/mwaskom/de44147ed2974457ad6372750bbe5751\n",
      "\n",
      "  sns.distplot(final[i])  # kde=True adds the smooth curve\n"
     ]
    },
    {
     "data": {
      "image/png": "[encoded data removed]",
      "text/plain": [
       "<Figure size 640x480 with 1 Axes>"
      ]
     },
     "metadata": {},
     "output_type": "display_data"
    },
    {
     "name": "stderr",
     "output_type": "stream",
     "text": [
      "C:\\Users\\asus\\AppData\\Local\\Temp\\ipykernel_9820\\2708758507.py:2: UserWarning: \n",
      "\n",
      "`distplot` is a deprecated function and will be removed in seaborn v0.14.0.\n",
      "\n",
      "Please adapt your code to use either `displot` (a figure-level function with\n",
      "similar flexibility) or `histplot` (an axes-level function for histograms).\n",
      "\n",
      "For a guide to updating your code to use the new functions, please see\n",
      "https://gist.github.com/mwaskom/de44147ed2974457ad6372750bbe5751\n",
      "\n",
      "  sns.distplot(final[i])  # kde=True adds the smooth curve\n"
     ]
    },
    {
     "data": {
      "image/png": "[encoded data removed]",
      "text/plain": [
       "<Figure size 640x480 with 1 Axes>"
      ]
     },
     "metadata": {},
     "output_type": "display_data"
    },
    {
     "name": "stderr",
     "output_type": "stream",
     "text": [
      "C:\\Users\\asus\\AppData\\Local\\Temp\\ipykernel_9820\\2708758507.py:2: UserWarning: \n",
      "\n",
      "`distplot` is a deprecated function and will be removed in seaborn v0.14.0.\n",
      "\n",
      "Please adapt your code to use either `displot` (a figure-level function with\n",
      "similar flexibility) or `histplot` (an axes-level function for histograms).\n",
      "\n",
      "For a guide to updating your code to use the new functions, please see\n",
      "https://gist.github.com/mwaskom/de44147ed2974457ad6372750bbe5751\n",
      "\n",
      "  sns.distplot(final[i])  # kde=True adds the smooth curve\n"
     ]
    },
    {
     "data": {
      "image/png": "[encoded data removed]",
      "text/plain": [
       "<Figure size 640x480 with 1 Axes>"
      ]
     },
     "metadata": {},
     "output_type": "display_data"
    },
    {
     "name": "stderr",
     "output_type": "stream",
     "text": [
      "C:\\Users\\asus\\AppData\\Local\\Temp\\ipykernel_9820\\2708758507.py:2: UserWarning: \n",
      "\n",
      "`distplot` is a deprecated function and will be removed in seaborn v0.14.0.\n",
      "\n",
      "Please adapt your code to use either `displot` (a figure-level function with\n",
      "similar flexibility) or `histplot` (an axes-level function for histograms).\n",
      "\n",
      "For a guide to updating your code to use the new functions, please see\n",
      "https://gist.github.com/mwaskom/de44147ed2974457ad6372750bbe5751\n",
      "\n",
      "  sns.distplot(final[i])  # kde=True adds the smooth curve\n"
     ]
    },
    {
     "data": {
      "image/png": "[encoded data removed]",
      "text/plain": [
       "<Figure size 640x480 with 1 Axes>"
      ]
     },
     "metadata": {},
     "output_type": "display_data"
    },
    {
     "name": "stderr",
     "output_type": "stream",
     "text": [
      "C:\\Users\\asus\\AppData\\Local\\Temp\\ipykernel_9820\\2708758507.py:2: UserWarning: \n",
      "\n",
      "`distplot` is a deprecated function and will be removed in seaborn v0.14.0.\n",
      "\n",
      "Please adapt your code to use either `displot` (a figure-level function with\n",
      "similar flexibility) or `histplot` (an axes-level function for histograms).\n",
      "\n",
      "For a guide to updating your code to use the new functions, please see\n",
      "https://gist.github.com/mwaskom/de44147ed2974457ad6372750bbe5751\n",
      "\n",
      "  sns.distplot(final[i])  # kde=True adds the smooth curve\n"
     ]
    },
    {
     "data": {
      "image/png": "[encoded data removed]",
      "text/plain": [
       "<Figure size 640x480 with 1 Axes>"
      ]
     },
     "metadata": {},
     "output_type": "display_data"
    },
    {
     "name": "stderr",
     "output_type": "stream",
     "text": [
      "C:\\Users\\asus\\AppData\\Local\\Temp\\ipykernel_9820\\2708758507.py:2: UserWarning: \n",
      "\n",
      "`distplot` is a deprecated function and will be removed in seaborn v0.14.0.\n",
      "\n",
      "Please adapt your code to use either `displot` (a figure-level function with\n",
      "similar flexibility) or `histplot` (an axes-level function for histograms).\n",
      "\n",
      "For a guide to updating your code to use the new functions, please see\n",
      "https://gist.github.com/mwaskom/de44147ed2974457ad6372750bbe5751\n",
      "\n",
      "  sns.distplot(final[i])  # kde=True adds the smooth curve\n"
     ]
    },
    {
     "data": {
      "image/png": "[encoded data removed]",
      "text/plain": [
       "<Figure size 640x480 with 1 Axes>"
      ]
     },
     "metadata": {},
     "output_type": "display_data"
    },
    {
     "name": "stderr",
     "output_type": "stream",
     "text": [
      "C:\\Users\\asus\\AppData\\Local\\Temp\\ipykernel_9820\\2708758507.py:2: UserWarning: \n",
      "\n",
      "`distplot` is a deprecated function and will be removed in seaborn v0.14.0.\n",
      "\n",
      "Please adapt your code to use either `displot` (a figure-level function with\n",
      "similar flexibility) or `histplot` (an axes-level function for histograms).\n",
      "\n",
      "For a guide to updating your code to use the new functions, please see\n",
      "https://gist.github.com/mwaskom/de44147ed2974457ad6372750bbe5751\n",
      "\n",
      "  sns.distplot(final[i])  # kde=True adds the smooth curve\n"
     ]
    },
    {
     "data": {
      "image/png": "[encoded data removed]",
      "text/plain": [
       "<Figure size 640x480 with 1 Axes>"
      ]
     },
     "metadata": {},
     "output_type": "display_data"
    }
   ],
   "source": [
    "for i in final.columns[:28]:\n",
    "    sns.distplot(final[i])  # kde=True adds the smooth curve\n",
    "    plt.title(f'Distribution of {i}')\n",
    "    plt.show()"
   ]
  },
  {
   "cell_type": "markdown",
   "id": "ac49ffa5",
   "metadata": {},
   "source": [
    "Credit card fraud detection means finding unusual transactions.\n",
    "\n"
   ]
  },
  {
   "cell_type": "markdown",
   "id": "d0008fd9",
   "metadata": {},
   "source": [
    "Inertia(cost function) or distortion used to find best K not randomly which is called elbow method.\n",
    "\n",
    "Inertia is the sum of squared euclidean distance from each point to centroid of cluster\n",
    "\n",
    "Distortion is the distance from each point to centroid of cluster/ total number of points "
   ]
  },
  {
   "cell_type": "markdown",
   "id": "61f1684f",
   "metadata": {},
   "source": [
    "✅ Isolation Forest Workflow in Anomaly Detection\n",
    "\n",
    "🔹 Training Phase (Unsupervised)\n",
    "\n",
    "You feed the model only the features (Time, Amount, V1–V28).\n",
    "\n",
    "No label (Class) is used.\n",
    "\n",
    "The model learns by building random trees that try to isolate each point.\n",
    "\n",
    "Points that are isolated very quickly (with fewer splits) are considered anomalies.\n",
    "\n",
    "🔹 Scoring Phase\n",
    "\n",
    "Every transaction gets an anomaly score.\n",
    "\n",
    "You can set a threshold (e.g., anything above 0.7 is an anomaly).\n",
    "\n",
    "🔹 Evaluation Phase (Now use labels)\n",
    "\n",
    "You reveal the true labels (Class: 0 = normal, 1 = fraud).\n",
    "\n",
    "You check:\n",
    "\n",
    "Did the Isolation Forest flag the real frauds as anomalies?\n",
    "\n",
    "You compute:\n",
    "\n",
    "Precision: Of the transactions flagged as anomalies, how many were actually fraud?\n",
    "\n",
    "Recall: Of all the actual fraud cases, how many did the model catch?\n",
    "\n",
    "F1-score: Balance between precision and recall."
   ]
  },
  {
   "cell_type": "code",
   "execution_count": 25,
   "id": "e9db182b",
   "metadata": {},
   "outputs": [],
   "source": [
    "from sklearn.ensemble import IsolationForest"
   ]
  },
  {
   "cell_type": "code",
   "execution_count": 75,
   "id": "bf6416ba",
   "metadata": {},
   "outputs": [],
   "source": [
    "iso=IsolationForest(contamination=0.0017, random_state=42)\n",
    "iso.fit(final)\n",
    "pred=iso.predict(final)\n",
    "#contamination=0.0017 tells the model to expect about 0.17% of the entire dataset are anomalies (outliers),"
   ]
  },
  {
   "cell_type": "markdown",
   "id": "58d647ee",
   "metadata": {},
   "source": [
    "When you set contamination = 0.0017 (0.17%), the Isolation Forest:\n",
    "\n",
    "Treats about 0.17% of your data points as the “most unusual” or “most isolated” (the anomalies).\n",
    "\n",
    "It uses these points as a reference to compare all other points and decide which ones are normal or not."
   ]
  },
  {
   "cell_type": "code",
   "execution_count": 27,
   "id": "a65b388c",
   "metadata": {},
   "outputs": [
    {
     "data": {
      "text/plain": [
       "array([1, 1, 1, ..., 1, 1, 1])"
      ]
     },
     "execution_count": 27,
     "metadata": {},
     "output_type": "execute_result"
    }
   ],
   "source": [
    "pred"
   ]
  },
  {
   "cell_type": "markdown",
   "id": "4af014b6",
   "metadata": {},
   "source": [
    "An array of predictions, one for each data point (row) in final.\n",
    "\n",
    "Each element is either:\n",
    "\n",
    "1 — means the model thinks this point is normal (not an anomaly).\n",
    "\n",
    "-1 — means the model flags this point as an anomaly (outlier).\n",
    "\n"
   ]
  },
  {
   "cell_type": "code",
   "execution_count": 63,
   "id": "5abec75e",
   "metadata": {},
   "outputs": [
    {
     "name": "stdout",
     "output_type": "stream",
     "text": [
      "485\n"
     ]
    }
   ],
   "source": [
    "num_anomalies = sum(x == -1 for x in pred)\n",
    "print(num_anomalies)\n"
   ]
  },
  {
   "cell_type": "code",
   "execution_count": 29,
   "id": "8b77be2b",
   "metadata": {},
   "outputs": [
    {
     "name": "stdout",
     "output_type": "stream",
     "text": [
      "492\n"
     ]
    }
   ],
   "source": [
    "original = pd.read_csv(\"creditcard.csv\")\n",
    "num_frauds = original[original['Class'] == 1].shape[0]\n",
    "print(num_frauds)"
   ]
  },
  {
   "cell_type": "markdown",
   "id": "fb0ffcee",
   "metadata": {},
   "source": [
    "Isolation Forest predicted about 485 anomalies\n",
    "\n",
    "The original data has 492 actual fraud cases"
   ]
  },
  {
   "cell_type": "markdown",
   "id": "34a01cdf",
   "metadata": {},
   "source": [
    "OnClass SVM"
   ]
  },
  {
   "cell_type": "code",
   "execution_count": 30,
   "id": "16a74aed",
   "metadata": {},
   "outputs": [
    {
     "name": "stdout",
     "output_type": "stream",
     "text": [
      "Anomalies detected: 1519\n"
     ]
    }
   ],
   "source": [
    "from sklearn.svm import OneClassSVM\n",
    "\n",
    "# Initialize the model\n",
    "ocsvm = OneClassSVM(kernel='rbf', nu=0.0017, gamma='scale') \n",
    "\n",
    "# Train on your scaled features (no labels)\n",
    "ocsvm.fit(final)\n",
    "\n",
    "# Predict anomalies\n",
    "pred2 = ocsvm.predict(final)  # +1 = normal, -1 = anomaly\n",
    "\n",
    "# Count anomalies\n",
    "num_anomalies = (pred2 == -1).sum()\n",
    "print(\"Anomalies detected:\", num_anomalies)\n"
   ]
  },
  {
   "cell_type": "markdown",
   "id": "3fb7b2ec",
   "metadata": {},
   "source": [
    "Evaluation for isolated forest"
   ]
  },
  {
   "cell_type": "code",
   "execution_count": 31,
   "id": "66ba4c7a",
   "metadata": {},
   "outputs": [],
   "source": [
    "from sklearn.metrics import classification_report,precision_score,recall_score,confusion_matrix,accuracy_score"
   ]
  },
  {
   "cell_type": "code",
   "execution_count": 32,
   "id": "832f482b",
   "metadata": {},
   "outputs": [],
   "source": [
    "yorig=original['Class']"
   ]
  },
  {
   "cell_type": "code",
   "execution_count": 33,
   "id": "80b1b747",
   "metadata": {},
   "outputs": [
    {
     "data": {
      "text/plain": [
       "array([0, 0, 0, ..., 0, 0, 0])"
      ]
     },
     "execution_count": 33,
     "metadata": {},
     "output_type": "execute_result"
    }
   ],
   "source": [
    "# Convert -1 (anomaly) to 1 (fraud), and 1 (normal) to 0 before evaluation\n",
    "pred_mapped = np.where(pred == -1, 1, 0)\n",
    "pred_mapped\n"
   ]
  },
  {
   "cell_type": "code",
   "execution_count": 34,
   "id": "783d16df",
   "metadata": {},
   "outputs": [
    {
     "name": "stdout",
     "output_type": "stream",
     "text": [
      "[[283961    354]\n",
      " [   361    131]]\n"
     ]
    }
   ],
   "source": [
    "print(confusion_matrix(yorig,pred_mapped))"
   ]
  },
  {
   "cell_type": "markdown",
   "id": "81c6b39a",
   "metadata": {},
   "source": [
    "[[TN, FP],\n",
    "\n",
    " [FN, TP]]\n",
    "\n",
    "TN (True Negative) = 283,961 → Actual normal, predicted normal\n",
    "\n",
    "FP (False Positive) = 354 → Actual normal, predicted fraud\n",
    "\n",
    "FN (False Negative) = 361 → Actual fraud, predicted normal\n",
    "\n",
    "TP (True Positive) = 131 → Actual fraud, predicted fraud"
   ]
  },
  {
   "cell_type": "code",
   "execution_count": 35,
   "id": "9b69512d",
   "metadata": {},
   "outputs": [
    {
     "name": "stdout",
     "output_type": "stream",
     "text": [
      "              precision    recall  f1-score   support\n",
      "\n",
      "           0       1.00      1.00      1.00    284315\n",
      "           1       0.27      0.27      0.27       492\n",
      "\n",
      "    accuracy                           1.00    284807\n",
      "   macro avg       0.63      0.63      0.63    284807\n",
      "weighted avg       1.00      1.00      1.00    284807\n",
      "\n"
     ]
    }
   ],
   "source": [
    "print(classification_report(yorig,pred_mapped))"
   ]
  },
  {
   "cell_type": "markdown",
   "id": "0fb551dd",
   "metadata": {},
   "source": [
    "Although the Isolation Forest and opensvm detects roughly the same number of anomalies as the actual number of fraud cases (about 500), it doesn’t necessarily identify the correct fraudulent transactions. This is why the precision and recall for class 1 (fraud) are low"
   ]
  },
  {
   "cell_type": "code",
   "execution_count": 36,
   "id": "b69d7cdf",
   "metadata": {},
   "outputs": [
    {
     "data": {
      "text/plain": [
       "0.27010309278350514"
      ]
     },
     "execution_count": 36,
     "metadata": {},
     "output_type": "execute_result"
    }
   ],
   "source": [
    "precision_score(yorig,pred_mapped)\n",
    "#TP/TP+FP"
   ]
  },
  {
   "cell_type": "markdown",
   "id": "6f5e3f55",
   "metadata": {},
   "source": [
    "transaction predicted as unnormal,  27% are actually positive(unnormal)(not great it misses 7%)"
   ]
  },
  {
   "cell_type": "code",
   "execution_count": 37,
   "id": "ea2b372b",
   "metadata": {},
   "outputs": [
    {
     "data": {
      "text/plain": [
       "0.266260162601626"
      ]
     },
     "execution_count": 37,
     "metadata": {},
     "output_type": "execute_result"
    }
   ],
   "source": [
    "recall_score(yorig,pred_mapped)\n",
    "#TP/TP+FN"
   ]
  },
  {
   "cell_type": "markdown",
   "id": "b1b1ca7b",
   "metadata": {},
   "source": [
    "transaction that are actually unnormal,  27% of them predicted as unnormal (not great it misses 73%)"
   ]
  },
  {
   "cell_type": "markdown",
   "id": "43800c6e",
   "metadata": {},
   "source": [
    "Evaluation for onclass svm"
   ]
  },
  {
   "cell_type": "code",
   "execution_count": 38,
   "id": "bfc8dc5f",
   "metadata": {},
   "outputs": [
    {
     "data": {
      "text/plain": [
       "array([0, 0, 0, ..., 0, 0, 0])"
      ]
     },
     "execution_count": 38,
     "metadata": {},
     "output_type": "execute_result"
    }
   ],
   "source": [
    "pred2_mapped = np.where(pred2 == -1, 1, 0)\n",
    "pred2_mapped"
   ]
  },
  {
   "cell_type": "code",
   "execution_count": 39,
   "id": "461ece0c",
   "metadata": {},
   "outputs": [
    {
     "name": "stdout",
     "output_type": "stream",
     "text": [
      "              precision    recall  f1-score   support\n",
      "\n",
      "           0       1.00      1.00      1.00    284315\n",
      "           1       0.09      0.28      0.14       492\n",
      "\n",
      "    accuracy                           0.99    284807\n",
      "   macro avg       0.55      0.64      0.57    284807\n",
      "weighted avg       1.00      0.99      1.00    284807\n",
      "\n"
     ]
    },
    {
     "data": {
      "text/plain": [
       "0.2845528455284553"
      ]
     },
     "execution_count": 39,
     "metadata": {},
     "output_type": "execute_result"
    }
   ],
   "source": [
    "print(classification_report(yorig,pred2_mapped))\n",
    "recall_score(yorig,pred2_mapped)\n",
    "\n",
    "\n"
   ]
  },
  {
   "cell_type": "markdown",
   "id": "81d34b24",
   "metadata": {},
   "source": [
    "Improve performance by Tunning contamination in Isolation Forest (start with 0.005–0.02)"
   ]
  },
  {
   "cell_type": "code",
   "execution_count": 40,
   "id": "4a7b42da",
   "metadata": {},
   "outputs": [
    {
     "name": "stdout",
     "output_type": "stream",
     "text": [
      "Contamination: 0.0010, Precision: 0.32, Recall: 0.18\n",
      "Contamination: 0.0020, Precision: 0.25, Recall: 0.28\n",
      "Contamination: 0.0050, Precision: 0.17, Recall: 0.48\n",
      "Contamination: 0.0100, Precision: 0.11, Recall: 0.64\n",
      "Contamination: 0.0200, Precision: 0.07, Recall: 0.80\n",
      "Contamination: 0.0300, Precision: 0.05, Recall: 0.83\n",
      "Contamination: 0.1000, Precision: 0.02, Recall: 0.90\n"
     ]
    }
   ],
   "source": [
    "contamination_values = [0.001, 0.002, 0.005, 0.01, 0.02,0.03,0.1]\n",
    "best_f1 = 0\n",
    "best_cont = None\n",
    "\n",
    "for cont in contamination_values:\n",
    "    iso = IsolationForest(contamination=cont, random_state=42)\n",
    "    iso.fit(final)\n",
    "    pred3 = iso.predict(final)\n",
    "\n",
    "    # Map predictions: -1 = anomaly → 1, 1 = normal → 0\n",
    "    pred3_mapped = np.where(pred3 == -1, 1, 0)\n",
    "\n",
    "    prec = precision_score(yorig, pred3_mapped)\n",
    "    rec = recall_score(yorig, pred3_mapped)\n",
    "\n",
    "    print(f\"Contamination: {cont:.4f}, Precision: {prec:.2f}, Recall: {rec:.2f}\")\n",
    "\n",
    "   \n"
   ]
  },
  {
   "cell_type": "markdown",
   "id": "101e4833",
   "metadata": {},
   "source": [
    "1. Try AutoEncoder to get get perfect result\n",
    "\n",
    "2. Autoencoder: Unsupervised neural network that is used to detect outliers\n",
    "\n",
    "3. Neural networks perform better with inputs between 0 and 1, especially when using activations like sigmoid, relu, or tanh."
   ]
  },
  {
   "cell_type": "markdown",
   "id": "4fd44f6c",
   "metadata": {},
   "source": [
    "✅  Neural network in general:\n",
    "\n",
    "The input layer receives pixel values.\n",
    "\n",
    "Early hidden layers detect simple features (edges, corners).\n",
    "\n",
    "Deeper layers combine those into complex features (eyes, nose).\n",
    "\n",
    "The output layer gives the class prediction (e.g., “dog”).\n",
    "\n",
    "✅  Autoencoder:\n",
    "\n",
    "Give the autoencoder your data — for example, a vector of 30 numbers (features).\n",
    "\n",
    "Hidden layers learn features by compressing and decompressing the data.\n",
    "\n",
    "The bottleneck is the compressed knowledge.\n",
    "\n",
    "If input is normal, autoencoder reconstructs well.\n",
    "\n",
    "If input is anomalous, reconstruction is poor → high error → anomaly detected."
   ]
  },
  {
   "cell_type": "markdown",
   "id": "7f2b922d",
   "metadata": {},
   "source": [
    "✅ PCA needs standardized data to work well.\n",
    "\n",
    "Autoencoder needs normalized inputs (0 to 1) for stable training.\n",
    "\n",
    "So standardize → PCA → normalize → autoencoder is a good flow.\n",
    "\n"
   ]
  },
  {
   "cell_type": "code",
   "execution_count": 41,
   "id": "51bb7f89",
   "metadata": {},
   "outputs": [],
   "source": [
    "import tensorflow as tf\n",
    "from tensorflow.keras import Model#keras python library to build neural network\n",
    "from tensorflow.keras.layers import Input,Dense #Input is the shape on input data\n"
   ]
  },
  {
   "cell_type": "code",
   "execution_count": 42,
   "id": "f1983afb",
   "metadata": {},
   "outputs": [
    {
     "data": {
      "text/html": [
       "<div>\n",
       "<style scoped>\n",
       "    .dataframe tbody tr th:only-of-type {\n",
       "        vertical-align: middle;\n",
       "    }\n",
       "\n",
       "    .dataframe tbody tr th {\n",
       "        vertical-align: top;\n",
       "    }\n",
       "\n",
       "    .dataframe thead th {\n",
       "        text-align: right;\n",
       "    }\n",
       "</style>\n",
       "<table border=\"1\" class=\"dataframe\">\n",
       "  <thead>\n",
       "    <tr style=\"text-align: right;\">\n",
       "      <th></th>\n",
       "      <th>Time</th>\n",
       "      <th>V1</th>\n",
       "      <th>V2</th>\n",
       "      <th>V3</th>\n",
       "      <th>V4</th>\n",
       "      <th>V5</th>\n",
       "      <th>V6</th>\n",
       "      <th>V7</th>\n",
       "      <th>V8</th>\n",
       "      <th>V9</th>\n",
       "      <th>...</th>\n",
       "      <th>V20</th>\n",
       "      <th>V21</th>\n",
       "      <th>V22</th>\n",
       "      <th>V23</th>\n",
       "      <th>V24</th>\n",
       "      <th>V25</th>\n",
       "      <th>V26</th>\n",
       "      <th>V27</th>\n",
       "      <th>V28</th>\n",
       "      <th>Amount</th>\n",
       "    </tr>\n",
       "  </thead>\n",
       "  <tbody>\n",
       "    <tr>\n",
       "      <th>0</th>\n",
       "      <td>-1.996583</td>\n",
       "      <td>-0.694242</td>\n",
       "      <td>-0.044075</td>\n",
       "      <td>1.672773</td>\n",
       "      <td>0.973366</td>\n",
       "      <td>-0.245117</td>\n",
       "      <td>0.347068</td>\n",
       "      <td>0.193679</td>\n",
       "      <td>0.082637</td>\n",
       "      <td>0.331128</td>\n",
       "      <td>...</td>\n",
       "      <td>0.326118</td>\n",
       "      <td>-0.024923</td>\n",
       "      <td>0.382854</td>\n",
       "      <td>-0.176911</td>\n",
       "      <td>0.110507</td>\n",
       "      <td>0.246585</td>\n",
       "      <td>-0.392170</td>\n",
       "      <td>0.330892</td>\n",
       "      <td>-0.063781</td>\n",
       "      <td>0.244964</td>\n",
       "    </tr>\n",
       "    <tr>\n",
       "      <th>1</th>\n",
       "      <td>-1.996583</td>\n",
       "      <td>0.608496</td>\n",
       "      <td>0.161176</td>\n",
       "      <td>0.109797</td>\n",
       "      <td>0.316523</td>\n",
       "      <td>0.043483</td>\n",
       "      <td>-0.061820</td>\n",
       "      <td>-0.063700</td>\n",
       "      <td>0.071253</td>\n",
       "      <td>-0.232494</td>\n",
       "      <td>...</td>\n",
       "      <td>-0.089611</td>\n",
       "      <td>-0.307377</td>\n",
       "      <td>-0.880077</td>\n",
       "      <td>0.162201</td>\n",
       "      <td>-0.561131</td>\n",
       "      <td>0.320694</td>\n",
       "      <td>0.261069</td>\n",
       "      <td>-0.022256</td>\n",
       "      <td>0.044608</td>\n",
       "      <td>-0.342475</td>\n",
       "    </tr>\n",
       "    <tr>\n",
       "      <th>2</th>\n",
       "      <td>-1.996562</td>\n",
       "      <td>-0.693500</td>\n",
       "      <td>-0.811578</td>\n",
       "      <td>1.169468</td>\n",
       "      <td>0.268231</td>\n",
       "      <td>-0.364572</td>\n",
       "      <td>1.351454</td>\n",
       "      <td>0.639776</td>\n",
       "      <td>0.207373</td>\n",
       "      <td>-1.378675</td>\n",
       "      <td>...</td>\n",
       "      <td>0.680975</td>\n",
       "      <td>0.337632</td>\n",
       "      <td>1.063358</td>\n",
       "      <td>1.456320</td>\n",
       "      <td>-1.138092</td>\n",
       "      <td>-0.628537</td>\n",
       "      <td>-0.288447</td>\n",
       "      <td>-0.137137</td>\n",
       "      <td>-0.181021</td>\n",
       "      <td>1.160686</td>\n",
       "    </tr>\n",
       "    <tr>\n",
       "      <th>3</th>\n",
       "      <td>-1.996562</td>\n",
       "      <td>-0.493325</td>\n",
       "      <td>-0.112169</td>\n",
       "      <td>1.182516</td>\n",
       "      <td>-0.609727</td>\n",
       "      <td>-0.007469</td>\n",
       "      <td>0.936150</td>\n",
       "      <td>0.192071</td>\n",
       "      <td>0.316018</td>\n",
       "      <td>-1.262503</td>\n",
       "      <td>...</td>\n",
       "      <td>-0.269855</td>\n",
       "      <td>-0.147443</td>\n",
       "      <td>0.007267</td>\n",
       "      <td>-0.304777</td>\n",
       "      <td>-1.941027</td>\n",
       "      <td>1.241904</td>\n",
       "      <td>-0.460217</td>\n",
       "      <td>0.155396</td>\n",
       "      <td>0.186189</td>\n",
       "      <td>0.140534</td>\n",
       "    </tr>\n",
       "    <tr>\n",
       "      <th>4</th>\n",
       "      <td>-1.996541</td>\n",
       "      <td>-0.591330</td>\n",
       "      <td>0.531541</td>\n",
       "      <td>1.021412</td>\n",
       "      <td>0.284655</td>\n",
       "      <td>-0.295015</td>\n",
       "      <td>0.071999</td>\n",
       "      <td>0.479302</td>\n",
       "      <td>-0.226510</td>\n",
       "      <td>0.744326</td>\n",
       "      <td>...</td>\n",
       "      <td>0.529939</td>\n",
       "      <td>-0.012839</td>\n",
       "      <td>1.100011</td>\n",
       "      <td>-0.220123</td>\n",
       "      <td>0.233250</td>\n",
       "      <td>-0.395202</td>\n",
       "      <td>1.041611</td>\n",
       "      <td>0.543620</td>\n",
       "      <td>0.651816</td>\n",
       "      <td>-0.073403</td>\n",
       "    </tr>\n",
       "  </tbody>\n",
       "</table>\n",
       "<p>5 rows × 30 columns</p>\n",
       "</div>"
      ],
      "text/plain": [
       "       Time        V1        V2        V3        V4        V5        V6  \\\n",
       "0 -1.996583 -0.694242 -0.044075  1.672773  0.973366 -0.245117  0.347068   \n",
       "1 -1.996583  0.608496  0.161176  0.109797  0.316523  0.043483 -0.061820   \n",
       "2 -1.996562 -0.693500 -0.811578  1.169468  0.268231 -0.364572  1.351454   \n",
       "3 -1.996562 -0.493325 -0.112169  1.182516 -0.609727 -0.007469  0.936150   \n",
       "4 -1.996541 -0.591330  0.531541  1.021412  0.284655 -0.295015  0.071999   \n",
       "\n",
       "         V7        V8        V9  ...       V20       V21       V22       V23  \\\n",
       "0  0.193679  0.082637  0.331128  ...  0.326118 -0.024923  0.382854 -0.176911   \n",
       "1 -0.063700  0.071253 -0.232494  ... -0.089611 -0.307377 -0.880077  0.162201   \n",
       "2  0.639776  0.207373 -1.378675  ...  0.680975  0.337632  1.063358  1.456320   \n",
       "3  0.192071  0.316018 -1.262503  ... -0.269855 -0.147443  0.007267 -0.304777   \n",
       "4  0.479302 -0.226510  0.744326  ...  0.529939 -0.012839  1.100011 -0.220123   \n",
       "\n",
       "        V24       V25       V26       V27       V28    Amount  \n",
       "0  0.110507  0.246585 -0.392170  0.330892 -0.063781  0.244964  \n",
       "1 -0.561131  0.320694  0.261069 -0.022256  0.044608 -0.342475  \n",
       "2 -1.138092 -0.628537 -0.288447 -0.137137 -0.181021  1.160686  \n",
       "3 -1.941027  1.241904 -0.460217  0.155396  0.186189  0.140534  \n",
       "4  0.233250 -0.395202  1.041611  0.543620  0.651816 -0.073403  \n",
       "\n",
       "[5 rows x 30 columns]"
      ]
     },
     "execution_count": 42,
     "metadata": {},
     "output_type": "execute_result"
    }
   ],
   "source": [
    "dataset=pd.read_csv(\"creditcard.csv\")\n",
    "dataset.drop(columns=['Class'],inplace=True)\n",
    "norm=StandardScaler()# normalization before autoencoder\n",
    "final=norm.fit_transform(dataset)\n",
    "finaldata=pd.DataFrame(final,columns=dataset.columns)\n",
    "finaldata.head()"
   ]
  },
  {
   "cell_type": "code",
   "execution_count": 43,
   "id": "cd4c97a5",
   "metadata": {},
   "outputs": [
    {
     "data": {
      "text/plain": [
       "array([[ 0.41663045, -2.53266428,  0.61575819, ..., -0.97450386,\n",
       "        -0.27581306,  0.02083772],\n",
       "       [-0.39345348, -2.0773255 ,  0.60029811, ...,  1.13661813,\n",
       "        -0.76458219, -0.01490406],\n",
       "       [ 1.86852545, -2.53349699, -0.07194548, ...,  0.82666618,\n",
       "        -0.21358778, -0.13526557],\n",
       "       ...,\n",
       "       [-0.19406338,  2.07078798, -0.09638461, ..., -0.04603214,\n",
       "         0.24503234,  0.00392092],\n",
       "       [-0.46608925,  1.22539363,  0.01679354, ..., -1.37666609,\n",
       "         1.07832866, -0.0242546 ],\n",
       "       [ 0.76759651,  1.90590292, -0.14487119, ..., -0.21256488,\n",
       "         0.45055744, -0.10879846]])"
      ]
     },
     "execution_count": 43,
     "metadata": {},
     "output_type": "execute_result"
    }
   ],
   "source": [
    "pc=PCA()\n",
    "cleaned=pc.fit_transform(finaldata)\n",
    "cleaned"
   ]
  },
  {
   "cell_type": "code",
   "execution_count": 44,
   "id": "33b1043a",
   "metadata": {},
   "outputs": [
    {
     "data": {
      "text/plain": [
       "array([1.95826326, 1.6836999 , 1.00000351, 1.00000351, 1.00000351,\n",
       "       1.00000351, 1.00000351, 1.00000351, 1.00000351, 1.00000351,\n",
       "       1.00000351, 1.00000351, 1.00000351, 1.00000351, 1.00000351,\n",
       "       1.00000351, 1.00000351, 1.00000351, 1.00000351, 1.00000351,\n",
       "       1.00000351, 1.00000351, 1.00000351, 1.00000351, 1.00000351,\n",
       "       1.00000351, 1.00000351, 1.00000351, 0.31589583, 0.04215505])"
      ]
     },
     "execution_count": 44,
     "metadata": {},
     "output_type": "execute_result"
    }
   ],
   "source": [
    "pc.explained_variance_"
   ]
  },
  {
   "cell_type": "code",
   "execution_count": 45,
   "id": "3c2b66be",
   "metadata": {},
   "outputs": [],
   "source": [
    "afterpca=pd.DataFrame(cleaned)"
   ]
  },
  {
   "cell_type": "code",
   "execution_count": 46,
   "id": "c9cbe142",
   "metadata": {},
   "outputs": [
    {
     "data": {
      "text/html": [
       "<div>\n",
       "<style scoped>\n",
       "    .dataframe tbody tr th:only-of-type {\n",
       "        vertical-align: middle;\n",
       "    }\n",
       "\n",
       "    .dataframe tbody tr th {\n",
       "        vertical-align: top;\n",
       "    }\n",
       "\n",
       "    .dataframe thead th {\n",
       "        text-align: right;\n",
       "    }\n",
       "</style>\n",
       "<table border=\"1\" class=\"dataframe\">\n",
       "  <thead>\n",
       "    <tr style=\"text-align: right;\">\n",
       "      <th></th>\n",
       "      <th>0</th>\n",
       "      <th>1</th>\n",
       "      <th>2</th>\n",
       "      <th>3</th>\n",
       "      <th>4</th>\n",
       "      <th>5</th>\n",
       "      <th>6</th>\n",
       "      <th>7</th>\n",
       "      <th>8</th>\n",
       "      <th>9</th>\n",
       "      <th>...</th>\n",
       "      <th>20</th>\n",
       "      <th>21</th>\n",
       "      <th>22</th>\n",
       "      <th>23</th>\n",
       "      <th>24</th>\n",
       "      <th>25</th>\n",
       "      <th>26</th>\n",
       "      <th>27</th>\n",
       "      <th>28</th>\n",
       "      <th>29</th>\n",
       "    </tr>\n",
       "  </thead>\n",
       "  <tbody>\n",
       "    <tr>\n",
       "      <th>0</th>\n",
       "      <td>0.416630</td>\n",
       "      <td>-2.532664</td>\n",
       "      <td>0.615758</td>\n",
       "      <td>0.434305</td>\n",
       "      <td>-0.202052</td>\n",
       "      <td>0.503704</td>\n",
       "      <td>0.207345</td>\n",
       "      <td>-0.372804</td>\n",
       "      <td>0.444146</td>\n",
       "      <td>0.354984</td>\n",
       "      <td>...</td>\n",
       "      <td>-0.707707</td>\n",
       "      <td>0.214207</td>\n",
       "      <td>0.478082</td>\n",
       "      <td>-0.777172</td>\n",
       "      <td>0.441819</td>\n",
       "      <td>1.221133</td>\n",
       "      <td>0.329165</td>\n",
       "      <td>-0.974504</td>\n",
       "      <td>-0.275813</td>\n",
       "      <td>0.020838</td>\n",
       "    </tr>\n",
       "    <tr>\n",
       "      <th>1</th>\n",
       "      <td>-0.393453</td>\n",
       "      <td>-2.077326</td>\n",
       "      <td>0.600298</td>\n",
       "      <td>0.071324</td>\n",
       "      <td>-0.483239</td>\n",
       "      <td>-0.423898</td>\n",
       "      <td>0.400443</td>\n",
       "      <td>-0.589043</td>\n",
       "      <td>0.036856</td>\n",
       "      <td>0.519000</td>\n",
       "      <td>...</td>\n",
       "      <td>0.202588</td>\n",
       "      <td>-0.239136</td>\n",
       "      <td>-0.600761</td>\n",
       "      <td>0.576989</td>\n",
       "      <td>-0.495292</td>\n",
       "      <td>-0.259381</td>\n",
       "      <td>-0.212173</td>\n",
       "      <td>1.136618</td>\n",
       "      <td>-0.764582</td>\n",
       "      <td>-0.014904</td>\n",
       "    </tr>\n",
       "    <tr>\n",
       "      <th>2</th>\n",
       "      <td>1.868525</td>\n",
       "      <td>-2.533497</td>\n",
       "      <td>-0.071945</td>\n",
       "      <td>1.494092</td>\n",
       "      <td>1.172747</td>\n",
       "      <td>1.186620</td>\n",
       "      <td>-0.613634</td>\n",
       "      <td>-2.119968</td>\n",
       "      <td>0.287948</td>\n",
       "      <td>1.092398</td>\n",
       "      <td>...</td>\n",
       "      <td>-0.596508</td>\n",
       "      <td>-1.244672</td>\n",
       "      <td>-1.378491</td>\n",
       "      <td>-2.523609</td>\n",
       "      <td>0.194882</td>\n",
       "      <td>1.190156</td>\n",
       "      <td>-0.136572</td>\n",
       "      <td>0.826666</td>\n",
       "      <td>-0.213588</td>\n",
       "      <td>-0.135266</td>\n",
       "    </tr>\n",
       "    <tr>\n",
       "      <th>3</th>\n",
       "      <td>0.315744</td>\n",
       "      <td>-1.783506</td>\n",
       "      <td>-0.175553</td>\n",
       "      <td>2.516096</td>\n",
       "      <td>1.071696</td>\n",
       "      <td>-0.758788</td>\n",
       "      <td>-0.945653</td>\n",
       "      <td>-0.392858</td>\n",
       "      <td>0.425380</td>\n",
       "      <td>-0.164391</td>\n",
       "      <td>...</td>\n",
       "      <td>0.314896</td>\n",
       "      <td>-0.617191</td>\n",
       "      <td>-0.735545</td>\n",
       "      <td>-0.672116</td>\n",
       "      <td>-1.424208</td>\n",
       "      <td>-1.013742</td>\n",
       "      <td>0.612713</td>\n",
       "      <td>0.541362</td>\n",
       "      <td>-1.028256</td>\n",
       "      <td>-0.050116</td>\n",
       "    </tr>\n",
       "    <tr>\n",
       "      <th>4</th>\n",
       "      <td>-0.004379</td>\n",
       "      <td>-1.488415</td>\n",
       "      <td>-0.445403</td>\n",
       "      <td>0.168959</td>\n",
       "      <td>-0.288938</td>\n",
       "      <td>0.575042</td>\n",
       "      <td>-0.099431</td>\n",
       "      <td>0.576535</td>\n",
       "      <td>0.057766</td>\n",
       "      <td>0.137390</td>\n",
       "      <td>...</td>\n",
       "      <td>0.180346</td>\n",
       "      <td>-0.197292</td>\n",
       "      <td>0.058801</td>\n",
       "      <td>0.593062</td>\n",
       "      <td>0.672125</td>\n",
       "      <td>1.632410</td>\n",
       "      <td>-0.233944</td>\n",
       "      <td>1.390793</td>\n",
       "      <td>-1.336490</td>\n",
       "      <td>-0.042204</td>\n",
       "    </tr>\n",
       "  </tbody>\n",
       "</table>\n",
       "<p>5 rows × 30 columns</p>\n",
       "</div>"
      ],
      "text/plain": [
       "         0         1         2         3         4         5         6   \\\n",
       "0  0.416630 -2.532664  0.615758  0.434305 -0.202052  0.503704  0.207345   \n",
       "1 -0.393453 -2.077326  0.600298  0.071324 -0.483239 -0.423898  0.400443   \n",
       "2  1.868525 -2.533497 -0.071945  1.494092  1.172747  1.186620 -0.613634   \n",
       "3  0.315744 -1.783506 -0.175553  2.516096  1.071696 -0.758788 -0.945653   \n",
       "4 -0.004379 -1.488415 -0.445403  0.168959 -0.288938  0.575042 -0.099431   \n",
       "\n",
       "         7         8         9   ...        20        21        22        23  \\\n",
       "0 -0.372804  0.444146  0.354984  ... -0.707707  0.214207  0.478082 -0.777172   \n",
       "1 -0.589043  0.036856  0.519000  ...  0.202588 -0.239136 -0.600761  0.576989   \n",
       "2 -2.119968  0.287948  1.092398  ... -0.596508 -1.244672 -1.378491 -2.523609   \n",
       "3 -0.392858  0.425380 -0.164391  ...  0.314896 -0.617191 -0.735545 -0.672116   \n",
       "4  0.576535  0.057766  0.137390  ...  0.180346 -0.197292  0.058801  0.593062   \n",
       "\n",
       "         24        25        26        27        28        29  \n",
       "0  0.441819  1.221133  0.329165 -0.974504 -0.275813  0.020838  \n",
       "1 -0.495292 -0.259381 -0.212173  1.136618 -0.764582 -0.014904  \n",
       "2  0.194882  1.190156 -0.136572  0.826666 -0.213588 -0.135266  \n",
       "3 -1.424208 -1.013742  0.612713  0.541362 -1.028256 -0.050116  \n",
       "4  0.672125  1.632410 -0.233944  1.390793 -1.336490 -0.042204  \n",
       "\n",
       "[5 rows x 30 columns]"
      ]
     },
     "execution_count": 46,
     "metadata": {},
     "output_type": "execute_result"
    }
   ],
   "source": [
    "afterpca.head()"
   ]
  },
  {
   "cell_type": "code",
   "execution_count": 47,
   "id": "388f9476",
   "metadata": {},
   "outputs": [],
   "source": [
    "afterpca.drop(columns=[28,29],inplace=True)"
   ]
  },
  {
   "cell_type": "code",
   "execution_count": 48,
   "id": "d08774bf",
   "metadata": {},
   "outputs": [
    {
     "data": {
      "text/html": [
       "<div>\n",
       "<style scoped>\n",
       "    .dataframe tbody tr th:only-of-type {\n",
       "        vertical-align: middle;\n",
       "    }\n",
       "\n",
       "    .dataframe tbody tr th {\n",
       "        vertical-align: top;\n",
       "    }\n",
       "\n",
       "    .dataframe thead th {\n",
       "        text-align: right;\n",
       "    }\n",
       "</style>\n",
       "<table border=\"1\" class=\"dataframe\">\n",
       "  <thead>\n",
       "    <tr style=\"text-align: right;\">\n",
       "      <th></th>\n",
       "      <th>0</th>\n",
       "      <th>1</th>\n",
       "      <th>2</th>\n",
       "      <th>3</th>\n",
       "      <th>4</th>\n",
       "      <th>5</th>\n",
       "      <th>6</th>\n",
       "      <th>7</th>\n",
       "      <th>8</th>\n",
       "      <th>9</th>\n",
       "      <th>...</th>\n",
       "      <th>18</th>\n",
       "      <th>19</th>\n",
       "      <th>20</th>\n",
       "      <th>21</th>\n",
       "      <th>22</th>\n",
       "      <th>23</th>\n",
       "      <th>24</th>\n",
       "      <th>25</th>\n",
       "      <th>26</th>\n",
       "      <th>27</th>\n",
       "    </tr>\n",
       "  </thead>\n",
       "  <tbody>\n",
       "    <tr>\n",
       "      <th>0</th>\n",
       "      <td>0.416630</td>\n",
       "      <td>-2.532664</td>\n",
       "      <td>0.615758</td>\n",
       "      <td>0.434305</td>\n",
       "      <td>-0.202052</td>\n",
       "      <td>0.503704</td>\n",
       "      <td>0.207345</td>\n",
       "      <td>-0.372804</td>\n",
       "      <td>0.444146</td>\n",
       "      <td>0.354984</td>\n",
       "      <td>...</td>\n",
       "      <td>0.466061</td>\n",
       "      <td>0.733560</td>\n",
       "      <td>-0.707707</td>\n",
       "      <td>0.214207</td>\n",
       "      <td>0.478082</td>\n",
       "      <td>-0.777172</td>\n",
       "      <td>0.441819</td>\n",
       "      <td>1.221133</td>\n",
       "      <td>0.329165</td>\n",
       "      <td>-0.974504</td>\n",
       "    </tr>\n",
       "    <tr>\n",
       "      <th>1</th>\n",
       "      <td>-0.393453</td>\n",
       "      <td>-2.077326</td>\n",
       "      <td>0.600298</td>\n",
       "      <td>0.071324</td>\n",
       "      <td>-0.483239</td>\n",
       "      <td>-0.423898</td>\n",
       "      <td>0.400443</td>\n",
       "      <td>-0.589043</td>\n",
       "      <td>0.036856</td>\n",
       "      <td>0.519000</td>\n",
       "      <td>...</td>\n",
       "      <td>0.057282</td>\n",
       "      <td>-0.684427</td>\n",
       "      <td>0.202588</td>\n",
       "      <td>-0.239136</td>\n",
       "      <td>-0.600761</td>\n",
       "      <td>0.576989</td>\n",
       "      <td>-0.495292</td>\n",
       "      <td>-0.259381</td>\n",
       "      <td>-0.212173</td>\n",
       "      <td>1.136618</td>\n",
       "    </tr>\n",
       "    <tr>\n",
       "      <th>2</th>\n",
       "      <td>1.868525</td>\n",
       "      <td>-2.533497</td>\n",
       "      <td>-0.071945</td>\n",
       "      <td>1.494092</td>\n",
       "      <td>1.172747</td>\n",
       "      <td>1.186620</td>\n",
       "      <td>-0.613634</td>\n",
       "      <td>-2.119968</td>\n",
       "      <td>0.287948</td>\n",
       "      <td>1.092398</td>\n",
       "      <td>...</td>\n",
       "      <td>-2.143424</td>\n",
       "      <td>1.615213</td>\n",
       "      <td>-0.596508</td>\n",
       "      <td>-1.244672</td>\n",
       "      <td>-1.378491</td>\n",
       "      <td>-2.523609</td>\n",
       "      <td>0.194882</td>\n",
       "      <td>1.190156</td>\n",
       "      <td>-0.136572</td>\n",
       "      <td>0.826666</td>\n",
       "    </tr>\n",
       "    <tr>\n",
       "      <th>3</th>\n",
       "      <td>0.315744</td>\n",
       "      <td>-1.783506</td>\n",
       "      <td>-0.175553</td>\n",
       "      <td>2.516096</td>\n",
       "      <td>1.071696</td>\n",
       "      <td>-0.758788</td>\n",
       "      <td>-0.945653</td>\n",
       "      <td>-0.392858</td>\n",
       "      <td>0.425380</td>\n",
       "      <td>-0.164391</td>\n",
       "      <td>...</td>\n",
       "      <td>-0.919148</td>\n",
       "      <td>-0.161968</td>\n",
       "      <td>0.314896</td>\n",
       "      <td>-0.617191</td>\n",
       "      <td>-0.735545</td>\n",
       "      <td>-0.672116</td>\n",
       "      <td>-1.424208</td>\n",
       "      <td>-1.013742</td>\n",
       "      <td>0.612713</td>\n",
       "      <td>0.541362</td>\n",
       "    </tr>\n",
       "    <tr>\n",
       "      <th>4</th>\n",
       "      <td>-0.004379</td>\n",
       "      <td>-1.488415</td>\n",
       "      <td>-0.445403</td>\n",
       "      <td>0.168959</td>\n",
       "      <td>-0.288938</td>\n",
       "      <td>0.575042</td>\n",
       "      <td>-0.099431</td>\n",
       "      <td>0.576535</td>\n",
       "      <td>0.057766</td>\n",
       "      <td>0.137390</td>\n",
       "      <td>...</td>\n",
       "      <td>0.538087</td>\n",
       "      <td>1.458182</td>\n",
       "      <td>0.180346</td>\n",
       "      <td>-0.197292</td>\n",
       "      <td>0.058801</td>\n",
       "      <td>0.593062</td>\n",
       "      <td>0.672125</td>\n",
       "      <td>1.632410</td>\n",
       "      <td>-0.233944</td>\n",
       "      <td>1.390793</td>\n",
       "    </tr>\n",
       "  </tbody>\n",
       "</table>\n",
       "<p>5 rows × 28 columns</p>\n",
       "</div>"
      ],
      "text/plain": [
       "         0         1         2         3         4         5         6   \\\n",
       "0  0.416630 -2.532664  0.615758  0.434305 -0.202052  0.503704  0.207345   \n",
       "1 -0.393453 -2.077326  0.600298  0.071324 -0.483239 -0.423898  0.400443   \n",
       "2  1.868525 -2.533497 -0.071945  1.494092  1.172747  1.186620 -0.613634   \n",
       "3  0.315744 -1.783506 -0.175553  2.516096  1.071696 -0.758788 -0.945653   \n",
       "4 -0.004379 -1.488415 -0.445403  0.168959 -0.288938  0.575042 -0.099431   \n",
       "\n",
       "         7         8         9   ...        18        19        20        21  \\\n",
       "0 -0.372804  0.444146  0.354984  ...  0.466061  0.733560 -0.707707  0.214207   \n",
       "1 -0.589043  0.036856  0.519000  ...  0.057282 -0.684427  0.202588 -0.239136   \n",
       "2 -2.119968  0.287948  1.092398  ... -2.143424  1.615213 -0.596508 -1.244672   \n",
       "3 -0.392858  0.425380 -0.164391  ... -0.919148 -0.161968  0.314896 -0.617191   \n",
       "4  0.576535  0.057766  0.137390  ...  0.538087  1.458182  0.180346 -0.197292   \n",
       "\n",
       "         22        23        24        25        26        27  \n",
       "0  0.478082 -0.777172  0.441819  1.221133  0.329165 -0.974504  \n",
       "1 -0.600761  0.576989 -0.495292 -0.259381 -0.212173  1.136618  \n",
       "2 -1.378491 -2.523609  0.194882  1.190156 -0.136572  0.826666  \n",
       "3 -0.735545 -0.672116 -1.424208 -1.013742  0.612713  0.541362  \n",
       "4  0.058801  0.593062  0.672125  1.632410 -0.233944  1.390793  \n",
       "\n",
       "[5 rows x 28 columns]"
      ]
     },
     "execution_count": 48,
     "metadata": {},
     "output_type": "execute_result"
    }
   ],
   "source": [
    "afterpca.head()"
   ]
  },
  {
   "cell_type": "code",
   "execution_count": 49,
   "id": "85f71dcc",
   "metadata": {},
   "outputs": [],
   "source": [
    "nm=MinMaxScaler()\n",
    "normdata=nm.fit_transform(afterpca)\n"
   ]
  },
  {
   "cell_type": "code",
   "execution_count": 50,
   "id": "f987b0ae",
   "metadata": {},
   "outputs": [
    {
     "data": {
      "text/plain": [
       "array([[0.06420451, 0.16491131, 0.65398029, ..., 0.20281215, 0.70121967,\n",
       "        0.65238114],\n",
       "       [0.05846377, 0.2134223 , 0.65322983, ..., 0.18124595, 0.68603128,\n",
       "        0.76947545],\n",
       "       [0.0744935 , 0.1648226 , 0.62059784, ..., 0.20236093, 0.68815243,\n",
       "        0.75228383],\n",
       "       ...,\n",
       "       [0.05987677, 0.65535497, 0.61941152, ..., 0.18930081, 0.70607355,\n",
       "        0.70387923],\n",
       "       [0.05794903, 0.56528815, 0.6249054 , ..., 0.22974972, 0.74952401,\n",
       "        0.63007503],\n",
       "       [0.06669166, 0.63778841, 0.61705789, ..., 0.18846607, 0.68193578,\n",
       "        0.69464242]])"
      ]
     },
     "execution_count": 50,
     "metadata": {},
     "output_type": "execute_result"
    }
   ],
   "source": [
    "normdata"
   ]
  },
  {
   "cell_type": "code",
   "execution_count": 51,
   "id": "f22bb1c1",
   "metadata": {},
   "outputs": [
    {
     "data": {
      "text/html": [
       "<div>\n",
       "<style scoped>\n",
       "    .dataframe tbody tr th:only-of-type {\n",
       "        vertical-align: middle;\n",
       "    }\n",
       "\n",
       "    .dataframe tbody tr th {\n",
       "        vertical-align: top;\n",
       "    }\n",
       "\n",
       "    .dataframe thead th {\n",
       "        text-align: right;\n",
       "    }\n",
       "</style>\n",
       "<table border=\"1\" class=\"dataframe\">\n",
       "  <thead>\n",
       "    <tr style=\"text-align: right;\">\n",
       "      <th></th>\n",
       "      <th>0</th>\n",
       "      <th>1</th>\n",
       "      <th>2</th>\n",
       "      <th>3</th>\n",
       "      <th>4</th>\n",
       "      <th>5</th>\n",
       "      <th>6</th>\n",
       "      <th>7</th>\n",
       "      <th>8</th>\n",
       "      <th>9</th>\n",
       "      <th>...</th>\n",
       "      <th>18</th>\n",
       "      <th>19</th>\n",
       "      <th>20</th>\n",
       "      <th>21</th>\n",
       "      <th>22</th>\n",
       "      <th>23</th>\n",
       "      <th>24</th>\n",
       "      <th>25</th>\n",
       "      <th>26</th>\n",
       "      <th>27</th>\n",
       "    </tr>\n",
       "  </thead>\n",
       "  <tbody>\n",
       "    <tr>\n",
       "      <th>0</th>\n",
       "      <td>0.064205</td>\n",
       "      <td>0.164911</td>\n",
       "      <td>0.653980</td>\n",
       "      <td>0.389537</td>\n",
       "      <td>0.468251</td>\n",
       "      <td>0.559743</td>\n",
       "      <td>0.638619</td>\n",
       "      <td>0.365811</td>\n",
       "      <td>0.427771</td>\n",
       "      <td>0.639463</td>\n",
       "      <td>...</td>\n",
       "      <td>0.245321</td>\n",
       "      <td>0.558691</td>\n",
       "      <td>0.560988</td>\n",
       "      <td>0.438454</td>\n",
       "      <td>0.352272</td>\n",
       "      <td>0.431111</td>\n",
       "      <td>0.608898</td>\n",
       "      <td>0.202812</td>\n",
       "      <td>0.701220</td>\n",
       "      <td>0.652381</td>\n",
       "    </tr>\n",
       "    <tr>\n",
       "      <th>1</th>\n",
       "      <td>0.058464</td>\n",
       "      <td>0.213422</td>\n",
       "      <td>0.653230</td>\n",
       "      <td>0.378145</td>\n",
       "      <td>0.464338</td>\n",
       "      <td>0.542013</td>\n",
       "      <td>0.642505</td>\n",
       "      <td>0.360273</td>\n",
       "      <td>0.422728</td>\n",
       "      <td>0.642162</td>\n",
       "      <td>...</td>\n",
       "      <td>0.235349</td>\n",
       "      <td>0.539346</td>\n",
       "      <td>0.580354</td>\n",
       "      <td>0.432727</td>\n",
       "      <td>0.335958</td>\n",
       "      <td>0.460012</td>\n",
       "      <td>0.590754</td>\n",
       "      <td>0.181246</td>\n",
       "      <td>0.686031</td>\n",
       "      <td>0.769475</td>\n",
       "    </tr>\n",
       "    <tr>\n",
       "      <th>2</th>\n",
       "      <td>0.074494</td>\n",
       "      <td>0.164823</td>\n",
       "      <td>0.620598</td>\n",
       "      <td>0.422798</td>\n",
       "      <td>0.487382</td>\n",
       "      <td>0.572796</td>\n",
       "      <td>0.622097</td>\n",
       "      <td>0.321065</td>\n",
       "      <td>0.425837</td>\n",
       "      <td>0.651597</td>\n",
       "      <td>...</td>\n",
       "      <td>0.181668</td>\n",
       "      <td>0.570718</td>\n",
       "      <td>0.563354</td>\n",
       "      <td>0.420023</td>\n",
       "      <td>0.324197</td>\n",
       "      <td>0.393838</td>\n",
       "      <td>0.604117</td>\n",
       "      <td>0.202361</td>\n",
       "      <td>0.688152</td>\n",
       "      <td>0.752284</td>\n",
       "    </tr>\n",
       "    <tr>\n",
       "      <th>3</th>\n",
       "      <td>0.063490</td>\n",
       "      <td>0.244725</td>\n",
       "      <td>0.615569</td>\n",
       "      <td>0.454873</td>\n",
       "      <td>0.485976</td>\n",
       "      <td>0.535612</td>\n",
       "      <td>0.615416</td>\n",
       "      <td>0.365297</td>\n",
       "      <td>0.427539</td>\n",
       "      <td>0.630917</td>\n",
       "      <td>...</td>\n",
       "      <td>0.211532</td>\n",
       "      <td>0.546474</td>\n",
       "      <td>0.582744</td>\n",
       "      <td>0.427951</td>\n",
       "      <td>0.333920</td>\n",
       "      <td>0.433353</td>\n",
       "      <td>0.572769</td>\n",
       "      <td>0.170257</td>\n",
       "      <td>0.709175</td>\n",
       "      <td>0.736459</td>\n",
       "    </tr>\n",
       "    <tr>\n",
       "      <th>4</th>\n",
       "      <td>0.061221</td>\n",
       "      <td>0.276164</td>\n",
       "      <td>0.602469</td>\n",
       "      <td>0.381210</td>\n",
       "      <td>0.467042</td>\n",
       "      <td>0.561106</td>\n",
       "      <td>0.632446</td>\n",
       "      <td>0.390124</td>\n",
       "      <td>0.422987</td>\n",
       "      <td>0.635883</td>\n",
       "      <td>...</td>\n",
       "      <td>0.247078</td>\n",
       "      <td>0.568576</td>\n",
       "      <td>0.579881</td>\n",
       "      <td>0.433256</td>\n",
       "      <td>0.345932</td>\n",
       "      <td>0.460355</td>\n",
       "      <td>0.613357</td>\n",
       "      <td>0.208803</td>\n",
       "      <td>0.685420</td>\n",
       "      <td>0.783573</td>\n",
       "    </tr>\n",
       "  </tbody>\n",
       "</table>\n",
       "<p>5 rows × 28 columns</p>\n",
       "</div>"
      ],
      "text/plain": [
       "         0         1         2         3         4         5         6   \\\n",
       "0  0.064205  0.164911  0.653980  0.389537  0.468251  0.559743  0.638619   \n",
       "1  0.058464  0.213422  0.653230  0.378145  0.464338  0.542013  0.642505   \n",
       "2  0.074494  0.164823  0.620598  0.422798  0.487382  0.572796  0.622097   \n",
       "3  0.063490  0.244725  0.615569  0.454873  0.485976  0.535612  0.615416   \n",
       "4  0.061221  0.276164  0.602469  0.381210  0.467042  0.561106  0.632446   \n",
       "\n",
       "         7         8         9   ...        18        19        20        21  \\\n",
       "0  0.365811  0.427771  0.639463  ...  0.245321  0.558691  0.560988  0.438454   \n",
       "1  0.360273  0.422728  0.642162  ...  0.235349  0.539346  0.580354  0.432727   \n",
       "2  0.321065  0.425837  0.651597  ...  0.181668  0.570718  0.563354  0.420023   \n",
       "3  0.365297  0.427539  0.630917  ...  0.211532  0.546474  0.582744  0.427951   \n",
       "4  0.390124  0.422987  0.635883  ...  0.247078  0.568576  0.579881  0.433256   \n",
       "\n",
       "         22        23        24        25        26        27  \n",
       "0  0.352272  0.431111  0.608898  0.202812  0.701220  0.652381  \n",
       "1  0.335958  0.460012  0.590754  0.181246  0.686031  0.769475  \n",
       "2  0.324197  0.393838  0.604117  0.202361  0.688152  0.752284  \n",
       "3  0.333920  0.433353  0.572769  0.170257  0.709175  0.736459  \n",
       "4  0.345932  0.460355  0.613357  0.208803  0.685420  0.783573  \n",
       "\n",
       "[5 rows x 28 columns]"
      ]
     },
     "execution_count": 51,
     "metadata": {},
     "output_type": "execute_result"
    }
   ],
   "source": [
    "finaldataset=pd.DataFrame(normdata)\n",
    "finaldataset.head()"
   ]
  },
  {
   "cell_type": "code",
   "execution_count": null,
   "id": "09f71a75",
   "metadata": {},
   "outputs": [
    {
     "name": "stdout",
     "output_type": "stream",
     "text": [
      "Epoch 1/30\n",
      "\u001b[1m8011/8011\u001b[0m \u001b[32m━━━━━━━━━━━━━━━━━━━━\u001b[0m\u001b[37m\u001b[0m \u001b[1m42s\u001b[0m 5ms/step - loss: 0.0021 - val_loss: 2.3564e-04\n",
      "Epoch 2/30\n",
      "\u001b[1m8011/8011\u001b[0m \u001b[32m━━━━━━━━━━━━━━━━━━━━\u001b[0m\u001b[37m\u001b[0m \u001b[1m38s\u001b[0m 5ms/step - loss: 2.2675e-04 - val_loss: 1.8068e-04\n",
      "Epoch 3/30\n",
      "\u001b[1m8011/8011\u001b[0m \u001b[32m━━━━━━━━━━━━━━━━━━━━\u001b[0m\u001b[37m\u001b[0m \u001b[1m39s\u001b[0m 5ms/step - loss: 1.7141e-04 - val_loss: 1.5292e-04\n",
      "Epoch 4/30\n",
      "\u001b[1m8011/8011\u001b[0m \u001b[32m━━━━━━━━━━━━━━━━━━━━\u001b[0m\u001b[37m\u001b[0m \u001b[1m39s\u001b[0m 5ms/step - loss: 1.6033e-04 - val_loss: 1.4602e-04\n",
      "Epoch 5/30\n",
      "\u001b[1m8011/8011\u001b[0m \u001b[32m━━━━━━━━━━━━━━━━━━━━\u001b[0m\u001b[37m\u001b[0m \u001b[1m39s\u001b[0m 4ms/step - loss: 1.5384e-04 - val_loss: 1.4358e-04\n",
      "Epoch 6/30\n",
      "\u001b[1m8011/8011\u001b[0m \u001b[32m━━━━━━━━━━━━━━━━━━━━\u001b[0m\u001b[37m\u001b[0m \u001b[1m33s\u001b[0m 4ms/step - loss: 1.5322e-04 - val_loss: 1.4225e-04\n",
      "Epoch 7/30\n",
      "\u001b[1m8011/8011\u001b[0m \u001b[32m━━━━━━━━━━━━━━━━━━━━\u001b[0m\u001b[37m\u001b[0m \u001b[1m43s\u001b[0m 4ms/step - loss: 1.4822e-04 - val_loss: 1.4040e-04\n",
      "Epoch 8/30\n",
      "\u001b[1m8011/8011\u001b[0m \u001b[32m━━━━━━━━━━━━━━━━━━━━\u001b[0m\u001b[37m\u001b[0m \u001b[1m34s\u001b[0m 4ms/step - loss: 1.4638e-04 - val_loss: 1.3992e-04\n",
      "Epoch 9/30\n",
      "\u001b[1m8011/8011\u001b[0m \u001b[32m━━━━━━━━━━━━━━━━━━━━\u001b[0m\u001b[37m\u001b[0m \u001b[1m33s\u001b[0m 4ms/step - loss: 1.4679e-04 - val_loss: 1.4004e-04\n",
      "Epoch 10/30\n",
      "\u001b[1m8011/8011\u001b[0m \u001b[32m━━━━━━━━━━━━━━━━━━━━\u001b[0m\u001b[37m\u001b[0m \u001b[1m42s\u001b[0m 4ms/step - loss: 1.4689e-04 - val_loss: 1.3774e-04\n",
      "Epoch 11/30\n",
      "\u001b[1m8011/8011\u001b[0m \u001b[32m━━━━━━━━━━━━━━━━━━━━\u001b[0m\u001b[37m\u001b[0m \u001b[1m37s\u001b[0m 5ms/step - loss: 1.4446e-04 - val_loss: 1.3678e-04\n",
      "Epoch 12/30\n",
      "\u001b[1m8011/8011\u001b[0m \u001b[32m━━━━━━━━━━━━━━━━━━━━\u001b[0m\u001b[37m\u001b[0m \u001b[1m37s\u001b[0m 4ms/step - loss: 1.4525e-04 - val_loss: 1.3787e-04\n",
      "Epoch 13/30\n",
      "\u001b[1m8011/8011\u001b[0m \u001b[32m━━━━━━━━━━━━━━━━━━━━\u001b[0m\u001b[37m\u001b[0m \u001b[1m33s\u001b[0m 4ms/step - loss: 1.4495e-04 - val_loss: 1.3633e-04\n",
      "Epoch 14/30\n",
      "\u001b[1m8011/8011\u001b[0m \u001b[32m━━━━━━━━━━━━━━━━━━━━\u001b[0m\u001b[37m\u001b[0m \u001b[1m40s\u001b[0m 4ms/step - loss: 1.4300e-04 - val_loss: 1.3644e-04\n",
      "Epoch 15/30\n",
      "\u001b[1m8011/8011\u001b[0m \u001b[32m━━━━━━━━━━━━━━━━━━━━\u001b[0m\u001b[37m\u001b[0m \u001b[1m33s\u001b[0m 4ms/step - loss: 1.4512e-04 - val_loss: 1.3494e-04\n",
      "Epoch 16/30\n",
      "\u001b[1m8011/8011\u001b[0m \u001b[32m━━━━━━━━━━━━━━━━━━━━\u001b[0m\u001b[37m\u001b[0m \u001b[1m44s\u001b[0m 4ms/step - loss: 1.4486e-04 - val_loss: 1.3513e-04\n",
      "Epoch 17/30\n",
      "\u001b[1m8011/8011\u001b[0m \u001b[32m━━━━━━━━━━━━━━━━━━━━\u001b[0m\u001b[37m\u001b[0m \u001b[1m38s\u001b[0m 4ms/step - loss: 1.4245e-04 - val_loss: 1.3791e-04\n",
      "Epoch 18/30\n",
      "\u001b[1m8011/8011\u001b[0m \u001b[32m━━━━━━━━━━━━━━━━━━━━\u001b[0m\u001b[37m\u001b[0m \u001b[1m32s\u001b[0m 4ms/step - loss: 1.4304e-04 - val_loss: 1.3487e-04\n",
      "Epoch 19/30\n",
      "\u001b[1m8011/8011\u001b[0m \u001b[32m━━━━━━━━━━━━━━━━━━━━\u001b[0m\u001b[37m\u001b[0m \u001b[1m42s\u001b[0m 4ms/step - loss: 1.4496e-04 - val_loss: 1.3380e-04\n",
      "Epoch 20/30\n",
      "\u001b[1m8011/8011\u001b[0m \u001b[32m━━━━━━━━━━━━━━━━━━━━\u001b[0m\u001b[37m\u001b[0m \u001b[1m33s\u001b[0m 4ms/step - loss: 1.4298e-04 - val_loss: 1.3462e-04\n",
      "Epoch 21/30\n",
      "\u001b[1m8011/8011\u001b[0m \u001b[32m━━━━━━━━━━━━━━━━━━━━\u001b[0m\u001b[37m\u001b[0m \u001b[1m33s\u001b[0m 4ms/step - loss: 1.4262e-04 - val_loss: 1.3505e-04\n",
      "Epoch 22/30\n",
      "\u001b[1m8011/8011\u001b[0m \u001b[32m━━━━━━━━━━━━━━━━━━━━\u001b[0m\u001b[37m\u001b[0m \u001b[1m33s\u001b[0m 4ms/step - loss: 1.4475e-04 - val_loss: 1.3482e-04\n",
      "Epoch 23/30\n",
      "\u001b[1m8011/8011\u001b[0m \u001b[32m━━━━━━━━━━━━━━━━━━━━\u001b[0m\u001b[37m\u001b[0m \u001b[1m33s\u001b[0m 4ms/step - loss: 1.4179e-04 - val_loss: 1.3449e-04\n",
      "Epoch 24/30\n",
      "\u001b[1m8011/8011\u001b[0m \u001b[32m━━━━━━━━━━━━━━━━━━━━\u001b[0m\u001b[37m\u001b[0m \u001b[1m41s\u001b[0m 4ms/step - loss: 1.4438e-04 - val_loss: 1.3478e-04\n",
      "Epoch 25/30\n",
      "\u001b[1m8011/8011\u001b[0m \u001b[32m━━━━━━━━━━━━━━━━━━━━\u001b[0m\u001b[37m\u001b[0m \u001b[1m37s\u001b[0m 5ms/step - loss: 1.4144e-04 - val_loss: 1.3473e-04\n",
      "Epoch 26/30\n",
      "\u001b[1m8011/8011\u001b[0m \u001b[32m━━━━━━━━━━━━━━━━━━━━\u001b[0m\u001b[37m\u001b[0m \u001b[1m67s\u001b[0m 8ms/step - loss: 1.4249e-04 - val_loss: 1.3489e-04\n",
      "Epoch 27/30\n",
      "\u001b[1m8011/8011\u001b[0m \u001b[32m━━━━━━━━━━━━━━━━━━━━\u001b[0m\u001b[37m\u001b[0m \u001b[1m409s\u001b[0m 51ms/step - loss: 1.4404e-04 - val_loss: 1.3488e-04\n",
      "Epoch 28/30\n",
      "\u001b[1m8011/8011\u001b[0m \u001b[32m━━━━━━━━━━━━━━━━━━━━\u001b[0m\u001b[37m\u001b[0m \u001b[1m6502s\u001b[0m 807ms/step - loss: 1.4268e-04 - val_loss: 1.3451e-04\n",
      "Epoch 29/30\n",
      "\u001b[1m8011/8011\u001b[0m \u001b[32m━━━━━━━━━━━━━━━━━━━━\u001b[0m\u001b[37m\u001b[0m \u001b[1m49s\u001b[0m 6ms/step - loss: 1.4393e-04 - val_loss: 1.3653e-04\n",
      "Epoch 30/30\n",
      "\u001b[1m8011/8011\u001b[0m \u001b[32m━━━━━━━━━━━━━━━━━━━━\u001b[0m\u001b[37m\u001b[0m \u001b[1m53s\u001b[0m 7ms/step - loss: 1.4445e-04 - val_loss: 1.3354e-04\n"
     ]
    },
    {
     "data": {
      "text/plain": [
       "'\\nInput dataset (first dataset): Goes into the encoder(compressed) and then decoder tries to reconstruct the compressed ones\\nTarget dataset (second dataset)\\tUsed to calculate loss after decoding\\nModel output (decoder output)\\tCompared to target to calculate error\\nModel updates weights : To reduce error over training\\n'"
      ]
     },
     "execution_count": 52,
     "metadata": {},
     "output_type": "execute_result"
    }
   ],
   "source": [
    "\n",
    "from tensorflow.keras.optimizers import Adam\n",
    "\n",
    "# Suppose final_data is your normalized PCA output as a NumPy array or DataFrame\n",
    "# final_data.shape = (num_samples, num_features)\n",
    "\n",
    "input_dim = finaldataset.shape[1]  # number of PCA components after normalization\n",
    "\n",
    "# Define input layer\n",
    "input_layer = Input(shape=(input_dim,))\n",
    "\n",
    "# Encoder part - compress to smaller dimension (e.g., half size)\n",
    "encoded = Dense(int(input_dim / 2), activation='relu')(input_layer)\n",
    "\n",
    "# Decoder part - reconstruct original dimension\n",
    "decoded = Dense(input_dim, activation='sigmoid')(encoded)\n",
    "\n",
    "# Build the autoencoder model\n",
    "autoencoder = Model(inputs=input_layer, outputs=decoded)\n",
    "\n",
    "# update weights using adam optimizer\n",
    "autoencoder.compile(optimizer=Adam(), loss='mse')\n",
    "\n",
    "# Train the model\n",
    "#The goal is to reconstruct the input itself.\n",
    "#So, the target output is the same as the input. While in supervised .fit(x,y)\n",
    "autoencoder.fit(finaldataset, finaldataset,\n",
    "                epochs=30,\n",
    "                batch_size=32,\n",
    "                shuffle=True,\n",
    "                validation_split=0.1)\n",
    "\"\"\"\n",
    "Input dataset (first dataset): Goes into the encoder(compressed) and then decoder tries to reconstruct the compressed ones\n",
    "Target dataset (second dataset)\tUsed to calculate loss after decoding\n",
    "Model output (decoder output)\tCompared to target to calculate error\n",
    "Model updates weights : To reduce error over training\n",
    "loss: MSE between the reconstructed output and the original input — calculated on the training data during training\n",
    "valloss: after training now 0.1% of unseen data during training will be tested and find MSE btw them and original \n",
    "\"\"\"\n"
   ]
  },
  {
   "cell_type": "markdown",
   "id": "8482bae9",
   "metadata": {},
   "source": [
    "Both loss and val_loss decreased after ecah ephoc and were very close at each ephoc so  model is learning well and generalizing!"
   ]
  },
  {
   "cell_type": "markdown",
   "id": "780aa4e5",
   "metadata": {},
   "source": [
    "1. Input: The normalized PCA data vector (e.g., 28 numbers)\n",
    "\n",
    "2. Dense layer(s): \n",
    "   - Encoder: Compresses the input data into a smaller representation (latent space).\n",
    "\n",
    "   - Decoder: Takes that compressed representation and tries to rebuild (reconstruct) the original input.\n",
    "\n",
    "Model: Connects input → encoder layers → decoder layers → output\n",
    "\n",
    "Keras: Provides the tools to create all of the above easily"
   ]
  },
  {
   "cell_type": "markdown",
   "id": "a2eb4eb3",
   "metadata": {},
   "source": [
    "🧠 Autoencoder: fails to reconstruct abnormal/fraudulent transactions → those have high reconstruction error.\n",
    "\n",
    "🧠 Reconstruction error means difference ebtween input and reconstructed output\n",
    "\n",
    "🧠 Think of it like:\n",
    "“I’ve seen thousands of cats. I can draw cats perfectly now.\n",
    "But this dog? I can’t draw it well — it’s too different.”\n",
    "\n"
   ]
  },
  {
   "cell_type": "markdown",
   "id": "6e788122",
   "metadata": {},
   "source": [
    "In general in supervised when training using.fit(x,y) we are feeding the model input data x, and the model tries to predict y. After prediction, the model compares its output to the true labels y using a loss function, which measures how far off the predictions are if we get loss and acc after ech ephoc during training if the loss decreases and acc increase after each ephoc then the model is training well otherwise (underfitting) feed the model with more data. \n",
    "\n",
    "Overfitting occurs when a model performs very well on the training data but poorly on unseen test data. You can detect it by comparing metrics: if training loss is low but test loss is high, or training accuracy is high but test accuracy is low, the model is likely overfitting."
   ]
  },
  {
   "cell_type": "code",
   "execution_count": 53,
   "id": "d7e3f661",
   "metadata": {},
   "outputs": [
    {
     "name": "stdout",
     "output_type": "stream",
     "text": [
      "\u001b[1m8901/8901\u001b[0m \u001b[32m━━━━━━━━━━━━━━━━━━━━\u001b[0m\u001b[37m\u001b[0m \u001b[1m29s\u001b[0m 3ms/step\n"
     ]
    },
    {
     "data": {
      "text/plain": [
       "array([[0.06053764, 0.19331832, 0.65463525, ..., 0.1833957 , 0.7014724 ,\n",
       "        0.65161896],\n",
       "       [0.06022099, 0.22619566, 0.6536524 , ..., 0.18325791, 0.68697596,\n",
       "        0.76529723],\n",
       "       [0.0610654 , 0.19143058, 0.6218796 , ..., 0.185136  , 0.6894245 ,\n",
       "        0.7497672 ],\n",
       "       ...,\n",
       "       [0.06105853, 0.65624815, 0.61911833, ..., 0.18378323, 0.70786047,\n",
       "        0.70276344],\n",
       "       [0.06116782, 0.56894594, 0.6248082 , ..., 0.18349436, 0.74659544,\n",
       "        0.6271243 ],\n",
       "       [0.06149605, 0.6411303 , 0.6169268 , ..., 0.18412365, 0.6814721 ,\n",
       "        0.6953267 ]], dtype=float32)"
      ]
     },
     "execution_count": 53,
     "metadata": {},
     "output_type": "execute_result"
    }
   ],
   "source": [
    "\"\"\"\n",
    "1. feed input data without the class column (just features).\n",
    "\n",
    "2. The model returns the reconstructed version of that input — not labels.\n",
    "\"\"\"\n",
    "reconstructed=autoencoder.predict(finaldataset)\n",
    "reconstructed"
   ]
  },
  {
   "cell_type": "code",
   "execution_count": 54,
   "id": "88574deb",
   "metadata": {},
   "outputs": [],
   "source": [
    "# MSE: difference between reconstructed and original one\n",
    "mse = np.mean(np.power(finaldataset - reconstructed, 2), axis=1)"
   ]
  },
  {
   "cell_type": "code",
   "execution_count": 55,
   "id": "a1d21fd3",
   "metadata": {},
   "outputs": [
    {
     "data": {
      "text/plain": [
       "0         0.000068\n",
       "1         0.000032\n",
       "2         0.000152\n",
       "3         0.000109\n",
       "4         0.000092\n",
       "            ...   \n",
       "284802    0.001151\n",
       "284803    0.000045\n",
       "284804    0.000130\n",
       "284805    0.000195\n",
       "284806    0.000047\n",
       "Length: 284807, dtype: float64"
      ]
     },
     "execution_count": 55,
     "metadata": {},
     "output_type": "execute_result"
    }
   ],
   "source": [
    "mse"
   ]
  },
  {
   "cell_type": "markdown",
   "id": "691cb3c5",
   "metadata": {},
   "source": [
    "Low MSE: The autoencoder reconstructed the sample well → likely normal data.\n",
    "\n",
    "High MSE: The autoencoder struggled to reconstruct the sample → possibly anomalous or fraudulent."
   ]
  },
  {
   "cell_type": "code",
   "execution_count": 70,
   "id": "c96e49fd",
   "metadata": {},
   "outputs": [
    {
     "data": {
      "text/plain": [
       "0         False\n",
       "1         False\n",
       "2         False\n",
       "3         False\n",
       "4         False\n",
       "          ...  \n",
       "284802    False\n",
       "284803    False\n",
       "284804    False\n",
       "284805    False\n",
       "284806    False\n",
       "Length: 284807, dtype: bool"
      ]
     },
     "execution_count": 70,
     "metadata": {},
     "output_type": "execute_result"
    }
   ],
   "source": [
    "threshold = np.percentile(mse, 99)#gives you the MSE value which is bigger than 99% of these values\n",
    "anomalies = mse > threshold\n",
    "anomalies"
   ]
  },
  {
   "cell_type": "code",
   "execution_count": 71,
   "id": "125d3ee8",
   "metadata": {},
   "outputs": [
    {
     "data": {
      "text/plain": [
       "np.int64(2849)"
      ]
     },
     "execution_count": 71,
     "metadata": {},
     "output_type": "execute_result"
    }
   ],
   "source": [
    "count=(anomalies==True).sum()\n",
    "count"
   ]
  },
  {
   "cell_type": "code",
   "execution_count": 72,
   "id": "c11268c7",
   "metadata": {},
   "outputs": [
    {
     "data": {
      "text/plain": [
       "np.int64(492)"
      ]
     },
     "execution_count": 72,
     "metadata": {},
     "output_type": "execute_result"
    }
   ],
   "source": [
    "count2=(yorig==1).sum()\n",
    "count2"
   ]
  },
  {
   "cell_type": "code",
   "execution_count": 73,
   "id": "ec0db20a",
   "metadata": {},
   "outputs": [
    {
     "name": "stdout",
     "output_type": "stream",
     "text": [
      "              precision    recall  f1-score   support\n",
      "\n",
      "           0       1.00      0.99      1.00    284315\n",
      "           1       0.09      0.54      0.16       492\n",
      "\n",
      "    accuracy                           0.99    284807\n",
      "   macro avg       0.55      0.77      0.58    284807\n",
      "weighted avg       1.00      0.99      0.99    284807\n",
      "\n"
     ]
    }
   ],
   "source": [
    "predicted_labels = anomalies.astype(int)\n",
    "print(classification_report(yorig, predicted_labels))\n"
   ]
  },
  {
   "cell_type": "code",
   "execution_count": 58,
   "id": "5aa2d9d7",
   "metadata": {},
   "outputs": [
    {
     "data": {
      "text/plain": [
       "0.09406809406809406"
      ]
     },
     "execution_count": 58,
     "metadata": {},
     "output_type": "execute_result"
    }
   ],
   "source": [
    "precision_score(yorig,anomalies)"
   ]
  },
  {
   "cell_type": "code",
   "execution_count": 59,
   "id": "8e46fc10",
   "metadata": {},
   "outputs": [
    {
     "data": {
      "text/plain": [
       "0.5447154471544715"
      ]
     },
     "execution_count": 59,
     "metadata": {},
     "output_type": "execute_result"
    }
   ],
   "source": [
    "recall_score(yorig,anomalies)"
   ]
  },
  {
   "cell_type": "markdown",
   "id": "ce71c0cf",
   "metadata": {},
   "source": [
    "Conclusion and Insights:\n",
    "\n",
    "The models demonstrate strong performance in identifying normal transactions but face significant challenges detecting rare fraud cases due to the extreme class imbalance. "
   ]
  }
 ],
 "metadata": {
  "kernelspec": {
   "display_name": "test",
   "language": "python",
   "name": "python3"
  },
  "language_info": {
   "codemirror_mode": {
    "name": "ipython",
    "version": 3
   },
   "file_extension": ".py",
   "mimetype": "text/x-python",
   "name": "python",
   "nbconvert_exporter": "python",
   "pygments_lexer": "ipython3",
   "version": "3.10.3"
  }
 },
 "nbformat": 4,
 "nbformat_minor": 5
}
