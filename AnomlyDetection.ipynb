{
 "cells": [
  {
   "cell_type": "markdown",
   "id": "2f9e217c",
   "metadata": {},
   "source": [
    "✅unsupervised anomaly detection methods :\n",
    "\n",
    "Isolation forest, one class SVM, Auto encoders\n",
    "\n",
    "✅Anomly detection models dont know what fraud is they learn whats normal and anything is different is considered fraud."
   ]
  },
  {
   "cell_type": "markdown",
   "id": "030e6de3",
   "metadata": {},
   "source": [
    "✅ Unsupervised Learning Definition\n",
    "In unsupervised learning, the model:\n",
    "\n",
    "Does not use labeled data during training\n",
    "\n",
    "Learns patterns or structure from the input data only\n",
    "\n",
    "Is typically used for tasks like clustering, dimensionality reduction, and anomaly detection\n",
    "\n"
   ]
  },
  {
   "cell_type": "markdown",
   "id": "4b1ef735",
   "metadata": {},
   "source": [
    "💡 What Is Anomaly Detection?\n",
    "Anomaly detection is a technique used to find unusual or unexpected data points — things that don’t fit the normal pattern."
   ]
  },
  {
   "cell_type": "markdown",
   "id": "f97ad7a8",
   "metadata": {},
   "source": [
    "💡Feature engineering is about transforming the data to improve model performance (onhot encoding, handling missing data,...)\n",
    "\n",
    "💡EDA is about understanding the data. Explore, visualize, and summarize the main characteristics of the dataset.\n",
    "\n",
    "1. from data.describe we undertsand mean and std for each features\n",
    "\n",
    "2. undertand dtype for each feature if its numeric or categorical \n",
    "\n",
    "3. distribution if its weel or skeweed using histplot and distplot\n",
    "\n",
    "4. outliers using boxplot\n",
    "\n",
    "5. correlaton matrix to undertsad relation of features to see how to reduce features"
   ]
  },
  {
   "cell_type": "code",
   "execution_count": 1,
   "metadata": {},
   "outputs": [],
   "source": [
    "import pandas as pd  \n",
    "import numpy as np  \n",
    "import matplotlib.pyplot as plt\n",
    "import seaborn as sns"
   ]
  },
  {
   "cell_type": "code",
   "execution_count": 3,
   "id": "825da2af",
   "metadata": {},
   "outputs": [],
   "source": [
    "df=pd.read_csv(\"creditcard.csv\")"
   ]
  },
  {
   "cell_type": "code",
   "execution_count": 4,
   "id": "1a7fb288",
   "metadata": {},
   "outputs": [
    {
     "data": {
      "text/html": [
       "<div>\n",
       "<style scoped>\n",
       "    .dataframe tbody tr th:only-of-type {\n",
       "        vertical-align: middle;\n",
       "    }\n",
       "\n",
       "    .dataframe tbody tr th {\n",
       "        vertical-align: top;\n",
       "    }\n",
       "\n",
       "    .dataframe thead th {\n",
       "        text-align: right;\n",
       "    }\n",
       "</style>\n",
       "<table border=\"1\" class=\"dataframe\">\n",
       "  <thead>\n",
       "    <tr style=\"text-align: right;\">\n",
       "      <th></th>\n",
       "      <th>Time</th>\n",
       "      <th>V1</th>\n",
       "      <th>V2</th>\n",
       "      <th>V3</th>\n",
       "      <th>V4</th>\n",
       "      <th>V5</th>\n",
       "      <th>V6</th>\n",
       "      <th>V7</th>\n",
       "      <th>V8</th>\n",
       "      <th>V9</th>\n",
       "      <th>...</th>\n",
       "      <th>V21</th>\n",
       "      <th>V22</th>\n",
       "      <th>V23</th>\n",
       "      <th>V24</th>\n",
       "      <th>V25</th>\n",
       "      <th>V26</th>\n",
       "      <th>V27</th>\n",
       "      <th>V28</th>\n",
       "      <th>Amount</th>\n",
       "      <th>Class</th>\n",
       "    </tr>\n",
       "  </thead>\n",
       "  <tbody>\n",
       "    <tr>\n",
       "      <th>0</th>\n",
       "      <td>0.0</td>\n",
       "      <td>-1.359807</td>\n",
       "      <td>-0.072781</td>\n",
       "      <td>2.536347</td>\n",
       "      <td>1.378155</td>\n",
       "      <td>-0.338321</td>\n",
       "      <td>0.462388</td>\n",
       "      <td>0.239599</td>\n",
       "      <td>0.098698</td>\n",
       "      <td>0.363787</td>\n",
       "      <td>...</td>\n",
       "      <td>-0.018307</td>\n",
       "      <td>0.277838</td>\n",
       "      <td>-0.110474</td>\n",
       "      <td>0.066928</td>\n",
       "      <td>0.128539</td>\n",
       "      <td>-0.189115</td>\n",
       "      <td>0.133558</td>\n",
       "      <td>-0.021053</td>\n",
       "      <td>149.62</td>\n",
       "      <td>0</td>\n",
       "    </tr>\n",
       "    <tr>\n",
       "      <th>1</th>\n",
       "      <td>0.0</td>\n",
       "      <td>1.191857</td>\n",
       "      <td>0.266151</td>\n",
       "      <td>0.166480</td>\n",
       "      <td>0.448154</td>\n",
       "      <td>0.060018</td>\n",
       "      <td>-0.082361</td>\n",
       "      <td>-0.078803</td>\n",
       "      <td>0.085102</td>\n",
       "      <td>-0.255425</td>\n",
       "      <td>...</td>\n",
       "      <td>-0.225775</td>\n",
       "      <td>-0.638672</td>\n",
       "      <td>0.101288</td>\n",
       "      <td>-0.339846</td>\n",
       "      <td>0.167170</td>\n",
       "      <td>0.125895</td>\n",
       "      <td>-0.008983</td>\n",
       "      <td>0.014724</td>\n",
       "      <td>2.69</td>\n",
       "      <td>0</td>\n",
       "    </tr>\n",
       "    <tr>\n",
       "      <th>2</th>\n",
       "      <td>1.0</td>\n",
       "      <td>-1.358354</td>\n",
       "      <td>-1.340163</td>\n",
       "      <td>1.773209</td>\n",
       "      <td>0.379780</td>\n",
       "      <td>-0.503198</td>\n",
       "      <td>1.800499</td>\n",
       "      <td>0.791461</td>\n",
       "      <td>0.247676</td>\n",
       "      <td>-1.514654</td>\n",
       "      <td>...</td>\n",
       "      <td>0.247998</td>\n",
       "      <td>0.771679</td>\n",
       "      <td>0.909412</td>\n",
       "      <td>-0.689281</td>\n",
       "      <td>-0.327642</td>\n",
       "      <td>-0.139097</td>\n",
       "      <td>-0.055353</td>\n",
       "      <td>-0.059752</td>\n",
       "      <td>378.66</td>\n",
       "      <td>0</td>\n",
       "    </tr>\n",
       "    <tr>\n",
       "      <th>3</th>\n",
       "      <td>1.0</td>\n",
       "      <td>-0.966272</td>\n",
       "      <td>-0.185226</td>\n",
       "      <td>1.792993</td>\n",
       "      <td>-0.863291</td>\n",
       "      <td>-0.010309</td>\n",
       "      <td>1.247203</td>\n",
       "      <td>0.237609</td>\n",
       "      <td>0.377436</td>\n",
       "      <td>-1.387024</td>\n",
       "      <td>...</td>\n",
       "      <td>-0.108300</td>\n",
       "      <td>0.005274</td>\n",
       "      <td>-0.190321</td>\n",
       "      <td>-1.175575</td>\n",
       "      <td>0.647376</td>\n",
       "      <td>-0.221929</td>\n",
       "      <td>0.062723</td>\n",
       "      <td>0.061458</td>\n",
       "      <td>123.50</td>\n",
       "      <td>0</td>\n",
       "    </tr>\n",
       "    <tr>\n",
       "      <th>4</th>\n",
       "      <td>2.0</td>\n",
       "      <td>-1.158233</td>\n",
       "      <td>0.877737</td>\n",
       "      <td>1.548718</td>\n",
       "      <td>0.403034</td>\n",
       "      <td>-0.407193</td>\n",
       "      <td>0.095921</td>\n",
       "      <td>0.592941</td>\n",
       "      <td>-0.270533</td>\n",
       "      <td>0.817739</td>\n",
       "      <td>...</td>\n",
       "      <td>-0.009431</td>\n",
       "      <td>0.798278</td>\n",
       "      <td>-0.137458</td>\n",
       "      <td>0.141267</td>\n",
       "      <td>-0.206010</td>\n",
       "      <td>0.502292</td>\n",
       "      <td>0.219422</td>\n",
       "      <td>0.215153</td>\n",
       "      <td>69.99</td>\n",
       "      <td>0</td>\n",
       "    </tr>\n",
       "    <tr>\n",
       "      <th>...</th>\n",
       "      <td>...</td>\n",
       "      <td>...</td>\n",
       "      <td>...</td>\n",
       "      <td>...</td>\n",
       "      <td>...</td>\n",
       "      <td>...</td>\n",
       "      <td>...</td>\n",
       "      <td>...</td>\n",
       "      <td>...</td>\n",
       "      <td>...</td>\n",
       "      <td>...</td>\n",
       "      <td>...</td>\n",
       "      <td>...</td>\n",
       "      <td>...</td>\n",
       "      <td>...</td>\n",
       "      <td>...</td>\n",
       "      <td>...</td>\n",
       "      <td>...</td>\n",
       "      <td>...</td>\n",
       "      <td>...</td>\n",
       "      <td>...</td>\n",
       "    </tr>\n",
       "    <tr>\n",
       "      <th>284802</th>\n",
       "      <td>172786.0</td>\n",
       "      <td>-11.881118</td>\n",
       "      <td>10.071785</td>\n",
       "      <td>-9.834783</td>\n",
       "      <td>-2.066656</td>\n",
       "      <td>-5.364473</td>\n",
       "      <td>-2.606837</td>\n",
       "      <td>-4.918215</td>\n",
       "      <td>7.305334</td>\n",
       "      <td>1.914428</td>\n",
       "      <td>...</td>\n",
       "      <td>0.213454</td>\n",
       "      <td>0.111864</td>\n",
       "      <td>1.014480</td>\n",
       "      <td>-0.509348</td>\n",
       "      <td>1.436807</td>\n",
       "      <td>0.250034</td>\n",
       "      <td>0.943651</td>\n",
       "      <td>0.823731</td>\n",
       "      <td>0.77</td>\n",
       "      <td>0</td>\n",
       "    </tr>\n",
       "    <tr>\n",
       "      <th>284803</th>\n",
       "      <td>172787.0</td>\n",
       "      <td>-0.732789</td>\n",
       "      <td>-0.055080</td>\n",
       "      <td>2.035030</td>\n",
       "      <td>-0.738589</td>\n",
       "      <td>0.868229</td>\n",
       "      <td>1.058415</td>\n",
       "      <td>0.024330</td>\n",
       "      <td>0.294869</td>\n",
       "      <td>0.584800</td>\n",
       "      <td>...</td>\n",
       "      <td>0.214205</td>\n",
       "      <td>0.924384</td>\n",
       "      <td>0.012463</td>\n",
       "      <td>-1.016226</td>\n",
       "      <td>-0.606624</td>\n",
       "      <td>-0.395255</td>\n",
       "      <td>0.068472</td>\n",
       "      <td>-0.053527</td>\n",
       "      <td>24.79</td>\n",
       "      <td>0</td>\n",
       "    </tr>\n",
       "    <tr>\n",
       "      <th>284804</th>\n",
       "      <td>172788.0</td>\n",
       "      <td>1.919565</td>\n",
       "      <td>-0.301254</td>\n",
       "      <td>-3.249640</td>\n",
       "      <td>-0.557828</td>\n",
       "      <td>2.630515</td>\n",
       "      <td>3.031260</td>\n",
       "      <td>-0.296827</td>\n",
       "      <td>0.708417</td>\n",
       "      <td>0.432454</td>\n",
       "      <td>...</td>\n",
       "      <td>0.232045</td>\n",
       "      <td>0.578229</td>\n",
       "      <td>-0.037501</td>\n",
       "      <td>0.640134</td>\n",
       "      <td>0.265745</td>\n",
       "      <td>-0.087371</td>\n",
       "      <td>0.004455</td>\n",
       "      <td>-0.026561</td>\n",
       "      <td>67.88</td>\n",
       "      <td>0</td>\n",
       "    </tr>\n",
       "    <tr>\n",
       "      <th>284805</th>\n",
       "      <td>172788.0</td>\n",
       "      <td>-0.240440</td>\n",
       "      <td>0.530483</td>\n",
       "      <td>0.702510</td>\n",
       "      <td>0.689799</td>\n",
       "      <td>-0.377961</td>\n",
       "      <td>0.623708</td>\n",
       "      <td>-0.686180</td>\n",
       "      <td>0.679145</td>\n",
       "      <td>0.392087</td>\n",
       "      <td>...</td>\n",
       "      <td>0.265245</td>\n",
       "      <td>0.800049</td>\n",
       "      <td>-0.163298</td>\n",
       "      <td>0.123205</td>\n",
       "      <td>-0.569159</td>\n",
       "      <td>0.546668</td>\n",
       "      <td>0.108821</td>\n",
       "      <td>0.104533</td>\n",
       "      <td>10.00</td>\n",
       "      <td>0</td>\n",
       "    </tr>\n",
       "    <tr>\n",
       "      <th>284806</th>\n",
       "      <td>172792.0</td>\n",
       "      <td>-0.533413</td>\n",
       "      <td>-0.189733</td>\n",
       "      <td>0.703337</td>\n",
       "      <td>-0.506271</td>\n",
       "      <td>-0.012546</td>\n",
       "      <td>-0.649617</td>\n",
       "      <td>1.577006</td>\n",
       "      <td>-0.414650</td>\n",
       "      <td>0.486180</td>\n",
       "      <td>...</td>\n",
       "      <td>0.261057</td>\n",
       "      <td>0.643078</td>\n",
       "      <td>0.376777</td>\n",
       "      <td>0.008797</td>\n",
       "      <td>-0.473649</td>\n",
       "      <td>-0.818267</td>\n",
       "      <td>-0.002415</td>\n",
       "      <td>0.013649</td>\n",
       "      <td>217.00</td>\n",
       "      <td>0</td>\n",
       "    </tr>\n",
       "  </tbody>\n",
       "</table>\n",
       "<p>284807 rows × 31 columns</p>\n",
       "</div>"
      ],
      "text/plain": [
       "            Time         V1         V2        V3        V4        V5  \\\n",
       "0            0.0  -1.359807  -0.072781  2.536347  1.378155 -0.338321   \n",
       "1            0.0   1.191857   0.266151  0.166480  0.448154  0.060018   \n",
       "2            1.0  -1.358354  -1.340163  1.773209  0.379780 -0.503198   \n",
       "3            1.0  -0.966272  -0.185226  1.792993 -0.863291 -0.010309   \n",
       "4            2.0  -1.158233   0.877737  1.548718  0.403034 -0.407193   \n",
       "...          ...        ...        ...       ...       ...       ...   \n",
       "284802  172786.0 -11.881118  10.071785 -9.834783 -2.066656 -5.364473   \n",
       "284803  172787.0  -0.732789  -0.055080  2.035030 -0.738589  0.868229   \n",
       "284804  172788.0   1.919565  -0.301254 -3.249640 -0.557828  2.630515   \n",
       "284805  172788.0  -0.240440   0.530483  0.702510  0.689799 -0.377961   \n",
       "284806  172792.0  -0.533413  -0.189733  0.703337 -0.506271 -0.012546   \n",
       "\n",
       "              V6        V7        V8        V9  ...       V21       V22  \\\n",
       "0       0.462388  0.239599  0.098698  0.363787  ... -0.018307  0.277838   \n",
       "1      -0.082361 -0.078803  0.085102 -0.255425  ... -0.225775 -0.638672   \n",
       "2       1.800499  0.791461  0.247676 -1.514654  ...  0.247998  0.771679   \n",
       "3       1.247203  0.237609  0.377436 -1.387024  ... -0.108300  0.005274   \n",
       "4       0.095921  0.592941 -0.270533  0.817739  ... -0.009431  0.798278   \n",
       "...          ...       ...       ...       ...  ...       ...       ...   \n",
       "284802 -2.606837 -4.918215  7.305334  1.914428  ...  0.213454  0.111864   \n",
       "284803  1.058415  0.024330  0.294869  0.584800  ...  0.214205  0.924384   \n",
       "284804  3.031260 -0.296827  0.708417  0.432454  ...  0.232045  0.578229   \n",
       "284805  0.623708 -0.686180  0.679145  0.392087  ...  0.265245  0.800049   \n",
       "284806 -0.649617  1.577006 -0.414650  0.486180  ...  0.261057  0.643078   \n",
       "\n",
       "             V23       V24       V25       V26       V27       V28  Amount  \\\n",
       "0      -0.110474  0.066928  0.128539 -0.189115  0.133558 -0.021053  149.62   \n",
       "1       0.101288 -0.339846  0.167170  0.125895 -0.008983  0.014724    2.69   \n",
       "2       0.909412 -0.689281 -0.327642 -0.139097 -0.055353 -0.059752  378.66   \n",
       "3      -0.190321 -1.175575  0.647376 -0.221929  0.062723  0.061458  123.50   \n",
       "4      -0.137458  0.141267 -0.206010  0.502292  0.219422  0.215153   69.99   \n",
       "...          ...       ...       ...       ...       ...       ...     ...   \n",
       "284802  1.014480 -0.509348  1.436807  0.250034  0.943651  0.823731    0.77   \n",
       "284803  0.012463 -1.016226 -0.606624 -0.395255  0.068472 -0.053527   24.79   \n",
       "284804 -0.037501  0.640134  0.265745 -0.087371  0.004455 -0.026561   67.88   \n",
       "284805 -0.163298  0.123205 -0.569159  0.546668  0.108821  0.104533   10.00   \n",
       "284806  0.376777  0.008797 -0.473649 -0.818267 -0.002415  0.013649  217.00   \n",
       "\n",
       "        Class  \n",
       "0           0  \n",
       "1           0  \n",
       "2           0  \n",
       "3           0  \n",
       "4           0  \n",
       "...       ...  \n",
       "284802      0  \n",
       "284803      0  \n",
       "284804      0  \n",
       "284805      0  \n",
       "284806      0  \n",
       "\n",
       "[284807 rows x 31 columns]"
      ]
     },
     "execution_count": 4,
     "metadata": {},
     "output_type": "execute_result"
    }
   ],
   "source": [
    "df"
   ]
  },
  {
   "cell_type": "code",
   "execution_count": 13,
   "id": "9af26bb8",
   "metadata": {},
   "outputs": [
    {
     "name": "stdout",
     "output_type": "stream",
     "text": [
      "0         0\n",
      "1         0\n",
      "2         0\n",
      "3         0\n",
      "4         0\n",
      "         ..\n",
      "284802    0\n",
      "284803    0\n",
      "284804    0\n",
      "284805    0\n",
      "284806    0\n",
      "Name: Class, Length: 284807, dtype: int64\n",
      "284315\n",
      "492\n"
     ]
    }
   ],
   "source": [
    "y=df['Class']\n",
    "print(y)\n",
    "print((y==0).sum())\n",
    "print((y==1).sum())\n"
   ]
  },
  {
   "cell_type": "markdown",
   "id": "3b4bbfc5",
   "metadata": {},
   "source": [
    "Data is imabalnced:\n",
    "\n",
    "Non-fraud (label 0): 284,315 samples\n",
    "\n",
    "Fraud (label 1): 492 samples"
   ]
  },
  {
   "cell_type": "code",
   "execution_count": 6,
   "id": "01be756d",
   "metadata": {},
   "outputs": [
    {
     "name": "stdout",
     "output_type": "stream",
     "text": [
      "<class 'pandas.core.frame.DataFrame'>\n",
      "RangeIndex: 284807 entries, 0 to 284806\n",
      "Data columns (total 31 columns):\n",
      " #   Column  Non-Null Count   Dtype  \n",
      "---  ------  --------------   -----  \n",
      " 0   Time    284807 non-null  float64\n",
      " 1   V1      284807 non-null  float64\n",
      " 2   V2      284807 non-null  float64\n",
      " 3   V3      284807 non-null  float64\n",
      " 4   V4      284807 non-null  float64\n",
      " 5   V5      284807 non-null  float64\n",
      " 6   V6      284807 non-null  float64\n",
      " 7   V7      284807 non-null  float64\n",
      " 8   V8      284807 non-null  float64\n",
      " 9   V9      284807 non-null  float64\n",
      " 10  V10     284807 non-null  float64\n",
      " 11  V11     284807 non-null  float64\n",
      " 12  V12     284807 non-null  float64\n",
      " 13  V13     284807 non-null  float64\n",
      " 14  V14     284807 non-null  float64\n",
      " 15  V15     284807 non-null  float64\n",
      " 16  V16     284807 non-null  float64\n",
      " 17  V17     284807 non-null  float64\n",
      " 18  V18     284807 non-null  float64\n",
      " 19  V19     284807 non-null  float64\n",
      " 20  V20     284807 non-null  float64\n",
      " 21  V21     284807 non-null  float64\n",
      " 22  V22     284807 non-null  float64\n",
      " 23  V23     284807 non-null  float64\n",
      " 24  V24     284807 non-null  float64\n",
      " 25  V25     284807 non-null  float64\n",
      " 26  V26     284807 non-null  float64\n",
      " 27  V27     284807 non-null  float64\n",
      " 28  V28     284807 non-null  float64\n",
      " 29  Amount  284807 non-null  float64\n",
      " 30  Class   284807 non-null  int64  \n",
      "dtypes: float64(30), int64(1)\n",
      "memory usage: 67.4 MB\n"
     ]
    }
   ],
   "source": [
    "df.info()"
   ]
  },
  {
   "cell_type": "code",
   "execution_count": 7,
   "id": "e013bf08",
   "metadata": {},
   "outputs": [
    {
     "data": {
      "text/plain": [
       "Time      0\n",
       "V1        0\n",
       "V2        0\n",
       "V3        0\n",
       "V4        0\n",
       "V5        0\n",
       "V6        0\n",
       "V7        0\n",
       "V8        0\n",
       "V9        0\n",
       "V10       0\n",
       "V11       0\n",
       "V12       0\n",
       "V13       0\n",
       "V14       0\n",
       "V15       0\n",
       "V16       0\n",
       "V17       0\n",
       "V18       0\n",
       "V19       0\n",
       "V20       0\n",
       "V21       0\n",
       "V22       0\n",
       "V23       0\n",
       "V24       0\n",
       "V25       0\n",
       "V26       0\n",
       "V27       0\n",
       "V28       0\n",
       "Amount    0\n",
       "Class     0\n",
       "dtype: int64"
      ]
     },
     "execution_count": 7,
     "metadata": {},
     "output_type": "execute_result"
    }
   ],
   "source": [
    "df.isnull().sum()"
   ]
  },
  {
   "cell_type": "code",
   "execution_count": 8,
   "id": "d99050a9",
   "metadata": {},
   "outputs": [
    {
     "data": {
      "text/plain": [
       "(284807, 31)"
      ]
     },
     "execution_count": 8,
     "metadata": {},
     "output_type": "execute_result"
    }
   ],
   "source": [
    "df.shape"
   ]
  },
  {
   "cell_type": "markdown",
   "id": "3095e792",
   "metadata": {},
   "source": [
    "A small standard deviation (std) means the data is tightly grouped around the mean, but that doesn’t always mean the distribution is “good” or “normal.” We can check distribution usinh histplot or distplot\n",
    "\n"
   ]
  },
  {
   "cell_type": "code",
   "execution_count": 9,
   "id": "1d091736",
   "metadata": {},
   "outputs": [
    {
     "data": {
      "text/html": [
       "<div>\n",
       "<style scoped>\n",
       "    .dataframe tbody tr th:only-of-type {\n",
       "        vertical-align: middle;\n",
       "    }\n",
       "\n",
       "    .dataframe tbody tr th {\n",
       "        vertical-align: top;\n",
       "    }\n",
       "\n",
       "    .dataframe thead th {\n",
       "        text-align: right;\n",
       "    }\n",
       "</style>\n",
       "<table border=\"1\" class=\"dataframe\">\n",
       "  <thead>\n",
       "    <tr style=\"text-align: right;\">\n",
       "      <th></th>\n",
       "      <th>Time</th>\n",
       "      <th>V1</th>\n",
       "      <th>V2</th>\n",
       "      <th>V3</th>\n",
       "      <th>V4</th>\n",
       "      <th>V5</th>\n",
       "      <th>V6</th>\n",
       "      <th>V7</th>\n",
       "      <th>V8</th>\n",
       "      <th>V9</th>\n",
       "      <th>...</th>\n",
       "      <th>V21</th>\n",
       "      <th>V22</th>\n",
       "      <th>V23</th>\n",
       "      <th>V24</th>\n",
       "      <th>V25</th>\n",
       "      <th>V26</th>\n",
       "      <th>V27</th>\n",
       "      <th>V28</th>\n",
       "      <th>Amount</th>\n",
       "      <th>Class</th>\n",
       "    </tr>\n",
       "  </thead>\n",
       "  <tbody>\n",
       "    <tr>\n",
       "      <th>count</th>\n",
       "      <td>284807.000000</td>\n",
       "      <td>2.848070e+05</td>\n",
       "      <td>2.848070e+05</td>\n",
       "      <td>2.848070e+05</td>\n",
       "      <td>2.848070e+05</td>\n",
       "      <td>2.848070e+05</td>\n",
       "      <td>2.848070e+05</td>\n",
       "      <td>2.848070e+05</td>\n",
       "      <td>2.848070e+05</td>\n",
       "      <td>2.848070e+05</td>\n",
       "      <td>...</td>\n",
       "      <td>2.848070e+05</td>\n",
       "      <td>2.848070e+05</td>\n",
       "      <td>2.848070e+05</td>\n",
       "      <td>2.848070e+05</td>\n",
       "      <td>2.848070e+05</td>\n",
       "      <td>2.848070e+05</td>\n",
       "      <td>2.848070e+05</td>\n",
       "      <td>2.848070e+05</td>\n",
       "      <td>284807.000000</td>\n",
       "      <td>284807.000000</td>\n",
       "    </tr>\n",
       "    <tr>\n",
       "      <th>mean</th>\n",
       "      <td>94813.859575</td>\n",
       "      <td>1.168375e-15</td>\n",
       "      <td>3.416908e-16</td>\n",
       "      <td>-1.379537e-15</td>\n",
       "      <td>2.074095e-15</td>\n",
       "      <td>9.604066e-16</td>\n",
       "      <td>1.487313e-15</td>\n",
       "      <td>-5.556467e-16</td>\n",
       "      <td>1.213481e-16</td>\n",
       "      <td>-2.406331e-15</td>\n",
       "      <td>...</td>\n",
       "      <td>1.654067e-16</td>\n",
       "      <td>-3.568593e-16</td>\n",
       "      <td>2.578648e-16</td>\n",
       "      <td>4.473266e-15</td>\n",
       "      <td>5.340915e-16</td>\n",
       "      <td>1.683437e-15</td>\n",
       "      <td>-3.660091e-16</td>\n",
       "      <td>-1.227390e-16</td>\n",
       "      <td>88.349619</td>\n",
       "      <td>0.001727</td>\n",
       "    </tr>\n",
       "    <tr>\n",
       "      <th>std</th>\n",
       "      <td>47488.145955</td>\n",
       "      <td>1.958696e+00</td>\n",
       "      <td>1.651309e+00</td>\n",
       "      <td>1.516255e+00</td>\n",
       "      <td>1.415869e+00</td>\n",
       "      <td>1.380247e+00</td>\n",
       "      <td>1.332271e+00</td>\n",
       "      <td>1.237094e+00</td>\n",
       "      <td>1.194353e+00</td>\n",
       "      <td>1.098632e+00</td>\n",
       "      <td>...</td>\n",
       "      <td>7.345240e-01</td>\n",
       "      <td>7.257016e-01</td>\n",
       "      <td>6.244603e-01</td>\n",
       "      <td>6.056471e-01</td>\n",
       "      <td>5.212781e-01</td>\n",
       "      <td>4.822270e-01</td>\n",
       "      <td>4.036325e-01</td>\n",
       "      <td>3.300833e-01</td>\n",
       "      <td>250.120109</td>\n",
       "      <td>0.041527</td>\n",
       "    </tr>\n",
       "    <tr>\n",
       "      <th>min</th>\n",
       "      <td>0.000000</td>\n",
       "      <td>-5.640751e+01</td>\n",
       "      <td>-7.271573e+01</td>\n",
       "      <td>-4.832559e+01</td>\n",
       "      <td>-5.683171e+00</td>\n",
       "      <td>-1.137433e+02</td>\n",
       "      <td>-2.616051e+01</td>\n",
       "      <td>-4.355724e+01</td>\n",
       "      <td>-7.321672e+01</td>\n",
       "      <td>-1.343407e+01</td>\n",
       "      <td>...</td>\n",
       "      <td>-3.483038e+01</td>\n",
       "      <td>-1.093314e+01</td>\n",
       "      <td>-4.480774e+01</td>\n",
       "      <td>-2.836627e+00</td>\n",
       "      <td>-1.029540e+01</td>\n",
       "      <td>-2.604551e+00</td>\n",
       "      <td>-2.256568e+01</td>\n",
       "      <td>-1.543008e+01</td>\n",
       "      <td>0.000000</td>\n",
       "      <td>0.000000</td>\n",
       "    </tr>\n",
       "    <tr>\n",
       "      <th>25%</th>\n",
       "      <td>54201.500000</td>\n",
       "      <td>-9.203734e-01</td>\n",
       "      <td>-5.985499e-01</td>\n",
       "      <td>-8.903648e-01</td>\n",
       "      <td>-8.486401e-01</td>\n",
       "      <td>-6.915971e-01</td>\n",
       "      <td>-7.682956e-01</td>\n",
       "      <td>-5.540759e-01</td>\n",
       "      <td>-2.086297e-01</td>\n",
       "      <td>-6.430976e-01</td>\n",
       "      <td>...</td>\n",
       "      <td>-2.283949e-01</td>\n",
       "      <td>-5.423504e-01</td>\n",
       "      <td>-1.618463e-01</td>\n",
       "      <td>-3.545861e-01</td>\n",
       "      <td>-3.171451e-01</td>\n",
       "      <td>-3.269839e-01</td>\n",
       "      <td>-7.083953e-02</td>\n",
       "      <td>-5.295979e-02</td>\n",
       "      <td>5.600000</td>\n",
       "      <td>0.000000</td>\n",
       "    </tr>\n",
       "    <tr>\n",
       "      <th>50%</th>\n",
       "      <td>84692.000000</td>\n",
       "      <td>1.810880e-02</td>\n",
       "      <td>6.548556e-02</td>\n",
       "      <td>1.798463e-01</td>\n",
       "      <td>-1.984653e-02</td>\n",
       "      <td>-5.433583e-02</td>\n",
       "      <td>-2.741871e-01</td>\n",
       "      <td>4.010308e-02</td>\n",
       "      <td>2.235804e-02</td>\n",
       "      <td>-5.142873e-02</td>\n",
       "      <td>...</td>\n",
       "      <td>-2.945017e-02</td>\n",
       "      <td>6.781943e-03</td>\n",
       "      <td>-1.119293e-02</td>\n",
       "      <td>4.097606e-02</td>\n",
       "      <td>1.659350e-02</td>\n",
       "      <td>-5.213911e-02</td>\n",
       "      <td>1.342146e-03</td>\n",
       "      <td>1.124383e-02</td>\n",
       "      <td>22.000000</td>\n",
       "      <td>0.000000</td>\n",
       "    </tr>\n",
       "    <tr>\n",
       "      <th>75%</th>\n",
       "      <td>139320.500000</td>\n",
       "      <td>1.315642e+00</td>\n",
       "      <td>8.037239e-01</td>\n",
       "      <td>1.027196e+00</td>\n",
       "      <td>7.433413e-01</td>\n",
       "      <td>6.119264e-01</td>\n",
       "      <td>3.985649e-01</td>\n",
       "      <td>5.704361e-01</td>\n",
       "      <td>3.273459e-01</td>\n",
       "      <td>5.971390e-01</td>\n",
       "      <td>...</td>\n",
       "      <td>1.863772e-01</td>\n",
       "      <td>5.285536e-01</td>\n",
       "      <td>1.476421e-01</td>\n",
       "      <td>4.395266e-01</td>\n",
       "      <td>3.507156e-01</td>\n",
       "      <td>2.409522e-01</td>\n",
       "      <td>9.104512e-02</td>\n",
       "      <td>7.827995e-02</td>\n",
       "      <td>77.165000</td>\n",
       "      <td>0.000000</td>\n",
       "    </tr>\n",
       "    <tr>\n",
       "      <th>max</th>\n",
       "      <td>172792.000000</td>\n",
       "      <td>2.454930e+00</td>\n",
       "      <td>2.205773e+01</td>\n",
       "      <td>9.382558e+00</td>\n",
       "      <td>1.687534e+01</td>\n",
       "      <td>3.480167e+01</td>\n",
       "      <td>7.330163e+01</td>\n",
       "      <td>1.205895e+02</td>\n",
       "      <td>2.000721e+01</td>\n",
       "      <td>1.559499e+01</td>\n",
       "      <td>...</td>\n",
       "      <td>2.720284e+01</td>\n",
       "      <td>1.050309e+01</td>\n",
       "      <td>2.252841e+01</td>\n",
       "      <td>4.584549e+00</td>\n",
       "      <td>7.519589e+00</td>\n",
       "      <td>3.517346e+00</td>\n",
       "      <td>3.161220e+01</td>\n",
       "      <td>3.384781e+01</td>\n",
       "      <td>25691.160000</td>\n",
       "      <td>1.000000</td>\n",
       "    </tr>\n",
       "  </tbody>\n",
       "</table>\n",
       "<p>8 rows × 31 columns</p>\n",
       "</div>"
      ],
      "text/plain": [
       "                Time            V1            V2            V3            V4  \\\n",
       "count  284807.000000  2.848070e+05  2.848070e+05  2.848070e+05  2.848070e+05   \n",
       "mean    94813.859575  1.168375e-15  3.416908e-16 -1.379537e-15  2.074095e-15   \n",
       "std     47488.145955  1.958696e+00  1.651309e+00  1.516255e+00  1.415869e+00   \n",
       "min         0.000000 -5.640751e+01 -7.271573e+01 -4.832559e+01 -5.683171e+00   \n",
       "25%     54201.500000 -9.203734e-01 -5.985499e-01 -8.903648e-01 -8.486401e-01   \n",
       "50%     84692.000000  1.810880e-02  6.548556e-02  1.798463e-01 -1.984653e-02   \n",
       "75%    139320.500000  1.315642e+00  8.037239e-01  1.027196e+00  7.433413e-01   \n",
       "max    172792.000000  2.454930e+00  2.205773e+01  9.382558e+00  1.687534e+01   \n",
       "\n",
       "                 V5            V6            V7            V8            V9  \\\n",
       "count  2.848070e+05  2.848070e+05  2.848070e+05  2.848070e+05  2.848070e+05   \n",
       "mean   9.604066e-16  1.487313e-15 -5.556467e-16  1.213481e-16 -2.406331e-15   \n",
       "std    1.380247e+00  1.332271e+00  1.237094e+00  1.194353e+00  1.098632e+00   \n",
       "min   -1.137433e+02 -2.616051e+01 -4.355724e+01 -7.321672e+01 -1.343407e+01   \n",
       "25%   -6.915971e-01 -7.682956e-01 -5.540759e-01 -2.086297e-01 -6.430976e-01   \n",
       "50%   -5.433583e-02 -2.741871e-01  4.010308e-02  2.235804e-02 -5.142873e-02   \n",
       "75%    6.119264e-01  3.985649e-01  5.704361e-01  3.273459e-01  5.971390e-01   \n",
       "max    3.480167e+01  7.330163e+01  1.205895e+02  2.000721e+01  1.559499e+01   \n",
       "\n",
       "       ...           V21           V22           V23           V24  \\\n",
       "count  ...  2.848070e+05  2.848070e+05  2.848070e+05  2.848070e+05   \n",
       "mean   ...  1.654067e-16 -3.568593e-16  2.578648e-16  4.473266e-15   \n",
       "std    ...  7.345240e-01  7.257016e-01  6.244603e-01  6.056471e-01   \n",
       "min    ... -3.483038e+01 -1.093314e+01 -4.480774e+01 -2.836627e+00   \n",
       "25%    ... -2.283949e-01 -5.423504e-01 -1.618463e-01 -3.545861e-01   \n",
       "50%    ... -2.945017e-02  6.781943e-03 -1.119293e-02  4.097606e-02   \n",
       "75%    ...  1.863772e-01  5.285536e-01  1.476421e-01  4.395266e-01   \n",
       "max    ...  2.720284e+01  1.050309e+01  2.252841e+01  4.584549e+00   \n",
       "\n",
       "                V25           V26           V27           V28         Amount  \\\n",
       "count  2.848070e+05  2.848070e+05  2.848070e+05  2.848070e+05  284807.000000   \n",
       "mean   5.340915e-16  1.683437e-15 -3.660091e-16 -1.227390e-16      88.349619   \n",
       "std    5.212781e-01  4.822270e-01  4.036325e-01  3.300833e-01     250.120109   \n",
       "min   -1.029540e+01 -2.604551e+00 -2.256568e+01 -1.543008e+01       0.000000   \n",
       "25%   -3.171451e-01 -3.269839e-01 -7.083953e-02 -5.295979e-02       5.600000   \n",
       "50%    1.659350e-02 -5.213911e-02  1.342146e-03  1.124383e-02      22.000000   \n",
       "75%    3.507156e-01  2.409522e-01  9.104512e-02  7.827995e-02      77.165000   \n",
       "max    7.519589e+00  3.517346e+00  3.161220e+01  3.384781e+01   25691.160000   \n",
       "\n",
       "               Class  \n",
       "count  284807.000000  \n",
       "mean        0.001727  \n",
       "std         0.041527  \n",
       "min         0.000000  \n",
       "25%         0.000000  \n",
       "50%         0.000000  \n",
       "75%         0.000000  \n",
       "max         1.000000  \n",
       "\n",
       "[8 rows x 31 columns]"
      ]
     },
     "execution_count": 9,
     "metadata": {},
     "output_type": "execute_result"
    }
   ],
   "source": [
    "df.describe()"
   ]
  },
  {
   "cell_type": "markdown",
   "id": "51572438",
   "metadata": {},
   "source": [
    "If you have two features:\n",
    "\n",
    "Amount: ranges from 0 to 10,000\n",
    "\n",
    "V1: ranges from -2 to 2\n",
    "\n",
    "Then PCA or other algorithms will give more weight to Amount, just because its values are bigger, not because it’s more important! So mean =0 mean distbute points  so that all of them ceneterd at zero"
   ]
  },
  {
   "cell_type": "code",
   "execution_count": 16,
   "id": "a51bb05b",
   "metadata": {},
   "outputs": [],
   "source": [
    "data = df.drop('Class', axis=1)\n",
    "y = df['Class']\n"
   ]
  },
  {
   "cell_type": "code",
   "execution_count": 17,
   "id": "ecd8215e",
   "metadata": {},
   "outputs": [
    {
     "name": "stderr",
     "output_type": "stream",
     "text": [
      "C:\\Users\\asus\\AppData\\Local\\Temp\\ipykernel_10328\\3758815730.py:2: UserWarning: \n",
      "\n",
      "`distplot` is a deprecated function and will be removed in seaborn v0.14.0.\n",
      "\n",
      "Please adapt your code to use either `displot` (a figure-level function with\n",
      "similar flexibility) or `histplot` (an axes-level function for histograms).\n",
      "\n",
      "For a guide to updating your code to use the new functions, please see\n",
      "https://gist.github.com/mwaskom/de44147ed2974457ad6372750bbe5751\n",
      "\n",
      "  sns.distplot(data['Amount'])\n",
      "C:\\Users\\asus\\AppData\\Local\\Temp\\ipykernel_10328\\3758815730.py:4: UserWarning: \n",
      "\n",
      "`distplot` is a deprecated function and will be removed in seaborn v0.14.0.\n",
      "\n",
      "Please adapt your code to use either `displot` (a figure-level function with\n",
      "similar flexibility) or `histplot` (an axes-level function for histograms).\n",
      "\n",
      "For a guide to updating your code to use the new functions, please see\n",
      "https://gist.github.com/mwaskom/de44147ed2974457ad6372750bbe5751\n",
      "\n",
      "  sns.distplot(data['Time'])\n"
     ]
    },
    {
     "data": {
      "text/plain": [
       "<Axes: xlabel='Time', ylabel='Density'>"
      ]
     },
     "execution_count": 17,
     "metadata": {},
     "output_type": "execute_result"
    },
    {
     "data": {
      "image/png": "[encoded data removed]",
      "text/plain": [
       "<Figure size 640x480 with 2 Axes>"
      ]
     },
     "metadata": {},
     "output_type": "display_data"
    }
   ],
   "source": [
    "\n",
    "plt.subplot(1,2,1)\n",
    "sns.distplot(data['Amount'])\n",
    "plt.subplot(1,2,2)\n",
    "sns.distplot(data['Time'])\n",
    "\n"
   ]
  },
  {
   "cell_type": "markdown",
   "id": "97a31919",
   "metadata": {},
   "source": [
    "Time and amount are not distributed well"
   ]
  },
  {
   "cell_type": "markdown",
   "id": "ec5dbc79",
   "metadata": {},
   "source": [
    "Time’s large values will dominate. Models like PCA or Isolation Forest will focus mostly on Time instead of a balanced view.\n",
    "\n",
    "By standardizing:\n",
    "\n",
    "Both features will be transformed to have mean = 0 and std = 1.\n",
    "\n",
    "It puts all features on the same scale, so one feature with big numbers doesn’t dominate."
   ]
  },
  {
   "cell_type": "code",
   "execution_count": 18,
   "id": "e5d3d6ea",
   "metadata": {},
   "outputs": [
    {
     "data": {
      "text/plain": [
       "<Axes: xlabel='Time', ylabel='Count'>"
      ]
     },
     "execution_count": 18,
     "metadata": {},
     "output_type": "execute_result"
    },
    {
     "data": {
      "image/png": "[encoded data removed]",
      "text/plain": [
       "<Figure size 640x480 with 2 Axes>"
      ]
     },
     "metadata": {},
     "output_type": "display_data"
    }
   ],
   "source": [
    "\n",
    "plt.subplot(1,2,1)\n",
    "sns.histplot(data['Amount'])\n",
    "plt.subplot(1,2,2)\n",
    "sns.histplot(data['Time'])"
   ]
  },
  {
   "cell_type": "markdown",
   "id": "80be2e8d",
   "metadata": {},
   "source": [
    "Using sns.distplot, I can observe the range of values on the x-axis. If the values are close to each other and form a bell-shaped curve, it indicates that the standard deviation is low and the data is well distributed. However, if the distribution is skewed to the right or left, this suggests the presence of outliers, the values are more spread out, and the standard deviation is higher."
   ]
  },
  {
   "cell_type": "markdown",
   "id": "d3ba45b3",
   "metadata": {},
   "source": [
    "✅Machine learnng doesnot understand the unit of values of data so data scaling should be applies\n",
    "\n",
    "✅This data scaling shoud be done before PCA and clustering"
   ]
  },
  {
   "cell_type": "markdown",
   "id": "3f1a93c7",
   "metadata": {},
   "source": [
    "✅If you want to use PCA (for dimensionality reduction):\n",
    "\n",
    "Always standardize first (with StandardScaler).\n",
    "\n",
    "Then apply PCA on the standardized data.\n",
    "\n",
    "\n",
    "✅If you want to use K-Means clustering directly on features:\n",
    "\n",
    "Check feature distributions first.\n",
    "\n",
    "For Gaussian-like features, use StandardScaler.\n",
    "\n",
    "For skewed features (like Amount), use MinMaxScaler or log-transform + MinMaxScaler.\n",
    "\n",
    "Combine all scaled features.\n",
    "\n",
    "Optionally, apply PCA if dimensionality is very high.\n",
    "\n",
    "Then apply K-Means on this processed data.\n",
    "\n",
    "✅If you want to use Autoencoders:\n",
    "\n",
    "You do NOT need PCA.\n",
    "\n",
    "Use only normalization (MinMaxScaler) on your original features (no standardization).\n",
    "\n",
    "Train the Autoencoder on normalized data."
   ]
  },
  {
   "cell_type": "code",
   "execution_count": 19,
   "id": "64a03cdd",
   "metadata": {},
   "outputs": [],
   "source": [
    "from sklearn.preprocessing import StandardScaler,MinMaxScaler\n",
    "mms=MinMaxScaler()\n",
    "ss=StandardScaler()"
   ]
  },
  {
   "cell_type": "markdown",
   "id": "d0f136e0",
   "metadata": {},
   "source": [
    "\n",
    "1. Time (in seconds)\n",
    "\n",
    "2. Amount (in dollars)\n",
    "\n",
    "3. V1 to V28 (PCA-transformed, unitless)\n",
    "\n",
    "4. Then we MUST apply data scaling before using most machine learning models.\n",
    "\n",
    "5. When to Use Standardization (Mean=0, Std=1):\n",
    "    - When features have different units or scales and you want to center data and make variances comparable.\n",
    "\n",
    "    - When using PCA, SVM, Isolation Forest, or other algorithms that assume data is centered.\n",
    "\n",
    "6. When to Use Normalization (Scaling to [0,1]):\n",
    "\n",
    "     - When features have different units but you want all values bounded in the same range.\n",
    "\n",
    "     - When using algorithms sensitive to distance and where relative scale matters, such as(Clustering (KMEAN....),AUtoencoder)\n",
    "\n"
   ]
  },
  {
   "cell_type": "code",
   "execution_count": 20,
   "id": "40afcb12",
   "metadata": {},
   "outputs": [
    {
     "data": {
      "text/plain": [
       "['Time',\n",
       " 'V1',\n",
       " 'V2',\n",
       " 'V3',\n",
       " 'V4',\n",
       " 'V5',\n",
       " 'V6',\n",
       " 'V7',\n",
       " 'V8',\n",
       " 'V9',\n",
       " 'V10',\n",
       " 'V11',\n",
       " 'V12',\n",
       " 'V13',\n",
       " 'V14',\n",
       " 'V15',\n",
       " 'V16',\n",
       " 'V17',\n",
       " 'V18',\n",
       " 'V19',\n",
       " 'V20',\n",
       " 'V21',\n",
       " 'V22',\n",
       " 'V23',\n",
       " 'V24',\n",
       " 'V25',\n",
       " 'V26',\n",
       " 'V27',\n",
       " 'V28',\n",
       " 'Amount']"
      ]
     },
     "execution_count": 20,
     "metadata": {},
     "output_type": "execute_result"
    }
   ],
   "source": [
    "#standarization before PCA because all fetaures have # unit\n",
    "c=list(data.columns)\n",
    "c\n"
   ]
  },
  {
   "cell_type": "code",
   "execution_count": 21,
   "id": "6778ac31",
   "metadata": {},
   "outputs": [],
   "source": [
    "from sklearn.model_selection import train_test_split\n",
    "X_train, X_test, y_train, y_test = train_test_split(data, y, stratify=y, random_state=42)\n"
   ]
  },
  {
   "cell_type": "code",
   "execution_count": 22,
   "id": "2c514d34",
   "metadata": {},
   "outputs": [
    {
     "data": {
      "text/plain": [
       "(213605, 30)"
      ]
     },
     "execution_count": 22,
     "metadata": {},
     "output_type": "execute_result"
    }
   ],
   "source": [
    "X_train.shape"
   ]
  },
  {
   "cell_type": "code",
   "execution_count": 23,
   "id": "f01be900",
   "metadata": {},
   "outputs": [
    {
     "data": {
      "text/plain": [
       "(213605,)"
      ]
     },
     "execution_count": 23,
     "metadata": {},
     "output_type": "execute_result"
    }
   ],
   "source": [
    "y_train.shape"
   ]
  },
  {
   "cell_type": "code",
   "execution_count": 24,
   "id": "989b09f1",
   "metadata": {},
   "outputs": [
    {
     "data": {
      "text/plain": [
       "(71202, 30)"
      ]
     },
     "execution_count": 24,
     "metadata": {},
     "output_type": "execute_result"
    }
   ],
   "source": [
    "X_test.shape"
   ]
  },
  {
   "cell_type": "code",
   "execution_count": 26,
   "id": "684c7b8c",
   "metadata": {},
   "outputs": [],
   "source": [
    "for i in c:\n",
    "    X_train[i]=ss.fit_transform(X_train[[i]])"
   ]
  },
  {
   "cell_type": "code",
   "execution_count": 27,
   "id": "45bcdda6",
   "metadata": {},
   "outputs": [
    {
     "data": {
      "text/html": [
       "<div>\n",
       "<style scoped>\n",
       "    .dataframe tbody tr th:only-of-type {\n",
       "        vertical-align: middle;\n",
       "    }\n",
       "\n",
       "    .dataframe tbody tr th {\n",
       "        vertical-align: top;\n",
       "    }\n",
       "\n",
       "    .dataframe thead th {\n",
       "        text-align: right;\n",
       "    }\n",
       "</style>\n",
       "<table border=\"1\" class=\"dataframe\">\n",
       "  <thead>\n",
       "    <tr style=\"text-align: right;\">\n",
       "      <th></th>\n",
       "      <th>Time</th>\n",
       "      <th>V1</th>\n",
       "      <th>V2</th>\n",
       "      <th>V3</th>\n",
       "      <th>V4</th>\n",
       "      <th>V5</th>\n",
       "      <th>V6</th>\n",
       "      <th>V7</th>\n",
       "      <th>V8</th>\n",
       "      <th>V9</th>\n",
       "      <th>...</th>\n",
       "      <th>V20</th>\n",
       "      <th>V21</th>\n",
       "      <th>V22</th>\n",
       "      <th>V23</th>\n",
       "      <th>V24</th>\n",
       "      <th>V25</th>\n",
       "      <th>V26</th>\n",
       "      <th>V27</th>\n",
       "      <th>V28</th>\n",
       "      <th>Amount</th>\n",
       "    </tr>\n",
       "  </thead>\n",
       "  <tbody>\n",
       "    <tr>\n",
       "      <th>17884</th>\n",
       "      <td>-1.387399</td>\n",
       "      <td>-0.428031</td>\n",
       "      <td>-0.317915</td>\n",
       "      <td>1.141343</td>\n",
       "      <td>-0.569365</td>\n",
       "      <td>-0.146846</td>\n",
       "      <td>-0.056996</td>\n",
       "      <td>0.045656</td>\n",
       "      <td>0.225429</td>\n",
       "      <td>0.477758</td>\n",
       "      <td>...</td>\n",
       "      <td>0.310850</td>\n",
       "      <td>0.065546</td>\n",
       "      <td>0.017543</td>\n",
       "      <td>0.564112</td>\n",
       "      <td>0.103305</td>\n",
       "      <td>-1.673411</td>\n",
       "      <td>1.363706</td>\n",
       "      <td>0.180857</td>\n",
       "      <td>0.570442</td>\n",
       "      <td>0.086952</td>\n",
       "    </tr>\n",
       "    <tr>\n",
       "      <th>232246</th>\n",
       "      <td>1.099295</td>\n",
       "      <td>-1.914679</td>\n",
       "      <td>-0.516200</td>\n",
       "      <td>-0.295416</td>\n",
       "      <td>-1.710287</td>\n",
       "      <td>-0.294848</td>\n",
       "      <td>-0.079603</td>\n",
       "      <td>0.099686</td>\n",
       "      <td>0.472501</td>\n",
       "      <td>0.875407</td>\n",
       "      <td>...</td>\n",
       "      <td>-2.026861</td>\n",
       "      <td>0.036249</td>\n",
       "      <td>0.859518</td>\n",
       "      <td>-0.065598</td>\n",
       "      <td>0.498571</td>\n",
       "      <td>0.310025</td>\n",
       "      <td>0.774514</td>\n",
       "      <td>-2.127660</td>\n",
       "      <td>0.496555</td>\n",
       "      <td>0.202551</td>\n",
       "    </tr>\n",
       "    <tr>\n",
       "      <th>208554</th>\n",
       "      <td>0.890221</td>\n",
       "      <td>-1.029972</td>\n",
       "      <td>0.963805</td>\n",
       "      <td>-0.354333</td>\n",
       "      <td>-1.094619</td>\n",
       "      <td>1.422971</td>\n",
       "      <td>-0.293457</td>\n",
       "      <td>-0.888141</td>\n",
       "      <td>-3.456044</td>\n",
       "      <td>0.654724</td>\n",
       "      <td>...</td>\n",
       "      <td>-1.740890</td>\n",
       "      <td>4.756131</td>\n",
       "      <td>-2.953140</td>\n",
       "      <td>-3.585144</td>\n",
       "      <td>-1.818182</td>\n",
       "      <td>-0.446753</td>\n",
       "      <td>-0.492952</td>\n",
       "      <td>1.342212</td>\n",
       "      <td>0.569171</td>\n",
       "      <td>0.170897</td>\n",
       "    </tr>\n",
       "    <tr>\n",
       "      <th>11464</th>\n",
       "      <td>-1.579101</td>\n",
       "      <td>0.702527</td>\n",
       "      <td>-0.264570</td>\n",
       "      <td>0.425326</td>\n",
       "      <td>-0.171021</td>\n",
       "      <td>-0.726695</td>\n",
       "      <td>-0.570890</td>\n",
       "      <td>-0.483143</td>\n",
       "      <td>-0.231207</td>\n",
       "      <td>0.705559</td>\n",
       "      <td>...</td>\n",
       "      <td>0.066956</td>\n",
       "      <td>-0.219234</td>\n",
       "      <td>-0.172212</td>\n",
       "      <td>-0.058003</td>\n",
       "      <td>0.592082</td>\n",
       "      <td>1.047749</td>\n",
       "      <td>-0.590929</td>\n",
       "      <td>-0.029024</td>\n",
       "      <td>0.028189</td>\n",
       "      <td>-0.272298</td>\n",
       "    </tr>\n",
       "    <tr>\n",
       "      <th>109718</th>\n",
       "      <td>-0.492333</td>\n",
       "      <td>-0.186166</td>\n",
       "      <td>0.657261</td>\n",
       "      <td>0.813514</td>\n",
       "      <td>0.613886</td>\n",
       "      <td>0.101933</td>\n",
       "      <td>-0.627937</td>\n",
       "      <td>0.602408</td>\n",
       "      <td>-0.083924</td>\n",
       "      <td>-0.449798</td>\n",
       "      <td>...</td>\n",
       "      <td>0.186092</td>\n",
       "      <td>0.153060</td>\n",
       "      <td>0.635703</td>\n",
       "      <td>-0.223405</td>\n",
       "      <td>0.638482</td>\n",
       "      <td>-0.381140</td>\n",
       "      <td>-0.655883</td>\n",
       "      <td>1.017719</td>\n",
       "      <td>0.693637</td>\n",
       "      <td>-0.315847</td>\n",
       "    </tr>\n",
       "  </tbody>\n",
       "</table>\n",
       "<p>5 rows × 30 columns</p>\n",
       "</div>"
      ],
      "text/plain": [
       "            Time        V1        V2        V3        V4        V5        V6  \\\n",
       "17884  -1.387399 -0.428031 -0.317915  1.141343 -0.569365 -0.146846 -0.056996   \n",
       "232246  1.099295 -1.914679 -0.516200 -0.295416 -1.710287 -0.294848 -0.079603   \n",
       "208554  0.890221 -1.029972  0.963805 -0.354333 -1.094619  1.422971 -0.293457   \n",
       "11464  -1.579101  0.702527 -0.264570  0.425326 -0.171021 -0.726695 -0.570890   \n",
       "109718 -0.492333 -0.186166  0.657261  0.813514  0.613886  0.101933 -0.627937   \n",
       "\n",
       "              V7        V8        V9  ...       V20       V21       V22  \\\n",
       "17884   0.045656  0.225429  0.477758  ...  0.310850  0.065546  0.017543   \n",
       "232246  0.099686  0.472501  0.875407  ... -2.026861  0.036249  0.859518   \n",
       "208554 -0.888141 -3.456044  0.654724  ... -1.740890  4.756131 -2.953140   \n",
       "11464  -0.483143 -0.231207  0.705559  ...  0.066956 -0.219234 -0.172212   \n",
       "109718  0.602408 -0.083924 -0.449798  ...  0.186092  0.153060  0.635703   \n",
       "\n",
       "             V23       V24       V25       V26       V27       V28    Amount  \n",
       "17884   0.564112  0.103305 -1.673411  1.363706  0.180857  0.570442  0.086952  \n",
       "232246 -0.065598  0.498571  0.310025  0.774514 -2.127660  0.496555  0.202551  \n",
       "208554 -3.585144 -1.818182 -0.446753 -0.492952  1.342212  0.569171  0.170897  \n",
       "11464  -0.058003  0.592082  1.047749 -0.590929 -0.029024  0.028189 -0.272298  \n",
       "109718 -0.223405  0.638482 -0.381140 -0.655883  1.017719  0.693637 -0.315847  \n",
       "\n",
       "[5 rows x 30 columns]"
      ]
     },
     "execution_count": 27,
     "metadata": {},
     "output_type": "execute_result"
    }
   ],
   "source": [
    "X_train.head()"
   ]
  },
  {
   "cell_type": "code",
   "execution_count": 28,
   "id": "e5ee1bb8",
   "metadata": {},
   "outputs": [
    {
     "data": {
      "text/html": [
       "<div>\n",
       "<style scoped>\n",
       "    .dataframe tbody tr th:only-of-type {\n",
       "        vertical-align: middle;\n",
       "    }\n",
       "\n",
       "    .dataframe tbody tr th {\n",
       "        vertical-align: top;\n",
       "    }\n",
       "\n",
       "    .dataframe thead th {\n",
       "        text-align: right;\n",
       "    }\n",
       "</style>\n",
       "<table border=\"1\" class=\"dataframe\">\n",
       "  <thead>\n",
       "    <tr style=\"text-align: right;\">\n",
       "      <th></th>\n",
       "      <th>Time</th>\n",
       "      <th>V1</th>\n",
       "      <th>V2</th>\n",
       "      <th>V3</th>\n",
       "      <th>V4</th>\n",
       "      <th>V5</th>\n",
       "      <th>V6</th>\n",
       "      <th>V7</th>\n",
       "      <th>V8</th>\n",
       "      <th>V9</th>\n",
       "      <th>...</th>\n",
       "      <th>V20</th>\n",
       "      <th>V21</th>\n",
       "      <th>V22</th>\n",
       "      <th>V23</th>\n",
       "      <th>V24</th>\n",
       "      <th>V25</th>\n",
       "      <th>V26</th>\n",
       "      <th>V27</th>\n",
       "      <th>V28</th>\n",
       "      <th>Amount</th>\n",
       "    </tr>\n",
       "  </thead>\n",
       "  <tbody>\n",
       "    <tr>\n",
       "      <th>count</th>\n",
       "      <td>2.136050e+05</td>\n",
       "      <td>2.136050e+05</td>\n",
       "      <td>2.136050e+05</td>\n",
       "      <td>2.136050e+05</td>\n",
       "      <td>2.136050e+05</td>\n",
       "      <td>2.136050e+05</td>\n",
       "      <td>2.136050e+05</td>\n",
       "      <td>2.136050e+05</td>\n",
       "      <td>2.136050e+05</td>\n",
       "      <td>2.136050e+05</td>\n",
       "      <td>...</td>\n",
       "      <td>2.136050e+05</td>\n",
       "      <td>2.136050e+05</td>\n",
       "      <td>2.136050e+05</td>\n",
       "      <td>2.136050e+05</td>\n",
       "      <td>2.136050e+05</td>\n",
       "      <td>2.136050e+05</td>\n",
       "      <td>2.136050e+05</td>\n",
       "      <td>2.136050e+05</td>\n",
       "      <td>2.136050e+05</td>\n",
       "      <td>2.136050e+05</td>\n",
       "    </tr>\n",
       "    <tr>\n",
       "      <th>mean</th>\n",
       "      <td>-3.858662e-17</td>\n",
       "      <td>-7.384681e-18</td>\n",
       "      <td>1.721429e-18</td>\n",
       "      <td>-1.287330e-17</td>\n",
       "      <td>-1.450325e-17</td>\n",
       "      <td>8.004230e-18</td>\n",
       "      <td>-2.145549e-17</td>\n",
       "      <td>-6.054108e-18</td>\n",
       "      <td>-9.646656e-19</td>\n",
       "      <td>-1.862803e-17</td>\n",
       "      <td>...</td>\n",
       "      <td>4.091513e-18</td>\n",
       "      <td>8.648726e-18</td>\n",
       "      <td>1.276519e-17</td>\n",
       "      <td>-2.677779e-18</td>\n",
       "      <td>-2.760939e-18</td>\n",
       "      <td>4.989650e-19</td>\n",
       "      <td>2.119769e-17</td>\n",
       "      <td>8.981369e-19</td>\n",
       "      <td>-1.729745e-18</td>\n",
       "      <td>-4.217917e-17</td>\n",
       "    </tr>\n",
       "    <tr>\n",
       "      <th>std</th>\n",
       "      <td>1.000002e+00</td>\n",
       "      <td>1.000002e+00</td>\n",
       "      <td>1.000002e+00</td>\n",
       "      <td>1.000002e+00</td>\n",
       "      <td>1.000002e+00</td>\n",
       "      <td>1.000002e+00</td>\n",
       "      <td>1.000002e+00</td>\n",
       "      <td>1.000002e+00</td>\n",
       "      <td>1.000002e+00</td>\n",
       "      <td>1.000002e+00</td>\n",
       "      <td>...</td>\n",
       "      <td>1.000002e+00</td>\n",
       "      <td>1.000002e+00</td>\n",
       "      <td>1.000002e+00</td>\n",
       "      <td>1.000002e+00</td>\n",
       "      <td>1.000002e+00</td>\n",
       "      <td>1.000002e+00</td>\n",
       "      <td>1.000002e+00</td>\n",
       "      <td>1.000002e+00</td>\n",
       "      <td>1.000002e+00</td>\n",
       "      <td>1.000002e+00</td>\n",
       "    </tr>\n",
       "    <tr>\n",
       "      <th>min</th>\n",
       "      <td>-1.998112e+00</td>\n",
       "      <td>-2.875392e+01</td>\n",
       "      <td>-4.403407e+01</td>\n",
       "      <td>-3.184806e+01</td>\n",
       "      <td>-4.011498e+00</td>\n",
       "      <td>-8.217623e+01</td>\n",
       "      <td>-1.960471e+01</td>\n",
       "      <td>-3.507226e+01</td>\n",
       "      <td>-6.132716e+01</td>\n",
       "      <td>-1.223592e+01</td>\n",
       "      <td>...</td>\n",
       "      <td>-7.078173e+01</td>\n",
       "      <td>-4.730365e+01</td>\n",
       "      <td>-1.506235e+01</td>\n",
       "      <td>-7.178124e+01</td>\n",
       "      <td>-4.685408e+00</td>\n",
       "      <td>-1.976019e+01</td>\n",
       "      <td>-5.401737e+00</td>\n",
       "      <td>-5.569717e+01</td>\n",
       "      <td>-4.726108e+01</td>\n",
       "      <td>-3.521314e-01</td>\n",
       "    </tr>\n",
       "    <tr>\n",
       "      <th>25%</th>\n",
       "      <td>-8.561119e-01</td>\n",
       "      <td>-4.688318e-01</td>\n",
       "      <td>-3.624216e-01</td>\n",
       "      <td>-5.866743e-01</td>\n",
       "      <td>-5.981908e-01</td>\n",
       "      <td>-5.002911e-01</td>\n",
       "      <td>-5.754851e-01</td>\n",
       "      <td>-4.454710e-01</td>\n",
       "      <td>-1.733974e-01</td>\n",
       "      <td>-5.844374e-01</td>\n",
       "      <td>...</td>\n",
       "      <td>-2.735250e-01</td>\n",
       "      <td>-3.108166e-01</td>\n",
       "      <td>-7.465176e-01</td>\n",
       "      <td>-2.599485e-01</td>\n",
       "      <td>-5.864933e-01</td>\n",
       "      <td>-6.071789e-01</td>\n",
       "      <td>-6.778369e-01</td>\n",
       "      <td>-1.740680e-01</td>\n",
       "      <td>-1.628617e-01</td>\n",
       "      <td>-3.296184e-01</td>\n",
       "    </tr>\n",
       "    <tr>\n",
       "      <th>50%</th>\n",
       "      <td>-2.126131e-01</td>\n",
       "      <td>9.761235e-03</td>\n",
       "      <td>3.976626e-02</td>\n",
       "      <td>1.194113e-01</td>\n",
       "      <td>-1.470025e-02</td>\n",
       "      <td>-4.010957e-02</td>\n",
       "      <td>-2.052345e-01</td>\n",
       "      <td>3.303379e-02</td>\n",
       "      <td>2.013046e-02</td>\n",
       "      <td>-4.745353e-02</td>\n",
       "      <td>...</td>\n",
       "      <td>-7.970335e-02</td>\n",
       "      <td>-4.059389e-02</td>\n",
       "      <td>8.529379e-03</td>\n",
       "      <td>-1.778733e-02</td>\n",
       "      <td>6.789720e-02</td>\n",
       "      <td>3.246225e-02</td>\n",
       "      <td>-1.082706e-01</td>\n",
       "      <td>3.915352e-03</td>\n",
       "      <td>3.383979e-02</td>\n",
       "      <td>-2.643147e-01</td>\n",
       "    </tr>\n",
       "    <tr>\n",
       "      <th>75%</th>\n",
       "      <td>9.366303e-01</td>\n",
       "      <td>6.708761e-01</td>\n",
       "      <td>4.879161e-01</td>\n",
       "      <td>6.770450e-01</td>\n",
       "      <td>5.247056e-01</td>\n",
       "      <td>4.415598e-01</td>\n",
       "      <td>2.985413e-01</td>\n",
       "      <td>4.599160e-01</td>\n",
       "      <td>2.755337e-01</td>\n",
       "      <td>5.447226e-01</td>\n",
       "      <td>...</td>\n",
       "      <td>1.740763e-01</td>\n",
       "      <td>2.525969e-01</td>\n",
       "      <td>7.271622e-01</td>\n",
       "      <td>2.364426e-01</td>\n",
       "      <td>7.259680e-01</td>\n",
       "      <td>6.727733e-01</td>\n",
       "      <td>4.995732e-01</td>\n",
       "      <td>2.253719e-01</td>\n",
       "      <td>2.388839e-01</td>\n",
       "      <td>-4.277697e-02</td>\n",
       "    </tr>\n",
       "    <tr>\n",
       "      <th>max</th>\n",
       "      <td>1.640352e+00</td>\n",
       "      <td>1.250210e+00</td>\n",
       "      <td>1.335821e+01</td>\n",
       "      <td>6.184572e+00</td>\n",
       "      <td>1.191606e+01</td>\n",
       "      <td>2.514284e+01</td>\n",
       "      <td>5.493458e+01</td>\n",
       "      <td>9.710025e+01</td>\n",
       "      <td>1.675957e+01</td>\n",
       "      <td>1.420158e+01</td>\n",
       "      <td>...</td>\n",
       "      <td>5.120296e+01</td>\n",
       "      <td>3.694367e+01</td>\n",
       "      <td>1.446977e+01</td>\n",
       "      <td>3.537716e+01</td>\n",
       "      <td>7.573835e+00</td>\n",
       "      <td>1.165303e+01</td>\n",
       "      <td>7.294841e+00</td>\n",
       "      <td>7.802687e+01</td>\n",
       "      <td>1.036709e+02</td>\n",
       "      <td>1.021985e+02</td>\n",
       "    </tr>\n",
       "  </tbody>\n",
       "</table>\n",
       "<p>8 rows × 30 columns</p>\n",
       "</div>"
      ],
      "text/plain": [
       "               Time            V1            V2            V3            V4  \\\n",
       "count  2.136050e+05  2.136050e+05  2.136050e+05  2.136050e+05  2.136050e+05   \n",
       "mean  -3.858662e-17 -7.384681e-18  1.721429e-18 -1.287330e-17 -1.450325e-17   \n",
       "std    1.000002e+00  1.000002e+00  1.000002e+00  1.000002e+00  1.000002e+00   \n",
       "min   -1.998112e+00 -2.875392e+01 -4.403407e+01 -3.184806e+01 -4.011498e+00   \n",
       "25%   -8.561119e-01 -4.688318e-01 -3.624216e-01 -5.866743e-01 -5.981908e-01   \n",
       "50%   -2.126131e-01  9.761235e-03  3.976626e-02  1.194113e-01 -1.470025e-02   \n",
       "75%    9.366303e-01  6.708761e-01  4.879161e-01  6.770450e-01  5.247056e-01   \n",
       "max    1.640352e+00  1.250210e+00  1.335821e+01  6.184572e+00  1.191606e+01   \n",
       "\n",
       "                 V5            V6            V7            V8            V9  \\\n",
       "count  2.136050e+05  2.136050e+05  2.136050e+05  2.136050e+05  2.136050e+05   \n",
       "mean   8.004230e-18 -2.145549e-17 -6.054108e-18 -9.646656e-19 -1.862803e-17   \n",
       "std    1.000002e+00  1.000002e+00  1.000002e+00  1.000002e+00  1.000002e+00   \n",
       "min   -8.217623e+01 -1.960471e+01 -3.507226e+01 -6.132716e+01 -1.223592e+01   \n",
       "25%   -5.002911e-01 -5.754851e-01 -4.454710e-01 -1.733974e-01 -5.844374e-01   \n",
       "50%   -4.010957e-02 -2.052345e-01  3.303379e-02  2.013046e-02 -4.745353e-02   \n",
       "75%    4.415598e-01  2.985413e-01  4.599160e-01  2.755337e-01  5.447226e-01   \n",
       "max    2.514284e+01  5.493458e+01  9.710025e+01  1.675957e+01  1.420158e+01   \n",
       "\n",
       "       ...           V20           V21           V22           V23  \\\n",
       "count  ...  2.136050e+05  2.136050e+05  2.136050e+05  2.136050e+05   \n",
       "mean   ...  4.091513e-18  8.648726e-18  1.276519e-17 -2.677779e-18   \n",
       "std    ...  1.000002e+00  1.000002e+00  1.000002e+00  1.000002e+00   \n",
       "min    ... -7.078173e+01 -4.730365e+01 -1.506235e+01 -7.178124e+01   \n",
       "25%    ... -2.735250e-01 -3.108166e-01 -7.465176e-01 -2.599485e-01   \n",
       "50%    ... -7.970335e-02 -4.059389e-02  8.529379e-03 -1.778733e-02   \n",
       "75%    ...  1.740763e-01  2.525969e-01  7.271622e-01  2.364426e-01   \n",
       "max    ...  5.120296e+01  3.694367e+01  1.446977e+01  3.537716e+01   \n",
       "\n",
       "                V24           V25           V26           V27           V28  \\\n",
       "count  2.136050e+05  2.136050e+05  2.136050e+05  2.136050e+05  2.136050e+05   \n",
       "mean  -2.760939e-18  4.989650e-19  2.119769e-17  8.981369e-19 -1.729745e-18   \n",
       "std    1.000002e+00  1.000002e+00  1.000002e+00  1.000002e+00  1.000002e+00   \n",
       "min   -4.685408e+00 -1.976019e+01 -5.401737e+00 -5.569717e+01 -4.726108e+01   \n",
       "25%   -5.864933e-01 -6.071789e-01 -6.778369e-01 -1.740680e-01 -1.628617e-01   \n",
       "50%    6.789720e-02  3.246225e-02 -1.082706e-01  3.915352e-03  3.383979e-02   \n",
       "75%    7.259680e-01  6.727733e-01  4.995732e-01  2.253719e-01  2.388839e-01   \n",
       "max    7.573835e+00  1.165303e+01  7.294841e+00  7.802687e+01  1.036709e+02   \n",
       "\n",
       "             Amount  \n",
       "count  2.136050e+05  \n",
       "mean  -4.217917e-17  \n",
       "std    1.000002e+00  \n",
       "min   -3.521314e-01  \n",
       "25%   -3.296184e-01  \n",
       "50%   -2.643147e-01  \n",
       "75%   -4.277697e-02  \n",
       "max    1.021985e+02  \n",
       "\n",
       "[8 rows x 30 columns]"
      ]
     },
     "execution_count": 28,
     "metadata": {},
     "output_type": "execute_result"
    }
   ],
   "source": [
    "X_train.describe()"
   ]
  },
  {
   "cell_type": "markdown",
   "id": "04e222d1",
   "metadata": {},
   "source": [
    "Now data features are standarized(same unit ) we can apply PCA to reduce number of features"
   ]
  },
  {
   "cell_type": "code",
   "execution_count": 29,
   "id": "55e7bbbb",
   "metadata": {},
   "outputs": [],
   "source": [
    "from sklearn.decomposition import PCA\n",
    "pca=PCA()"
   ]
  },
  {
   "cell_type": "code",
   "execution_count": 30,
   "id": "89586ccb",
   "metadata": {},
   "outputs": [],
   "source": [
    "new=pca.fit_transform(X_train)"
   ]
  },
  {
   "cell_type": "markdown",
   "id": "b988aac8",
   "metadata": {},
   "source": [
    "PCA: convert the original input features into new components and variance indicates how much the new component captures the original information."
   ]
  },
  {
   "cell_type": "markdown",
   "id": "67c22e15",
   "metadata": {},
   "source": [
    "After running PCA, we need to choose how many principal components to keep based on explained variance, then drop the rest."
   ]
  },
  {
   "cell_type": "code",
   "execution_count": 31,
   "id": "de14a956",
   "metadata": {},
   "outputs": [
    {
     "data": {
      "text/plain": [
       "array([[ 0.19107784, -0.60961885,  0.64306578, ...,  0.11206365,\n",
       "        -1.33307785, -0.06933702],\n",
       "       [ 0.1049406 ,  1.23190555, -0.77371202, ...,  0.932871  ,\n",
       "         0.35797866,  0.13409654],\n",
       "       [-0.06012899,  1.65363088,  1.30385966, ...,  2.13677676,\n",
       "        -0.40461413,  0.30897824],\n",
       "       ...,\n",
       "       [-0.16751703, -1.4008796 , -0.07251625, ...,  0.25279806,\n",
       "        -0.39127743, -0.01977111],\n",
       "       [-0.39762232, -2.27577403, -0.23703712, ...,  0.20037832,\n",
       "         0.16003883, -0.00733202],\n",
       "       [-0.32422631, -1.33518114,  0.35296647, ...,  0.50500998,\n",
       "        -0.64607273, -0.08185146]])"
      ]
     },
     "execution_count": 31,
     "metadata": {},
     "output_type": "execute_result"
    }
   ],
   "source": [
    "new"
   ]
  },
  {
   "cell_type": "code",
   "execution_count": 32,
   "id": "ef607c00",
   "metadata": {},
   "outputs": [
    {
     "data": {
      "text/plain": [
       "array([1.95265031, 1.68429472, 1.04237193, 1.01694175, 1.01355979,\n",
       "       1.01057234, 1.00741454, 1.00599386, 1.00512589, 1.00348208,\n",
       "       1.00343369, 1.00182751, 1.000991  , 1.00014633, 1.00004551,\n",
       "       0.99903113, 0.99779244, 0.99735725, 0.99695119, 0.99674437,\n",
       "       0.99529596, 0.99423397, 0.99312548, 0.99136777, 0.98960588,\n",
       "       0.9863688 , 0.98176997, 0.97221826, 0.31577251, 0.04365422])"
      ]
     },
     "execution_count": 32,
     "metadata": {},
     "output_type": "execute_result"
    }
   ],
   "source": [
    "pca.explained_variance_"
   ]
  },
  {
   "cell_type": "code",
   "execution_count": 33,
   "id": "c0f1b086",
   "metadata": {},
   "outputs": [
    {
     "data": {
      "text/html": [
       "<div>\n",
       "<style scoped>\n",
       "    .dataframe tbody tr th:only-of-type {\n",
       "        vertical-align: middle;\n",
       "    }\n",
       "\n",
       "    .dataframe tbody tr th {\n",
       "        vertical-align: top;\n",
       "    }\n",
       "\n",
       "    .dataframe thead th {\n",
       "        text-align: right;\n",
       "    }\n",
       "</style>\n",
       "<table border=\"1\" class=\"dataframe\">\n",
       "  <thead>\n",
       "    <tr style=\"text-align: right;\">\n",
       "      <th></th>\n",
       "      <th>0</th>\n",
       "      <th>1</th>\n",
       "      <th>2</th>\n",
       "      <th>3</th>\n",
       "      <th>4</th>\n",
       "      <th>5</th>\n",
       "      <th>6</th>\n",
       "      <th>7</th>\n",
       "      <th>8</th>\n",
       "      <th>9</th>\n",
       "      <th>...</th>\n",
       "      <th>20</th>\n",
       "      <th>21</th>\n",
       "      <th>22</th>\n",
       "      <th>23</th>\n",
       "      <th>24</th>\n",
       "      <th>25</th>\n",
       "      <th>26</th>\n",
       "      <th>27</th>\n",
       "      <th>28</th>\n",
       "      <th>29</th>\n",
       "    </tr>\n",
       "  </thead>\n",
       "  <tbody>\n",
       "    <tr>\n",
       "      <th>0</th>\n",
       "      <td>0.191078</td>\n",
       "      <td>-0.609619</td>\n",
       "      <td>0.643066</td>\n",
       "      <td>-0.099777</td>\n",
       "      <td>-0.199079</td>\n",
       "      <td>0.255621</td>\n",
       "      <td>0.118661</td>\n",
       "      <td>0.016917</td>\n",
       "      <td>0.888583</td>\n",
       "      <td>1.312857</td>\n",
       "      <td>...</td>\n",
       "      <td>-0.160885</td>\n",
       "      <td>0.858170</td>\n",
       "      <td>0.147607</td>\n",
       "      <td>-0.010640</td>\n",
       "      <td>-0.293143</td>\n",
       "      <td>0.010018</td>\n",
       "      <td>0.144825</td>\n",
       "      <td>0.112064</td>\n",
       "      <td>-1.333078</td>\n",
       "      <td>-0.069337</td>\n",
       "    </tr>\n",
       "    <tr>\n",
       "      <th>1</th>\n",
       "      <td>0.104941</td>\n",
       "      <td>1.231906</td>\n",
       "      <td>-0.773712</td>\n",
       "      <td>-1.024470</td>\n",
       "      <td>-0.311778</td>\n",
       "      <td>-0.211673</td>\n",
       "      <td>-1.559437</td>\n",
       "      <td>-0.144203</td>\n",
       "      <td>-0.200240</td>\n",
       "      <td>0.272664</td>\n",
       "      <td>...</td>\n",
       "      <td>0.625439</td>\n",
       "      <td>0.011464</td>\n",
       "      <td>-0.561831</td>\n",
       "      <td>-0.836513</td>\n",
       "      <td>0.194187</td>\n",
       "      <td>1.017500</td>\n",
       "      <td>-1.924330</td>\n",
       "      <td>0.932871</td>\n",
       "      <td>0.357979</td>\n",
       "      <td>0.134097</td>\n",
       "    </tr>\n",
       "    <tr>\n",
       "      <th>2</th>\n",
       "      <td>-0.060129</td>\n",
       "      <td>1.653631</td>\n",
       "      <td>1.303860</td>\n",
       "      <td>-1.618531</td>\n",
       "      <td>3.646853</td>\n",
       "      <td>-2.923779</td>\n",
       "      <td>-0.261288</td>\n",
       "      <td>-0.626646</td>\n",
       "      <td>1.368215</td>\n",
       "      <td>-2.503340</td>\n",
       "      <td>...</td>\n",
       "      <td>1.154967</td>\n",
       "      <td>0.375737</td>\n",
       "      <td>1.120241</td>\n",
       "      <td>2.799296</td>\n",
       "      <td>0.780155</td>\n",
       "      <td>-1.323157</td>\n",
       "      <td>1.241137</td>\n",
       "      <td>2.136777</td>\n",
       "      <td>-0.404614</td>\n",
       "      <td>0.308978</td>\n",
       "    </tr>\n",
       "    <tr>\n",
       "      <th>3</th>\n",
       "      <td>-0.285153</td>\n",
       "      <td>-2.298036</td>\n",
       "      <td>-0.062171</td>\n",
       "      <td>0.132489</td>\n",
       "      <td>-0.229006</td>\n",
       "      <td>-0.119180</td>\n",
       "      <td>0.203024</td>\n",
       "      <td>-0.044998</td>\n",
       "      <td>0.225884</td>\n",
       "      <td>-0.966006</td>\n",
       "      <td>...</td>\n",
       "      <td>-0.797433</td>\n",
       "      <td>1.418051</td>\n",
       "      <td>-1.349643</td>\n",
       "      <td>-0.465542</td>\n",
       "      <td>-1.610956</td>\n",
       "      <td>-0.903729</td>\n",
       "      <td>0.082661</td>\n",
       "      <td>0.150552</td>\n",
       "      <td>0.044687</td>\n",
       "      <td>-0.015769</td>\n",
       "    </tr>\n",
       "    <tr>\n",
       "      <th>4</th>\n",
       "      <td>-0.353215</td>\n",
       "      <td>-0.610029</td>\n",
       "      <td>0.181420</td>\n",
       "      <td>0.891377</td>\n",
       "      <td>0.439747</td>\n",
       "      <td>0.002078</td>\n",
       "      <td>-0.357918</td>\n",
       "      <td>0.436684</td>\n",
       "      <td>-0.985735</td>\n",
       "      <td>0.127750</td>\n",
       "      <td>...</td>\n",
       "      <td>-0.016367</td>\n",
       "      <td>-0.363103</td>\n",
       "      <td>-0.355036</td>\n",
       "      <td>0.350619</td>\n",
       "      <td>0.721035</td>\n",
       "      <td>-0.151052</td>\n",
       "      <td>0.170927</td>\n",
       "      <td>0.548458</td>\n",
       "      <td>-0.101423</td>\n",
       "      <td>-0.071076</td>\n",
       "    </tr>\n",
       "  </tbody>\n",
       "</table>\n",
       "<p>5 rows × 30 columns</p>\n",
       "</div>"
      ],
      "text/plain": [
       "         0         1         2         3         4         5         6   \\\n",
       "0  0.191078 -0.609619  0.643066 -0.099777 -0.199079  0.255621  0.118661   \n",
       "1  0.104941  1.231906 -0.773712 -1.024470 -0.311778 -0.211673 -1.559437   \n",
       "2 -0.060129  1.653631  1.303860 -1.618531  3.646853 -2.923779 -0.261288   \n",
       "3 -0.285153 -2.298036 -0.062171  0.132489 -0.229006 -0.119180  0.203024   \n",
       "4 -0.353215 -0.610029  0.181420  0.891377  0.439747  0.002078 -0.357918   \n",
       "\n",
       "         7         8         9   ...        20        21        22        23  \\\n",
       "0  0.016917  0.888583  1.312857  ... -0.160885  0.858170  0.147607 -0.010640   \n",
       "1 -0.144203 -0.200240  0.272664  ...  0.625439  0.011464 -0.561831 -0.836513   \n",
       "2 -0.626646  1.368215 -2.503340  ...  1.154967  0.375737  1.120241  2.799296   \n",
       "3 -0.044998  0.225884 -0.966006  ... -0.797433  1.418051 -1.349643 -0.465542   \n",
       "4  0.436684 -0.985735  0.127750  ... -0.016367 -0.363103 -0.355036  0.350619   \n",
       "\n",
       "         24        25        26        27        28        29  \n",
       "0 -0.293143  0.010018  0.144825  0.112064 -1.333078 -0.069337  \n",
       "1  0.194187  1.017500 -1.924330  0.932871  0.357979  0.134097  \n",
       "2  0.780155 -1.323157  1.241137  2.136777 -0.404614  0.308978  \n",
       "3 -1.610956 -0.903729  0.082661  0.150552  0.044687 -0.015769  \n",
       "4  0.721035 -0.151052  0.170927  0.548458 -0.101423 -0.071076  \n",
       "\n",
       "[5 rows x 30 columns]"
      ]
     },
     "execution_count": 33,
     "metadata": {},
     "output_type": "execute_result"
    }
   ],
   "source": [
    "final=pd.DataFrame(new)\n",
    "final.head()"
   ]
  },
  {
   "cell_type": "code",
   "execution_count": 34,
   "id": "200548d4",
   "metadata": {},
   "outputs": [],
   "source": [
    "final.drop(columns=[28,29],inplace=True)"
   ]
  },
  {
   "cell_type": "code",
   "execution_count": 35,
   "id": "76436402",
   "metadata": {},
   "outputs": [
    {
     "data": {
      "text/html": [
       "<div>\n",
       "<style scoped>\n",
       "    .dataframe tbody tr th:only-of-type {\n",
       "        vertical-align: middle;\n",
       "    }\n",
       "\n",
       "    .dataframe tbody tr th {\n",
       "        vertical-align: top;\n",
       "    }\n",
       "\n",
       "    .dataframe thead th {\n",
       "        text-align: right;\n",
       "    }\n",
       "</style>\n",
       "<table border=\"1\" class=\"dataframe\">\n",
       "  <thead>\n",
       "    <tr style=\"text-align: right;\">\n",
       "      <th></th>\n",
       "      <th>0</th>\n",
       "      <th>1</th>\n",
       "      <th>2</th>\n",
       "      <th>3</th>\n",
       "      <th>4</th>\n",
       "      <th>5</th>\n",
       "      <th>6</th>\n",
       "      <th>7</th>\n",
       "      <th>8</th>\n",
       "      <th>9</th>\n",
       "      <th>...</th>\n",
       "      <th>18</th>\n",
       "      <th>19</th>\n",
       "      <th>20</th>\n",
       "      <th>21</th>\n",
       "      <th>22</th>\n",
       "      <th>23</th>\n",
       "      <th>24</th>\n",
       "      <th>25</th>\n",
       "      <th>26</th>\n",
       "      <th>27</th>\n",
       "    </tr>\n",
       "  </thead>\n",
       "  <tbody>\n",
       "    <tr>\n",
       "      <th>0</th>\n",
       "      <td>0.191078</td>\n",
       "      <td>-0.609619</td>\n",
       "      <td>0.643066</td>\n",
       "      <td>-0.099777</td>\n",
       "      <td>-0.199079</td>\n",
       "      <td>0.255621</td>\n",
       "      <td>0.118661</td>\n",
       "      <td>0.016917</td>\n",
       "      <td>0.888583</td>\n",
       "      <td>1.312857</td>\n",
       "      <td>...</td>\n",
       "      <td>-0.854161</td>\n",
       "      <td>-1.413199</td>\n",
       "      <td>-0.160885</td>\n",
       "      <td>0.858170</td>\n",
       "      <td>0.147607</td>\n",
       "      <td>-0.010640</td>\n",
       "      <td>-0.293143</td>\n",
       "      <td>0.010018</td>\n",
       "      <td>0.144825</td>\n",
       "      <td>0.112064</td>\n",
       "    </tr>\n",
       "    <tr>\n",
       "      <th>1</th>\n",
       "      <td>0.104941</td>\n",
       "      <td>1.231906</td>\n",
       "      <td>-0.773712</td>\n",
       "      <td>-1.024470</td>\n",
       "      <td>-0.311778</td>\n",
       "      <td>-0.211673</td>\n",
       "      <td>-1.559437</td>\n",
       "      <td>-0.144203</td>\n",
       "      <td>-0.200240</td>\n",
       "      <td>0.272664</td>\n",
       "      <td>...</td>\n",
       "      <td>-0.551824</td>\n",
       "      <td>-0.296768</td>\n",
       "      <td>0.625439</td>\n",
       "      <td>0.011464</td>\n",
       "      <td>-0.561831</td>\n",
       "      <td>-0.836513</td>\n",
       "      <td>0.194187</td>\n",
       "      <td>1.017500</td>\n",
       "      <td>-1.924330</td>\n",
       "      <td>0.932871</td>\n",
       "    </tr>\n",
       "    <tr>\n",
       "      <th>2</th>\n",
       "      <td>-0.060129</td>\n",
       "      <td>1.653631</td>\n",
       "      <td>1.303860</td>\n",
       "      <td>-1.618531</td>\n",
       "      <td>3.646853</td>\n",
       "      <td>-2.923779</td>\n",
       "      <td>-0.261288</td>\n",
       "      <td>-0.626646</td>\n",
       "      <td>1.368215</td>\n",
       "      <td>-2.503340</td>\n",
       "      <td>...</td>\n",
       "      <td>1.518431</td>\n",
       "      <td>-0.615226</td>\n",
       "      <td>1.154967</td>\n",
       "      <td>0.375737</td>\n",
       "      <td>1.120241</td>\n",
       "      <td>2.799296</td>\n",
       "      <td>0.780155</td>\n",
       "      <td>-1.323157</td>\n",
       "      <td>1.241137</td>\n",
       "      <td>2.136777</td>\n",
       "    </tr>\n",
       "    <tr>\n",
       "      <th>3</th>\n",
       "      <td>-0.285153</td>\n",
       "      <td>-2.298036</td>\n",
       "      <td>-0.062171</td>\n",
       "      <td>0.132489</td>\n",
       "      <td>-0.229006</td>\n",
       "      <td>-0.119180</td>\n",
       "      <td>0.203024</td>\n",
       "      <td>-0.044998</td>\n",
       "      <td>0.225884</td>\n",
       "      <td>-0.966006</td>\n",
       "      <td>...</td>\n",
       "      <td>3.297805</td>\n",
       "      <td>0.055903</td>\n",
       "      <td>-0.797433</td>\n",
       "      <td>1.418051</td>\n",
       "      <td>-1.349643</td>\n",
       "      <td>-0.465542</td>\n",
       "      <td>-1.610956</td>\n",
       "      <td>-0.903729</td>\n",
       "      <td>0.082661</td>\n",
       "      <td>0.150552</td>\n",
       "    </tr>\n",
       "    <tr>\n",
       "      <th>4</th>\n",
       "      <td>-0.353215</td>\n",
       "      <td>-0.610029</td>\n",
       "      <td>0.181420</td>\n",
       "      <td>0.891377</td>\n",
       "      <td>0.439747</td>\n",
       "      <td>0.002078</td>\n",
       "      <td>-0.357918</td>\n",
       "      <td>0.436684</td>\n",
       "      <td>-0.985735</td>\n",
       "      <td>0.127750</td>\n",
       "      <td>...</td>\n",
       "      <td>-0.560616</td>\n",
       "      <td>-0.630505</td>\n",
       "      <td>-0.016367</td>\n",
       "      <td>-0.363103</td>\n",
       "      <td>-0.355036</td>\n",
       "      <td>0.350619</td>\n",
       "      <td>0.721035</td>\n",
       "      <td>-0.151052</td>\n",
       "      <td>0.170927</td>\n",
       "      <td>0.548458</td>\n",
       "    </tr>\n",
       "  </tbody>\n",
       "</table>\n",
       "<p>5 rows × 28 columns</p>\n",
       "</div>"
      ],
      "text/plain": [
       "         0         1         2         3         4         5         6   \\\n",
       "0  0.191078 -0.609619  0.643066 -0.099777 -0.199079  0.255621  0.118661   \n",
       "1  0.104941  1.231906 -0.773712 -1.024470 -0.311778 -0.211673 -1.559437   \n",
       "2 -0.060129  1.653631  1.303860 -1.618531  3.646853 -2.923779 -0.261288   \n",
       "3 -0.285153 -2.298036 -0.062171  0.132489 -0.229006 -0.119180  0.203024   \n",
       "4 -0.353215 -0.610029  0.181420  0.891377  0.439747  0.002078 -0.357918   \n",
       "\n",
       "         7         8         9   ...        18        19        20        21  \\\n",
       "0  0.016917  0.888583  1.312857  ... -0.854161 -1.413199 -0.160885  0.858170   \n",
       "1 -0.144203 -0.200240  0.272664  ... -0.551824 -0.296768  0.625439  0.011464   \n",
       "2 -0.626646  1.368215 -2.503340  ...  1.518431 -0.615226  1.154967  0.375737   \n",
       "3 -0.044998  0.225884 -0.966006  ...  3.297805  0.055903 -0.797433  1.418051   \n",
       "4  0.436684 -0.985735  0.127750  ... -0.560616 -0.630505 -0.016367 -0.363103   \n",
       "\n",
       "         22        23        24        25        26        27  \n",
       "0  0.147607 -0.010640 -0.293143  0.010018  0.144825  0.112064  \n",
       "1 -0.561831 -0.836513  0.194187  1.017500 -1.924330  0.932871  \n",
       "2  1.120241  2.799296  0.780155 -1.323157  1.241137  2.136777  \n",
       "3 -1.349643 -0.465542 -1.610956 -0.903729  0.082661  0.150552  \n",
       "4 -0.355036  0.350619  0.721035 -0.151052  0.170927  0.548458  \n",
       "\n",
       "[5 rows x 28 columns]"
      ]
     },
     "execution_count": 35,
     "metadata": {},
     "output_type": "execute_result"
    }
   ],
   "source": [
    "final.head()"
   ]
  },
  {
   "cell_type": "code",
   "execution_count": 36,
   "id": "416dd1a8",
   "metadata": {},
   "outputs": [
    {
     "data": {
      "text/html": [
       "<div>\n",
       "<style scoped>\n",
       "    .dataframe tbody tr th:only-of-type {\n",
       "        vertical-align: middle;\n",
       "    }\n",
       "\n",
       "    .dataframe tbody tr th {\n",
       "        vertical-align: top;\n",
       "    }\n",
       "\n",
       "    .dataframe thead th {\n",
       "        text-align: right;\n",
       "    }\n",
       "</style>\n",
       "<table border=\"1\" class=\"dataframe\">\n",
       "  <thead>\n",
       "    <tr style=\"text-align: right;\">\n",
       "      <th></th>\n",
       "      <th>0</th>\n",
       "      <th>1</th>\n",
       "      <th>2</th>\n",
       "      <th>3</th>\n",
       "      <th>4</th>\n",
       "      <th>5</th>\n",
       "      <th>6</th>\n",
       "      <th>7</th>\n",
       "      <th>8</th>\n",
       "      <th>9</th>\n",
       "      <th>...</th>\n",
       "      <th>18</th>\n",
       "      <th>19</th>\n",
       "      <th>20</th>\n",
       "      <th>21</th>\n",
       "      <th>22</th>\n",
       "      <th>23</th>\n",
       "      <th>24</th>\n",
       "      <th>25</th>\n",
       "      <th>26</th>\n",
       "      <th>27</th>\n",
       "    </tr>\n",
       "  </thead>\n",
       "  <tbody>\n",
       "    <tr>\n",
       "      <th>count</th>\n",
       "      <td>2.136050e+05</td>\n",
       "      <td>2.136050e+05</td>\n",
       "      <td>2.136050e+05</td>\n",
       "      <td>2.136050e+05</td>\n",
       "      <td>2.136050e+05</td>\n",
       "      <td>2.136050e+05</td>\n",
       "      <td>2.136050e+05</td>\n",
       "      <td>2.136050e+05</td>\n",
       "      <td>2.136050e+05</td>\n",
       "      <td>2.136050e+05</td>\n",
       "      <td>...</td>\n",
       "      <td>2.136050e+05</td>\n",
       "      <td>2.136050e+05</td>\n",
       "      <td>2.136050e+05</td>\n",
       "      <td>2.136050e+05</td>\n",
       "      <td>2.136050e+05</td>\n",
       "      <td>2.136050e+05</td>\n",
       "      <td>2.136050e+05</td>\n",
       "      <td>2.136050e+05</td>\n",
       "      <td>2.136050e+05</td>\n",
       "      <td>2.136050e+05</td>\n",
       "    </tr>\n",
       "    <tr>\n",
       "      <th>mean</th>\n",
       "      <td>1.613320e-18</td>\n",
       "      <td>-1.180884e-17</td>\n",
       "      <td>4.457420e-18</td>\n",
       "      <td>-2.677779e-18</td>\n",
       "      <td>-3.684025e-18</td>\n",
       "      <td>2.960525e-18</td>\n",
       "      <td>4.108145e-18</td>\n",
       "      <td>-6.819188e-18</td>\n",
       "      <td>-1.796274e-18</td>\n",
       "      <td>4.607110e-18</td>\n",
       "      <td>...</td>\n",
       "      <td>-2.012492e-17</td>\n",
       "      <td>-1.323920e-17</td>\n",
       "      <td>-1.135977e-17</td>\n",
       "      <td>3.609180e-18</td>\n",
       "      <td>-1.326415e-17</td>\n",
       "      <td>-2.162181e-18</td>\n",
       "      <td>1.124334e-17</td>\n",
       "      <td>6.316065e-18</td>\n",
       "      <td>3.725605e-18</td>\n",
       "      <td>-3.326433e-19</td>\n",
       "    </tr>\n",
       "    <tr>\n",
       "      <th>std</th>\n",
       "      <td>1.397373e+00</td>\n",
       "      <td>1.297804e+00</td>\n",
       "      <td>1.020966e+00</td>\n",
       "      <td>1.008435e+00</td>\n",
       "      <td>1.006757e+00</td>\n",
       "      <td>1.005272e+00</td>\n",
       "      <td>1.003700e+00</td>\n",
       "      <td>1.002992e+00</td>\n",
       "      <td>1.002560e+00</td>\n",
       "      <td>1.001740e+00</td>\n",
       "      <td>...</td>\n",
       "      <td>9.984744e-01</td>\n",
       "      <td>9.983709e-01</td>\n",
       "      <td>9.976452e-01</td>\n",
       "      <td>9.971128e-01</td>\n",
       "      <td>9.965568e-01</td>\n",
       "      <td>9.956745e-01</td>\n",
       "      <td>9.947894e-01</td>\n",
       "      <td>9.931610e-01</td>\n",
       "      <td>9.908431e-01</td>\n",
       "      <td>9.860113e-01</td>\n",
       "    </tr>\n",
       "    <tr>\n",
       "      <th>min</th>\n",
       "      <td>-7.906540e+00</td>\n",
       "      <td>-4.081503e+00</td>\n",
       "      <td>-1.542823e+02</td>\n",
       "      <td>-4.382906e+01</td>\n",
       "      <td>-3.334130e+01</td>\n",
       "      <td>-3.488927e+01</td>\n",
       "      <td>-2.354032e+01</td>\n",
       "      <td>-1.307724e+01</td>\n",
       "      <td>-2.208741e+01</td>\n",
       "      <td>-2.266126e+01</td>\n",
       "      <td>...</td>\n",
       "      <td>-2.365769e+01</td>\n",
       "      <td>-7.607316e+00</td>\n",
       "      <td>-9.903965e+00</td>\n",
       "      <td>-3.764541e+01</td>\n",
       "      <td>-2.009082e+01</td>\n",
       "      <td>-3.817634e+01</td>\n",
       "      <td>-2.196438e+01</td>\n",
       "      <td>-3.232611e+01</td>\n",
       "      <td>-2.627311e+01</td>\n",
       "      <td>-4.262517e+01</td>\n",
       "    </tr>\n",
       "    <tr>\n",
       "      <th>25%</th>\n",
       "      <td>-4.453053e-01</td>\n",
       "      <td>-1.068661e+00</td>\n",
       "      <td>-1.814581e-01</td>\n",
       "      <td>-2.004896e-01</td>\n",
       "      <td>-2.251346e-01</td>\n",
       "      <td>-4.669431e-01</td>\n",
       "      <td>-4.896473e-01</td>\n",
       "      <td>-6.381512e-01</td>\n",
       "      <td>-6.267234e-01</td>\n",
       "      <td>-5.399152e-01</td>\n",
       "      <td>...</td>\n",
       "      <td>-5.903809e-01</td>\n",
       "      <td>-7.345319e-01</td>\n",
       "      <td>-6.309562e-01</td>\n",
       "      <td>-6.268348e-01</td>\n",
       "      <td>-6.322672e-01</td>\n",
       "      <td>-5.262936e-01</td>\n",
       "      <td>-4.322483e-01</td>\n",
       "      <td>-3.615775e-01</td>\n",
       "      <td>-4.106573e-01</td>\n",
       "      <td>-1.544037e-01</td>\n",
       "    </tr>\n",
       "    <tr>\n",
       "      <th>50%</th>\n",
       "      <td>-3.426099e-01</td>\n",
       "      <td>-2.651506e-01</td>\n",
       "      <td>-3.268715e-02</td>\n",
       "      <td>1.104919e-01</td>\n",
       "      <td>-2.871727e-04</td>\n",
       "      <td>-2.931881e-02</td>\n",
       "      <td>-5.410479e-02</td>\n",
       "      <td>1.331620e-02</td>\n",
       "      <td>3.488230e-02</td>\n",
       "      <td>8.634233e-02</td>\n",
       "      <td>...</td>\n",
       "      <td>-3.827090e-02</td>\n",
       "      <td>4.075357e-02</td>\n",
       "      <td>-4.425114e-02</td>\n",
       "      <td>5.603879e-02</td>\n",
       "      <td>-6.647245e-02</td>\n",
       "      <td>8.640567e-02</td>\n",
       "      <td>6.721781e-02</td>\n",
       "      <td>3.346131e-03</td>\n",
       "      <td>-6.612127e-02</td>\n",
       "      <td>8.148198e-02</td>\n",
       "    </tr>\n",
       "    <tr>\n",
       "      <th>75%</th>\n",
       "      <td>-4.635671e-02</td>\n",
       "      <td>1.244345e+00</td>\n",
       "      <td>1.909175e-01</td>\n",
       "      <td>3.991564e-01</td>\n",
       "      <td>2.166050e-01</td>\n",
       "      <td>4.841684e-01</td>\n",
       "      <td>3.984249e-01</td>\n",
       "      <td>6.572070e-01</td>\n",
       "      <td>6.653586e-01</td>\n",
       "      <td>6.211876e-01</td>\n",
       "      <td>...</td>\n",
       "      <td>5.491621e-01</td>\n",
       "      <td>7.073284e-01</td>\n",
       "      <td>5.721815e-01</td>\n",
       "      <td>6.908295e-01</td>\n",
       "      <td>5.527876e-01</td>\n",
       "      <td>5.581193e-01</td>\n",
       "      <td>5.347232e-01</td>\n",
       "      <td>2.805107e-01</td>\n",
       "      <td>2.783523e-01</td>\n",
       "      <td>2.696056e-01</td>\n",
       "    </tr>\n",
       "    <tr>\n",
       "      <th>max</th>\n",
       "      <td>1.369180e+02</td>\n",
       "      <td>6.459647e+00</td>\n",
       "      <td>5.354419e+01</td>\n",
       "      <td>4.088034e+01</td>\n",
       "      <td>3.515061e+01</td>\n",
       "      <td>2.820774e+01</td>\n",
       "      <td>2.387078e+01</td>\n",
       "      <td>1.340476e+01</td>\n",
       "      <td>1.144065e+01</td>\n",
       "      <td>1.349100e+01</td>\n",
       "      <td>...</td>\n",
       "      <td>8.341300e+00</td>\n",
       "      <td>2.131692e+01</td>\n",
       "      <td>1.861348e+01</td>\n",
       "      <td>7.853376e+00</td>\n",
       "      <td>8.826078e+00</td>\n",
       "      <td>1.375012e+01</td>\n",
       "      <td>1.547302e+01</td>\n",
       "      <td>3.079864e+01</td>\n",
       "      <td>3.402021e+01</td>\n",
       "      <td>7.779646e+01</td>\n",
       "    </tr>\n",
       "  </tbody>\n",
       "</table>\n",
       "<p>8 rows × 28 columns</p>\n",
       "</div>"
      ],
      "text/plain": [
       "                 0             1             2             3             4   \\\n",
       "count  2.136050e+05  2.136050e+05  2.136050e+05  2.136050e+05  2.136050e+05   \n",
       "mean   1.613320e-18 -1.180884e-17  4.457420e-18 -2.677779e-18 -3.684025e-18   \n",
       "std    1.397373e+00  1.297804e+00  1.020966e+00  1.008435e+00  1.006757e+00   \n",
       "min   -7.906540e+00 -4.081503e+00 -1.542823e+02 -4.382906e+01 -3.334130e+01   \n",
       "25%   -4.453053e-01 -1.068661e+00 -1.814581e-01 -2.004896e-01 -2.251346e-01   \n",
       "50%   -3.426099e-01 -2.651506e-01 -3.268715e-02  1.104919e-01 -2.871727e-04   \n",
       "75%   -4.635671e-02  1.244345e+00  1.909175e-01  3.991564e-01  2.166050e-01   \n",
       "max    1.369180e+02  6.459647e+00  5.354419e+01  4.088034e+01  3.515061e+01   \n",
       "\n",
       "                 5             6             7             8             9   \\\n",
       "count  2.136050e+05  2.136050e+05  2.136050e+05  2.136050e+05  2.136050e+05   \n",
       "mean   2.960525e-18  4.108145e-18 -6.819188e-18 -1.796274e-18  4.607110e-18   \n",
       "std    1.005272e+00  1.003700e+00  1.002992e+00  1.002560e+00  1.001740e+00   \n",
       "min   -3.488927e+01 -2.354032e+01 -1.307724e+01 -2.208741e+01 -2.266126e+01   \n",
       "25%   -4.669431e-01 -4.896473e-01 -6.381512e-01 -6.267234e-01 -5.399152e-01   \n",
       "50%   -2.931881e-02 -5.410479e-02  1.331620e-02  3.488230e-02  8.634233e-02   \n",
       "75%    4.841684e-01  3.984249e-01  6.572070e-01  6.653586e-01  6.211876e-01   \n",
       "max    2.820774e+01  2.387078e+01  1.340476e+01  1.144065e+01  1.349100e+01   \n",
       "\n",
       "       ...            18            19            20            21  \\\n",
       "count  ...  2.136050e+05  2.136050e+05  2.136050e+05  2.136050e+05   \n",
       "mean   ... -2.012492e-17 -1.323920e-17 -1.135977e-17  3.609180e-18   \n",
       "std    ...  9.984744e-01  9.983709e-01  9.976452e-01  9.971128e-01   \n",
       "min    ... -2.365769e+01 -7.607316e+00 -9.903965e+00 -3.764541e+01   \n",
       "25%    ... -5.903809e-01 -7.345319e-01 -6.309562e-01 -6.268348e-01   \n",
       "50%    ... -3.827090e-02  4.075357e-02 -4.425114e-02  5.603879e-02   \n",
       "75%    ...  5.491621e-01  7.073284e-01  5.721815e-01  6.908295e-01   \n",
       "max    ...  8.341300e+00  2.131692e+01  1.861348e+01  7.853376e+00   \n",
       "\n",
       "                 22            23            24            25            26  \\\n",
       "count  2.136050e+05  2.136050e+05  2.136050e+05  2.136050e+05  2.136050e+05   \n",
       "mean  -1.326415e-17 -2.162181e-18  1.124334e-17  6.316065e-18  3.725605e-18   \n",
       "std    9.965568e-01  9.956745e-01  9.947894e-01  9.931610e-01  9.908431e-01   \n",
       "min   -2.009082e+01 -3.817634e+01 -2.196438e+01 -3.232611e+01 -2.627311e+01   \n",
       "25%   -6.322672e-01 -5.262936e-01 -4.322483e-01 -3.615775e-01 -4.106573e-01   \n",
       "50%   -6.647245e-02  8.640567e-02  6.721781e-02  3.346131e-03 -6.612127e-02   \n",
       "75%    5.527876e-01  5.581193e-01  5.347232e-01  2.805107e-01  2.783523e-01   \n",
       "max    8.826078e+00  1.375012e+01  1.547302e+01  3.079864e+01  3.402021e+01   \n",
       "\n",
       "                 27  \n",
       "count  2.136050e+05  \n",
       "mean  -3.326433e-19  \n",
       "std    9.860113e-01  \n",
       "min   -4.262517e+01  \n",
       "25%   -1.544037e-01  \n",
       "50%    8.148198e-02  \n",
       "75%    2.696056e-01  \n",
       "max    7.779646e+01  \n",
       "\n",
       "[8 rows x 28 columns]"
      ]
     },
     "execution_count": 36,
     "metadata": {},
     "output_type": "execute_result"
    }
   ],
   "source": [
    "final.describe()"
   ]
  },
  {
   "cell_type": "code",
   "execution_count": 37,
   "id": "9922db20",
   "metadata": {},
   "outputs": [
    {
     "name": "stderr",
     "output_type": "stream",
     "text": [
      "C:\\Users\\asus\\AppData\\Local\\Temp\\ipykernel_10328\\2708758507.py:2: UserWarning: \n",
      "\n",
      "`distplot` is a deprecated function and will be removed in seaborn v0.14.0.\n",
      "\n",
      "Please adapt your code to use either `displot` (a figure-level function with\n",
      "similar flexibility) or `histplot` (an axes-level function for histograms).\n",
      "\n",
      "For a guide to updating your code to use the new functions, please see\n",
      "https://gist.github.com/mwaskom/de44147ed2974457ad6372750bbe5751\n",
      "\n",
      "  sns.distplot(final[i])  # kde=True adds the smooth curve\n"
     ]
    },
    {
     "data": {
      "image/png": "[encoded data removed]",
      "text/plain": [
       "<Figure size 640x480 with 1 Axes>"
      ]
     },
     "metadata": {},
     "output_type": "display_data"
    },
    {
     "name": "stderr",
     "output_type": "stream",
     "text": [
      "C:\\Users\\asus\\AppData\\Local\\Temp\\ipykernel_10328\\2708758507.py:2: UserWarning: \n",
      "\n",
      "`distplot` is a deprecated function and will be removed in seaborn v0.14.0.\n",
      "\n",
      "Please adapt your code to use either `displot` (a figure-level function with\n",
      "similar flexibility) or `histplot` (an axes-level function for histograms).\n",
      "\n",
      "For a guide to updating your code to use the new functions, please see\n",
      "https://gist.github.com/mwaskom/de44147ed2974457ad6372750bbe5751\n",
      "\n",
      "  sns.distplot(final[i])  # kde=True adds the smooth curve\n"
     ]
    },
    {
     "data": {
      "image/png": "[encoded data removed]",
      "text/plain": [
       "<Figure size 640x480 with 1 Axes>"
      ]
     },
     "metadata": {},
     "output_type": "display_data"
    },
    {
     "name": "stderr",
     "output_type": "stream",
     "text": [
      "C:\\Users\\asus\\AppData\\Local\\Temp\\ipykernel_10328\\2708758507.py:2: UserWarning: \n",
      "\n",
      "`distplot` is a deprecated function and will be removed in seaborn v0.14.0.\n",
      "\n",
      "Please adapt your code to use either `displot` (a figure-level function with\n",
      "similar flexibility) or `histplot` (an axes-level function for histograms).\n",
      "\n",
      "For a guide to updating your code to use the new functions, please see\n",
      "https://gist.github.com/mwaskom/de44147ed2974457ad6372750bbe5751\n",
      "\n",
      "  sns.distplot(final[i])  # kde=True adds the smooth curve\n"
     ]
    },
    {
     "data": {
      "image/png": "[encoded data removed]",
      "text/plain": [
       "<Figure size 640x480 with 1 Axes>"
      ]
     },
     "metadata": {},
     "output_type": "display_data"
    },
    {
     "name": "stderr",
     "output_type": "stream",
     "text": [
      "C:\\Users\\asus\\AppData\\Local\\Temp\\ipykernel_10328\\2708758507.py:2: UserWarning: \n",
      "\n",
      "`distplot` is a deprecated function and will be removed in seaborn v0.14.0.\n",
      "\n",
      "Please adapt your code to use either `displot` (a figure-level function with\n",
      "similar flexibility) or `histplot` (an axes-level function for histograms).\n",
      "\n",
      "For a guide to updating your code to use the new functions, please see\n",
      "https://gist.github.com/mwaskom/de44147ed2974457ad6372750bbe5751\n",
      "\n",
      "  sns.distplot(final[i])  # kde=True adds the smooth curve\n"
     ]
    },
    {
     "data": {
      "image/png": "[encoded data removed]",
      "text/plain": [
       "<Figure size 640x480 with 1 Axes>"
      ]
     },
     "metadata": {},
     "output_type": "display_data"
    },
    {
     "name": "stderr",
     "output_type": "stream",
     "text": [
      "C:\\Users\\asus\\AppData\\Local\\Temp\\ipykernel_10328\\2708758507.py:2: UserWarning: \n",
      "\n",
      "`distplot` is a deprecated function and will be removed in seaborn v0.14.0.\n",
      "\n",
      "Please adapt your code to use either `displot` (a figure-level function with\n",
      "similar flexibility) or `histplot` (an axes-level function for histograms).\n",
      "\n",
      "For a guide to updating your code to use the new functions, please see\n",
      "https://gist.github.com/mwaskom/de44147ed2974457ad6372750bbe5751\n",
      "\n",
      "  sns.distplot(final[i])  # kde=True adds the smooth curve\n"
     ]
    },
    {
     "data": {
      "image/png": "[encoded data removed]",
      "text/plain": [
       "<Figure size 640x480 with 1 Axes>"
      ]
     },
     "metadata": {},
     "output_type": "display_data"
    },
    {
     "name": "stderr",
     "output_type": "stream",
     "text": [
      "C:\\Users\\asus\\AppData\\Local\\Temp\\ipykernel_10328\\2708758507.py:2: UserWarning: \n",
      "\n",
      "`distplot` is a deprecated function and will be removed in seaborn v0.14.0.\n",
      "\n",
      "Please adapt your code to use either `displot` (a figure-level function with\n",
      "similar flexibility) or `histplot` (an axes-level function for histograms).\n",
      "\n",
      "For a guide to updating your code to use the new functions, please see\n",
      "https://gist.github.com/mwaskom/de44147ed2974457ad6372750bbe5751\n",
      "\n",
      "  sns.distplot(final[i])  # kde=True adds the smooth curve\n"
     ]
    },
    {
     "data": {
      "image/png": "[encoded data removed]",
      "text/plain": [
       "<Figure size 640x480 with 1 Axes>"
      ]
     },
     "metadata": {},
     "output_type": "display_data"
    },
    {
     "name": "stderr",
     "output_type": "stream",
     "text": [
      "C:\\Users\\asus\\AppData\\Local\\Temp\\ipykernel_10328\\2708758507.py:2: UserWarning: \n",
      "\n",
      "`distplot` is a deprecated function and will be removed in seaborn v0.14.0.\n",
      "\n",
      "Please adapt your code to use either `displot` (a figure-level function with\n",
      "similar flexibility) or `histplot` (an axes-level function for histograms).\n",
      "\n",
      "For a guide to updating your code to use the new functions, please see\n",
      "https://gist.github.com/mwaskom/de44147ed2974457ad6372750bbe5751\n",
      "\n",
      "  sns.distplot(final[i])  # kde=True adds the smooth curve\n"
     ]
    },
    {
     "data": {
      "image/png": "[encoded data removed]",
      "text/plain": [
       "<Figure size 640x480 with 1 Axes>"
      ]
     },
     "metadata": {},
     "output_type": "display_data"
    },
    {
     "name": "stderr",
     "output_type": "stream",
     "text": [
      "C:\\Users\\asus\\AppData\\Local\\Temp\\ipykernel_10328\\2708758507.py:2: UserWarning: \n",
      "\n",
      "`distplot` is a deprecated function and will be removed in seaborn v0.14.0.\n",
      "\n",
      "Please adapt your code to use either `displot` (a figure-level function with\n",
      "similar flexibility) or `histplot` (an axes-level function for histograms).\n",
      "\n",
      "For a guide to updating your code to use the new functions, please see\n",
      "https://gist.github.com/mwaskom/de44147ed2974457ad6372750bbe5751\n",
      "\n",
      "  sns.distplot(final[i])  # kde=True adds the smooth curve\n"
     ]
    },
    {
     "data": {
      "image/png": "[encoded data removed]",
      "text/plain": [
       "<Figure size 640x480 with 1 Axes>"
      ]
     },
     "metadata": {},
     "output_type": "display_data"
    },
    {
     "name": "stderr",
     "output_type": "stream",
     "text": [
      "C:\\Users\\asus\\AppData\\Local\\Temp\\ipykernel_10328\\2708758507.py:2: UserWarning: \n",
      "\n",
      "`distplot` is a deprecated function and will be removed in seaborn v0.14.0.\n",
      "\n",
      "Please adapt your code to use either `displot` (a figure-level function with\n",
      "similar flexibility) or `histplot` (an axes-level function for histograms).\n",
      "\n",
      "For a guide to updating your code to use the new functions, please see\n",
      "https://gist.github.com/mwaskom/de44147ed2974457ad6372750bbe5751\n",
      "\n",
      "  sns.distplot(final[i])  # kde=True adds the smooth curve\n"
     ]
    },
    {
     "data": {
      "image/png": "[encoded data removed]",
      "text/plain": [
       "<Figure size 640x480 with 1 Axes>"
      ]
     },
     "metadata": {},
     "output_type": "display_data"
    },
    {
     "name": "stderr",
     "output_type": "stream",
     "text": [
      "C:\\Users\\asus\\AppData\\Local\\Temp\\ipykernel_10328\\2708758507.py:2: UserWarning: \n",
      "\n",
      "`distplot` is a deprecated function and will be removed in seaborn v0.14.0.\n",
      "\n",
      "Please adapt your code to use either `displot` (a figure-level function with\n",
      "similar flexibility) or `histplot` (an axes-level function for histograms).\n",
      "\n",
      "For a guide to updating your code to use the new functions, please see\n",
      "https://gist.github.com/mwaskom/de44147ed2974457ad6372750bbe5751\n",
      "\n",
      "  sns.distplot(final[i])  # kde=True adds the smooth curve\n"
     ]
    },
    {
     "data": {
      "image/png": "[encoded data removed]",
      "text/plain": [
       "<Figure size 640x480 with 1 Axes>"
      ]
     },
     "metadata": {},
     "output_type": "display_data"
    },
    {
     "name": "stderr",
     "output_type": "stream",
     "text": [
      "C:\\Users\\asus\\AppData\\Local\\Temp\\ipykernel_10328\\2708758507.py:2: UserWarning: \n",
      "\n",
      "`distplot` is a deprecated function and will be removed in seaborn v0.14.0.\n",
      "\n",
      "Please adapt your code to use either `displot` (a figure-level function with\n",
      "similar flexibility) or `histplot` (an axes-level function for histograms).\n",
      "\n",
      "For a guide to updating your code to use the new functions, please see\n",
      "https://gist.github.com/mwaskom/de44147ed2974457ad6372750bbe5751\n",
      "\n",
      "  sns.distplot(final[i])  # kde=True adds the smooth curve\n"
     ]
    },
    {
     "data": {
      "image/png": "[encoded data removed]",
      "text/plain": [
       "<Figure size 640x480 with 1 Axes>"
      ]
     },
     "metadata": {},
     "output_type": "display_data"
    },
    {
     "name": "stderr",
     "output_type": "stream",
     "text": [
      "C:\\Users\\asus\\AppData\\Local\\Temp\\ipykernel_10328\\2708758507.py:2: UserWarning: \n",
      "\n",
      "`distplot` is a deprecated function and will be removed in seaborn v0.14.0.\n",
      "\n",
      "Please adapt your code to use either `displot` (a figure-level function with\n",
      "similar flexibility) or `histplot` (an axes-level function for histograms).\n",
      "\n",
      "For a guide to updating your code to use the new functions, please see\n",
      "https://gist.github.com/mwaskom/de44147ed2974457ad6372750bbe5751\n",
      "\n",
      "  sns.distplot(final[i])  # kde=True adds the smooth curve\n"
     ]
    },
    {
     "data": {
      "image/png": "[encoded data removed]",
      "text/plain": [
       "<Figure size 640x480 with 1 Axes>"
      ]
     },
     "metadata": {},
     "output_type": "display_data"
    },
    {
     "name": "stderr",
     "output_type": "stream",
     "text": [
      "C:\\Users\\asus\\AppData\\Local\\Temp\\ipykernel_10328\\2708758507.py:2: UserWarning: \n",
      "\n",
      "`distplot` is a deprecated function and will be removed in seaborn v0.14.0.\n",
      "\n",
      "Please adapt your code to use either `displot` (a figure-level function with\n",
      "similar flexibility) or `histplot` (an axes-level function for histograms).\n",
      "\n",
      "For a guide to updating your code to use the new functions, please see\n",
      "https://gist.github.com/mwaskom/de44147ed2974457ad6372750bbe5751\n",
      "\n",
      "  sns.distplot(final[i])  # kde=True adds the smooth curve\n"
     ]
    },
    {
     "data": {
      "image/png": "[encoded data removed]",
      "text/plain": [
       "<Figure size 640x480 with 1 Axes>"
      ]
     },
     "metadata": {},
     "output_type": "display_data"
    },
    {
     "name": "stderr",
     "output_type": "stream",
     "text": [
      "C:\\Users\\asus\\AppData\\Local\\Temp\\ipykernel_10328\\2708758507.py:2: UserWarning: \n",
      "\n",
      "`distplot` is a deprecated function and will be removed in seaborn v0.14.0.\n",
      "\n",
      "Please adapt your code to use either `displot` (a figure-level function with\n",
      "similar flexibility) or `histplot` (an axes-level function for histograms).\n",
      "\n",
      "For a guide to updating your code to use the new functions, please see\n",
      "https://gist.github.com/mwaskom/de44147ed2974457ad6372750bbe5751\n",
      "\n",
      "  sns.distplot(final[i])  # kde=True adds the smooth curve\n"
     ]
    },
    {
     "data": {
      "image/png": "[encoded data removed]",
      "text/plain": [
       "<Figure size 640x480 with 1 Axes>"
      ]
     },
     "metadata": {},
     "output_type": "display_data"
    },
    {
     "name": "stderr",
     "output_type": "stream",
     "text": [
      "C:\\Users\\asus\\AppData\\Local\\Temp\\ipykernel_10328\\2708758507.py:2: UserWarning: \n",
      "\n",
      "`distplot` is a deprecated function and will be removed in seaborn v0.14.0.\n",
      "\n",
      "Please adapt your code to use either `displot` (a figure-level function with\n",
      "similar flexibility) or `histplot` (an axes-level function for histograms).\n",
      "\n",
      "For a guide to updating your code to use the new functions, please see\n",
      "https://gist.github.com/mwaskom/de44147ed2974457ad6372750bbe5751\n",
      "\n",
      "  sns.distplot(final[i])  # kde=True adds the smooth curve\n"
     ]
    },
    {
     "data": {
      "image/png": "[encoded data removed]",
      "text/plain": [
       "<Figure size 640x480 with 1 Axes>"
      ]
     },
     "metadata": {},
     "output_type": "display_data"
    },
    {
     "name": "stderr",
     "output_type": "stream",
     "text": [
      "C:\\Users\\asus\\AppData\\Local\\Temp\\ipykernel_10328\\2708758507.py:2: UserWarning: \n",
      "\n",
      "`distplot` is a deprecated function and will be removed in seaborn v0.14.0.\n",
      "\n",
      "Please adapt your code to use either `displot` (a figure-level function with\n",
      "similar flexibility) or `histplot` (an axes-level function for histograms).\n",
      "\n",
      "For a guide to updating your code to use the new functions, please see\n",
      "https://gist.github.com/mwaskom/de44147ed2974457ad6372750bbe5751\n",
      "\n",
      "  sns.distplot(final[i])  # kde=True adds the smooth curve\n"
     ]
    },
    {
     "data": {
      "image/png": "[encoded data removed]",
      "text/plain": [
       "<Figure size 640x480 with 1 Axes>"
      ]
     },
     "metadata": {},
     "output_type": "display_data"
    },
    {
     "name": "stderr",
     "output_type": "stream",
     "text": [
      "C:\\Users\\asus\\AppData\\Local\\Temp\\ipykernel_10328\\2708758507.py:2: UserWarning: \n",
      "\n",
      "`distplot` is a deprecated function and will be removed in seaborn v0.14.0.\n",
      "\n",
      "Please adapt your code to use either `displot` (a figure-level function with\n",
      "similar flexibility) or `histplot` (an axes-level function for histograms).\n",
      "\n",
      "For a guide to updating your code to use the new functions, please see\n",
      "https://gist.github.com/mwaskom/de44147ed2974457ad6372750bbe5751\n",
      "\n",
      "  sns.distplot(final[i])  # kde=True adds the smooth curve\n"
     ]
    },
    {
     "data": {
      "image/png": "[encoded data removed]",
      "text/plain": [
       "<Figure size 640x480 with 1 Axes>"
      ]
     },
     "metadata": {},
     "output_type": "display_data"
    },
    {
     "name": "stderr",
     "output_type": "stream",
     "text": [
      "C:\\Users\\asus\\AppData\\Local\\Temp\\ipykernel_10328\\2708758507.py:2: UserWarning: \n",
      "\n",
      "`distplot` is a deprecated function and will be removed in seaborn v0.14.0.\n",
      "\n",
      "Please adapt your code to use either `displot` (a figure-level function with\n",
      "similar flexibility) or `histplot` (an axes-level function for histograms).\n",
      "\n",
      "For a guide to updating your code to use the new functions, please see\n",
      "https://gist.github.com/mwaskom/de44147ed2974457ad6372750bbe5751\n",
      "\n",
      "  sns.distplot(final[i])  # kde=True adds the smooth curve\n"
     ]
    },
    {
     "data": {
      "image/png": "[encoded data removed]",
      "text/plain": [
       "<Figure size 640x480 with 1 Axes>"
      ]
     },
     "metadata": {},
     "output_type": "display_data"
    },
    {
     "name": "stderr",
     "output_type": "stream",
     "text": [
      "C:\\Users\\asus\\AppData\\Local\\Temp\\ipykernel_10328\\2708758507.py:2: UserWarning: \n",
      "\n",
      "`distplot` is a deprecated function and will be removed in seaborn v0.14.0.\n",
      "\n",
      "Please adapt your code to use either `displot` (a figure-level function with\n",
      "similar flexibility) or `histplot` (an axes-level function for histograms).\n",
      "\n",
      "For a guide to updating your code to use the new functions, please see\n",
      "https://gist.github.com/mwaskom/de44147ed2974457ad6372750bbe5751\n",
      "\n",
      "  sns.distplot(final[i])  # kde=True adds the smooth curve\n"
     ]
    },
    {
     "data": {
      "image/png": "[encoded data removed]",
      "text/plain": [
       "<Figure size 640x480 with 1 Axes>"
      ]
     },
     "metadata": {},
     "output_type": "display_data"
    },
    {
     "name": "stderr",
     "output_type": "stream",
     "text": [
      "C:\\Users\\asus\\AppData\\Local\\Temp\\ipykernel_10328\\2708758507.py:2: UserWarning: \n",
      "\n",
      "`distplot` is a deprecated function and will be removed in seaborn v0.14.0.\n",
      "\n",
      "Please adapt your code to use either `displot` (a figure-level function with\n",
      "similar flexibility) or `histplot` (an axes-level function for histograms).\n",
      "\n",
      "For a guide to updating your code to use the new functions, please see\n",
      "https://gist.github.com/mwaskom/de44147ed2974457ad6372750bbe5751\n",
      "\n",
      "  sns.distplot(final[i])  # kde=True adds the smooth curve\n"
     ]
    },
    {
     "data": {
      "image/png": "[encoded data removed]",
      "text/plain": [
       "<Figure size 640x480 with 1 Axes>"
      ]
     },
     "metadata": {},
     "output_type": "display_data"
    },
    {
     "name": "stderr",
     "output_type": "stream",
     "text": [
      "C:\\Users\\asus\\AppData\\Local\\Temp\\ipykernel_10328\\2708758507.py:2: UserWarning: \n",
      "\n",
      "`distplot` is a deprecated function and will be removed in seaborn v0.14.0.\n",
      "\n",
      "Please adapt your code to use either `displot` (a figure-level function with\n",
      "similar flexibility) or `histplot` (an axes-level function for histograms).\n",
      "\n",
      "For a guide to updating your code to use the new functions, please see\n",
      "https://gist.github.com/mwaskom/de44147ed2974457ad6372750bbe5751\n",
      "\n",
      "  sns.distplot(final[i])  # kde=True adds the smooth curve\n"
     ]
    },
    {
     "data": {
      "image/png": "[encoded data removed]",
      "text/plain": [
       "<Figure size 640x480 with 1 Axes>"
      ]
     },
     "metadata": {},
     "output_type": "display_data"
    },
    {
     "name": "stderr",
     "output_type": "stream",
     "text": [
      "C:\\Users\\asus\\AppData\\Local\\Temp\\ipykernel_10328\\2708758507.py:2: UserWarning: \n",
      "\n",
      "`distplot` is a deprecated function and will be removed in seaborn v0.14.0.\n",
      "\n",
      "Please adapt your code to use either `displot` (a figure-level function with\n",
      "similar flexibility) or `histplot` (an axes-level function for histograms).\n",
      "\n",
      "For a guide to updating your code to use the new functions, please see\n",
      "https://gist.github.com/mwaskom/de44147ed2974457ad6372750bbe5751\n",
      "\n",
      "  sns.distplot(final[i])  # kde=True adds the smooth curve\n"
     ]
    },
    {
     "data": {
      "image/png": "[encoded data removed]",
      "text/plain": [
       "<Figure size 640x480 with 1 Axes>"
      ]
     },
     "metadata": {},
     "output_type": "display_data"
    },
    {
     "name": "stderr",
     "output_type": "stream",
     "text": [
      "C:\\Users\\asus\\AppData\\Local\\Temp\\ipykernel_10328\\2708758507.py:2: UserWarning: \n",
      "\n",
      "`distplot` is a deprecated function and will be removed in seaborn v0.14.0.\n",
      "\n",
      "Please adapt your code to use either `displot` (a figure-level function with\n",
      "similar flexibility) or `histplot` (an axes-level function for histograms).\n",
      "\n",
      "For a guide to updating your code to use the new functions, please see\n",
      "https://gist.github.com/mwaskom/de44147ed2974457ad6372750bbe5751\n",
      "\n",
      "  sns.distplot(final[i])  # kde=True adds the smooth curve\n"
     ]
    },
    {
     "data": {
      "image/png": "[encoded data removed]",
      "text/plain": [
       "<Figure size 640x480 with 1 Axes>"
      ]
     },
     "metadata": {},
     "output_type": "display_data"
    },
    {
     "name": "stderr",
     "output_type": "stream",
     "text": [
      "C:\\Users\\asus\\AppData\\Local\\Temp\\ipykernel_10328\\2708758507.py:2: UserWarning: \n",
      "\n",
      "`distplot` is a deprecated function and will be removed in seaborn v0.14.0.\n",
      "\n",
      "Please adapt your code to use either `displot` (a figure-level function with\n",
      "similar flexibility) or `histplot` (an axes-level function for histograms).\n",
      "\n",
      "For a guide to updating your code to use the new functions, please see\n",
      "https://gist.github.com/mwaskom/de44147ed2974457ad6372750bbe5751\n",
      "\n",
      "  sns.distplot(final[i])  # kde=True adds the smooth curve\n"
     ]
    },
    {
     "data": {
      "image/png": "[encoded data removed]",
      "text/plain": [
       "<Figure size 640x480 with 1 Axes>"
      ]
     },
     "metadata": {},
     "output_type": "display_data"
    },
    {
     "name": "stderr",
     "output_type": "stream",
     "text": [
      "C:\\Users\\asus\\AppData\\Local\\Temp\\ipykernel_10328\\2708758507.py:2: UserWarning: \n",
      "\n",
      "`distplot` is a deprecated function and will be removed in seaborn v0.14.0.\n",
      "\n",
      "Please adapt your code to use either `displot` (a figure-level function with\n",
      "similar flexibility) or `histplot` (an axes-level function for histograms).\n",
      "\n",
      "For a guide to updating your code to use the new functions, please see\n",
      "https://gist.github.com/mwaskom/de44147ed2974457ad6372750bbe5751\n",
      "\n",
      "  sns.distplot(final[i])  # kde=True adds the smooth curve\n"
     ]
    },
    {
     "data": {
      "image/png": "[encoded data removed]",
      "text/plain": [
       "<Figure size 640x480 with 1 Axes>"
      ]
     },
     "metadata": {},
     "output_type": "display_data"
    },
    {
     "name": "stderr",
     "output_type": "stream",
     "text": [
      "C:\\Users\\asus\\AppData\\Local\\Temp\\ipykernel_10328\\2708758507.py:2: UserWarning: \n",
      "\n",
      "`distplot` is a deprecated function and will be removed in seaborn v0.14.0.\n",
      "\n",
      "Please adapt your code to use either `displot` (a figure-level function with\n",
      "similar flexibility) or `histplot` (an axes-level function for histograms).\n",
      "\n",
      "For a guide to updating your code to use the new functions, please see\n",
      "https://gist.github.com/mwaskom/de44147ed2974457ad6372750bbe5751\n",
      "\n",
      "  sns.distplot(final[i])  # kde=True adds the smooth curve\n"
     ]
    },
    {
     "data": {
      "image/png": "[encoded data removed]",
      "text/plain": [
       "<Figure size 640x480 with 1 Axes>"
      ]
     },
     "metadata": {},
     "output_type": "display_data"
    },
    {
     "name": "stderr",
     "output_type": "stream",
     "text": [
      "C:\\Users\\asus\\AppData\\Local\\Temp\\ipykernel_10328\\2708758507.py:2: UserWarning: \n",
      "\n",
      "`distplot` is a deprecated function and will be removed in seaborn v0.14.0.\n",
      "\n",
      "Please adapt your code to use either `displot` (a figure-level function with\n",
      "similar flexibility) or `histplot` (an axes-level function for histograms).\n",
      "\n",
      "For a guide to updating your code to use the new functions, please see\n",
      "https://gist.github.com/mwaskom/de44147ed2974457ad6372750bbe5751\n",
      "\n",
      "  sns.distplot(final[i])  # kde=True adds the smooth curve\n"
     ]
    },
    {
     "data": {
      "image/png": "[encoded data removed]",
      "text/plain": [
       "<Figure size 640x480 with 1 Axes>"
      ]
     },
     "metadata": {},
     "output_type": "display_data"
    },
    {
     "name": "stderr",
     "output_type": "stream",
     "text": [
      "C:\\Users\\asus\\AppData\\Local\\Temp\\ipykernel_10328\\2708758507.py:2: UserWarning: \n",
      "\n",
      "`distplot` is a deprecated function and will be removed in seaborn v0.14.0.\n",
      "\n",
      "Please adapt your code to use either `displot` (a figure-level function with\n",
      "similar flexibility) or `histplot` (an axes-level function for histograms).\n",
      "\n",
      "For a guide to updating your code to use the new functions, please see\n",
      "https://gist.github.com/mwaskom/de44147ed2974457ad6372750bbe5751\n",
      "\n",
      "  sns.distplot(final[i])  # kde=True adds the smooth curve\n"
     ]
    },
    {
     "data": {
      "image/png": "[encoded data removed]",
      "text/plain": [
       "<Figure size 640x480 with 1 Axes>"
      ]
     },
     "metadata": {},
     "output_type": "display_data"
    }
   ],
   "source": [
    "for i in final.columns[:28]:\n",
    "    sns.distplot(final[i])  # kde=True adds the smooth curve\n",
    "    plt.title(f'Distribution of {i}')\n",
    "    plt.show()"
   ]
  },
  {
   "cell_type": "markdown",
   "id": "ac49ffa5",
   "metadata": {},
   "source": [
    "Credit card fraud detection means finding unusual transactions.\n",
    "\n"
   ]
  },
  {
   "cell_type": "markdown",
   "id": "d0008fd9",
   "metadata": {},
   "source": [
    "Inertia(cost function) or distortion used to find best K not randomly which is called elbow method.\n",
    "\n",
    "Inertia is the sum of squared euclidean distance from each point to centroid of cluster\n",
    "\n",
    "Distortion is the distance from each point to centroid of cluster/ total number of points "
   ]
  },
  {
   "cell_type": "markdown",
   "id": "61f1684f",
   "metadata": {},
   "source": [
    "✅ Isolation Forest Workflow in Anomaly Detection\n",
    "\n",
    "🔹 Training Phase (Unsupervised)\n",
    "\n",
    "You feed the model only the features (Time, Amount, V1–V28).\n",
    "\n",
    "No label (Class) is used.\n",
    "\n",
    "The model learns by building random trees that try to isolate each point.\n",
    "\n",
    "Points that are isolated very quickly (with fewer splits) are considered anomalies.\n",
    "\n",
    "🔹 Scoring Phase\n",
    "\n",
    "Every transaction gets an anomaly score.\n",
    "\n",
    "You can set a threshold (e.g., anything above 0.7 is an anomaly).\n",
    "\n",
    "🔹 Evaluation Phase (Now use labels)\n",
    "\n",
    "You reveal the true labels (Class: 0 = normal, 1 = fraud).\n",
    "\n",
    "You check:\n",
    "\n",
    "Did the Isolation Forest flag the real frauds as anomalies?\n",
    "\n",
    "You compute:\n",
    "\n",
    "Precision: Of the transactions flagged as anomalies, how many were actually fraud?\n",
    "\n",
    "Recall: Of all the actual fraud cases, how many did the model catch?\n",
    "\n",
    "F1-score: Balance between precision and recall."
   ]
  },
  {
   "cell_type": "code",
   "execution_count": 38,
   "id": "5c28a025",
   "metadata": {},
   "outputs": [],
   "source": [
    "from sklearn.ensemble import IsolationForest\n"
   ]
  },
  {
   "cell_type": "code",
   "execution_count": 39,
   "id": "bf6416ba",
   "metadata": {},
   "outputs": [],
   "source": [
    "iso=IsolationForest(contamination=0.0017, random_state=42)\n",
    "iso.fit(X_train)\n",
    "pred=iso.predict(X_test)\n",
    "#contamination=0.0017 tells the model to expect about 0.17% of the entire dataset are anomalies (outliers),"
   ]
  },
  {
   "cell_type": "markdown",
   "id": "58d647ee",
   "metadata": {},
   "source": [
    "When you set contamination = 0.0017 (0.17%), the Isolation Forest:\n",
    "\n",
    "Treats about 0.17% of your data points as the “most unusual” or “most isolated” (the anomalies).\n",
    "\n",
    "It looks at all points, calculates how “different” each point is compared to the rest.\n",
    "\n",
    "Then it flags the top 0.17% most different points as fraud (anomalies).\n",
    "\n",
    "The remaining are considered normal (non-fraud).\n",
    "\n"
   ]
  },
  {
   "cell_type": "code",
   "execution_count": 40,
   "id": "a65b388c",
   "metadata": {},
   "outputs": [
    {
     "data": {
      "text/plain": [
       "array([1, 1, 1, ..., 1, 1, 1])"
      ]
     },
     "execution_count": 40,
     "metadata": {},
     "output_type": "execute_result"
    }
   ],
   "source": [
    "pred"
   ]
  },
  {
   "cell_type": "markdown",
   "id": "4af014b6",
   "metadata": {},
   "source": [
    "An array of predictions, one for each data point (row) in final.\n",
    "\n",
    "Each element is either:\n",
    "\n",
    "1 — means the model thinks this point is normal (not an anomaly).\n",
    "\n",
    "-1 — means the model flags this point as an anomaly (outlier).\n",
    "\n"
   ]
  },
  {
   "cell_type": "code",
   "execution_count": 42,
   "id": "5abec75e",
   "metadata": {},
   "outputs": [
    {
     "name": "stdout",
     "output_type": "stream",
     "text": [
      "158\n"
     ]
    }
   ],
   "source": [
    "num_anomalies = sum(x == -1 for x in pred)\n",
    "print(num_anomalies)\n"
   ]
  },
  {
   "cell_type": "code",
   "execution_count": 43,
   "id": "8b77be2b",
   "metadata": {},
   "outputs": [
    {
     "name": "stdout",
     "output_type": "stream",
     "text": [
      "123\n"
     ]
    }
   ],
   "source": [
    "num_frauds = (y_test == 1).sum()\n",
    "print(num_frauds)\n"
   ]
  },
  {
   "cell_type": "markdown",
   "id": "fb0ffcee",
   "metadata": {},
   "source": [
    "Isolation Forest predicted about 158 anomalies\n",
    "\n",
    "The original ytest has 123 actual fraud cases"
   ]
  },
  {
   "cell_type": "markdown",
   "id": "34a01cdf",
   "metadata": {},
   "source": [
    "OnClass SVM"
   ]
  },
  {
   "cell_type": "code",
   "execution_count": 44,
   "id": "16a74aed",
   "metadata": {},
   "outputs": [
    {
     "name": "stdout",
     "output_type": "stream",
     "text": [
      "Anomalies detected: 71201\n"
     ]
    }
   ],
   "source": [
    "from sklearn.svm import OneClassSVM\n",
    "\n",
    "# Initialize the model\n",
    "ocsvm = OneClassSVM(kernel='rbf', nu=0.0017, gamma='scale') \n",
    "\n",
    "# Train on your scaled features (no labels)\n",
    "ocsvm.fit(X_train)\n",
    "\n",
    "# Predict anomalies\n",
    "pred2 = ocsvm.predict(X_test)  # +1 = normal, -1 = anomaly\n",
    "\n",
    "# Count anomalies\n",
    "num_anomalies = (pred2 == -1).sum()\n",
    "print(\"Anomalies detected:\", num_anomalies)\n"
   ]
  },
  {
   "cell_type": "markdown",
   "id": "3fb7b2ec",
   "metadata": {},
   "source": [
    "Evaluation for isolated forest"
   ]
  },
  {
   "cell_type": "code",
   "execution_count": 45,
   "id": "66ba4c7a",
   "metadata": {},
   "outputs": [],
   "source": [
    "from sklearn.metrics import classification_report,precision_score,recall_score,confusion_matrix,accuracy_score"
   ]
  },
  {
   "cell_type": "code",
   "execution_count": 46,
   "id": "80b1b747",
   "metadata": {},
   "outputs": [
    {
     "data": {
      "text/plain": [
       "array([0, 0, 0, ..., 0, 0, 0])"
      ]
     },
     "execution_count": 46,
     "metadata": {},
     "output_type": "execute_result"
    }
   ],
   "source": [
    "# Convert -1 (anomaly) to 1 (fraud), and 1 (normal) to 0 before evaluation\n",
    "pred_mapped = np.where(pred == -1, 1, 0)\n",
    "pred_mapped\n"
   ]
  },
  {
   "cell_type": "code",
   "execution_count": 47,
   "id": "783d16df",
   "metadata": {},
   "outputs": [
    {
     "name": "stdout",
     "output_type": "stream",
     "text": [
      "[[70964   115]\n",
      " [   80    43]]\n"
     ]
    }
   ],
   "source": [
    "print(confusion_matrix(y_test,pred_mapped))"
   ]
  },
  {
   "cell_type": "markdown",
   "id": "81c6b39a",
   "metadata": {},
   "source": [
    "[[TN, FP],\n",
    "\n",
    " [FN, TP]]\n",
    "\n",
    "TN (True Negative) = 70964 → Actual normal, predicted normal\n",
    "\n",
    "FP (False Positive) = 115 → Actual normal, predicted fraud\n",
    "\n",
    "FN (False Negative) = 80 → Actual fraud, predicted normal\n",
    "\n",
    "TP (True Positive) = 43 → Actual fraud, predicted fraud"
   ]
  },
  {
   "cell_type": "code",
   "execution_count": 48,
   "id": "9b69512d",
   "metadata": {},
   "outputs": [
    {
     "name": "stdout",
     "output_type": "stream",
     "text": [
      "              precision    recall  f1-score   support\n",
      "\n",
      "           0       1.00      1.00      1.00     71079\n",
      "           1       0.27      0.35      0.31       123\n",
      "\n",
      "    accuracy                           1.00     71202\n",
      "   macro avg       0.64      0.67      0.65     71202\n",
      "weighted avg       1.00      1.00      1.00     71202\n",
      "\n"
     ]
    }
   ],
   "source": [
    "print(classification_report(y_test,pred_mapped))"
   ]
  },
  {
   "cell_type": "markdown",
   "id": "0fb551dd",
   "metadata": {},
   "source": [
    "Although the Isolation Forest and opensvm detects roughly the same number of anomalies as the actual number of fraud cases (about 500), it doesn’t necessarily identify the correct fraudulent transactions. This is why the precision and recall for class 1 (fraud) are low"
   ]
  },
  {
   "cell_type": "code",
   "execution_count": 70,
   "id": "b69d7cdf",
   "metadata": {},
   "outputs": [
    {
     "data": {
      "text/plain": [
       "0.25842696629213485"
      ]
     },
     "execution_count": 70,
     "metadata": {},
     "output_type": "execute_result"
    }
   ],
   "source": [
    "precision_score(ytest,pred_mapped)\n",
    "#TP/TP+FP"
   ]
  },
  {
   "cell_type": "markdown",
   "id": "6f5e3f55",
   "metadata": {},
   "source": [
    "transaction predicted as unnormal,  25% are actually positive(unnormal)"
   ]
  },
  {
   "cell_type": "code",
   "execution_count": 71,
   "id": "ea2b372b",
   "metadata": {},
   "outputs": [
    {
     "data": {
      "text/plain": [
       "0.23469387755102042"
      ]
     },
     "execution_count": 71,
     "metadata": {},
     "output_type": "execute_result"
    }
   ],
   "source": [
    "recall_score(ytest,pred_mapped)\n",
    "#TP/TP+FN"
   ]
  },
  {
   "cell_type": "markdown",
   "id": "b1b1ca7b",
   "metadata": {},
   "source": [
    "transaction that are actually unnormal,  23% of them predicted as unnormal "
   ]
  },
  {
   "cell_type": "markdown",
   "id": "43800c6e",
   "metadata": {},
   "source": [
    "Evaluation for onclass svm"
   ]
  },
  {
   "cell_type": "code",
   "execution_count": 50,
   "id": "bfc8dc5f",
   "metadata": {},
   "outputs": [
    {
     "data": {
      "text/plain": [
       "array([1, 1, 1, ..., 1, 1, 1])"
      ]
     },
     "execution_count": 50,
     "metadata": {},
     "output_type": "execute_result"
    }
   ],
   "source": [
    "pred2_mapped = np.where(pred2 == -1, 1, 0)\n",
    "pred2_mapped"
   ]
  },
  {
   "cell_type": "code",
   "execution_count": 51,
   "id": "461ece0c",
   "metadata": {},
   "outputs": [
    {
     "name": "stdout",
     "output_type": "stream",
     "text": [
      "              precision    recall  f1-score   support\n",
      "\n",
      "           0       1.00      0.00      0.00     71079\n",
      "           1       0.00      1.00      0.00       123\n",
      "\n",
      "    accuracy                           0.00     71202\n",
      "   macro avg       0.50      0.50      0.00     71202\n",
      "weighted avg       1.00      0.00      0.00     71202\n",
      "\n"
     ]
    },
    {
     "data": {
      "text/plain": [
       "1.0"
      ]
     },
     "execution_count": 51,
     "metadata": {},
     "output_type": "execute_result"
    }
   ],
   "source": [
    "print(classification_report(y_test,pred2_mapped))\n",
    "recall_score(y_test,pred2_mapped)\n",
    "\n",
    "\n"
   ]
  },
  {
   "cell_type": "markdown",
   "id": "81d34b24",
   "metadata": {},
   "source": [
    "Improve performance by Tunning contamination in Isolation Forest (start with 0.005–0.02)"
   ]
  },
  {
   "cell_type": "code",
   "execution_count": 53,
   "id": "4a7b42da",
   "metadata": {},
   "outputs": [
    {
     "name": "stdout",
     "output_type": "stream",
     "text": [
      "Contamination: 0.0010, Precision: 0.35, Recall: 0.24\n",
      "Contamination: 0.0020, Precision: 0.24, Recall: 0.37\n",
      "Contamination: 0.0050, Precision: 0.13, Recall: 0.53\n",
      "Contamination: 0.0100, Precision: 0.08, Recall: 0.66\n",
      "Contamination: 0.0200, Precision: 0.04, Recall: 0.80\n",
      "Contamination: 0.0300, Precision: 0.02, Recall: 0.84\n",
      "Contamination: 0.1000, Precision: 0.00, Recall: 0.93\n"
     ]
    }
   ],
   "source": [
    "contamination_values = [0.001, 0.002, 0.005, 0.01, 0.02,0.03,0.1]\n",
    "best_f1 = 0\n",
    "best_cont = None\n",
    "\n",
    "for cont in contamination_values:\n",
    "    iso = IsolationForest(contamination=cont, random_state=42)\n",
    "    iso.fit(X_train)\n",
    "            \n",
    "    pred3 = iso.predict(X_test)\n",
    "\n",
    "    # Map predictions: -1 = anomaly → 1, 1 = normal → 0\n",
    "    pred3_mapped = np.where(pred3 == -1, 1, 0)\n",
    "\n",
    "    prec = precision_score(y_test, pred3_mapped)\n",
    "    rec = recall_score(y_test, pred3_mapped)\n",
    "\n",
    "    print(f\"Contamination: {cont:.4f}, Precision: {prec:.2f}, Recall: {rec:.2f}\")\n",
    "\n",
    "   \n"
   ]
  },
  {
   "cell_type": "markdown",
   "id": "101e4833",
   "metadata": {},
   "source": [
    "1. Try AutoEncoder to get get perfect result\n",
    "\n",
    "2. Autoencoder: Unsupervised neural network that is used to detect outliers\n",
    "\n",
    "3. Neural networks perform better with inputs between 0 and 1, especially when using activations like sigmoid, relu, or tanh."
   ]
  },
  {
   "cell_type": "markdown",
   "id": "4fd44f6c",
   "metadata": {},
   "source": [
    "✅  Neural network in general:\n",
    "\n",
    "The input layer receives pixel values.\n",
    "\n",
    "Early hidden layers detect simple features (edges, corners).\n",
    "\n",
    "Deeper layers combine those into complex features (eyes, nose).\n",
    "\n",
    "The output layer gives the class prediction (e.g., “dog”).\n",
    "\n",
    "✅  Autoencoder:\n",
    "\n",
    "Give the autoencoder your data — for example, a vector of 30 numbers (features).\n",
    "\n",
    "Hidden layers learn features by compressing and decompressing the data.\n",
    "\n",
    "The bottleneck is the compressed knowledge.\n",
    "\n",
    "If input is normal, autoencoder reconstructs well.\n",
    "\n",
    "If input is anomalous, reconstruction is poor → high error → anomaly detected."
   ]
  },
  {
   "cell_type": "markdown",
   "id": "7f2b922d",
   "metadata": {},
   "source": [
    "✅ PCA needs standardized data to work well.\n",
    "\n",
    "✅ Autoencoder needs normalized inputs (0 to 1) for stable training.\n",
    "\n",
    "✅ Why No PCA Before Autoencoder?\n",
    "\n",
    "-Autoencoders already perform dimensionality reduction:\n",
    "\n",
    "The encoder part learns to compress the input into a lower-dimensional representation (latent space).\n",
    "\n",
    "This is a learned, non-linear version of what PCA does (which is linear).\n",
    "\n",
    "-PCA can remove useful features:\n",
    "\n",
    "If you apply PCA before the Autoencoder, you risk losing important information about the data.\n",
    "\n",
    "That makes it harder for the Autoencoder to learn useful patterns or detect anomalies.\n",
    "\n",
    "-Autoencoders work best with full feature space:\n",
    "\n",
    "Especially in high-dimensional anomaly detection like fraud, keeping all 30 features (V1–V28, Time, Amount) helps.\n",
    "\n",
    "\n",
    "\n"
   ]
  },
  {
   "cell_type": "code",
   "execution_count": 54,
   "id": "51bb7f89",
   "metadata": {},
   "outputs": [],
   "source": [
    "import tensorflow as tf\n",
    "from tensorflow.keras import Model#keras python library to build neural network\n",
    "from tensorflow.keras.layers import Input,Dense #Input is the shape on input data\n",
    "\n"
   ]
  },
  {
   "cell_type": "code",
   "execution_count": 55,
   "id": "85f71dcc",
   "metadata": {},
   "outputs": [
    {
     "name": "stdout",
     "output_type": "stream",
     "text": [
      "Epoch 1/30\n",
      "\u001b[1m1000/1000\u001b[0m \u001b[32m━━━━━━━━━━━━━━━━━━━━\u001b[0m\u001b[37m\u001b[0m \u001b[1m7s\u001b[0m 4ms/step - loss: 0.0181 - val_loss: 0.0016\n",
      "Epoch 2/30\n",
      "\u001b[1m1000/1000\u001b[0m \u001b[32m━━━━━━━━━━━━━━━━━━━━\u001b[0m\u001b[37m\u001b[0m \u001b[1m5s\u001b[0m 4ms/step - loss: 0.0016 - val_loss: 0.0016\n",
      "Epoch 3/30\n",
      "\u001b[1m1000/1000\u001b[0m \u001b[32m━━━━━━━━━━━━━━━━━━━━\u001b[0m\u001b[37m\u001b[0m \u001b[1m5s\u001b[0m 4ms/step - loss: 0.0016 - val_loss: 0.0016\n",
      "Epoch 4/30\n",
      "\u001b[1m1000/1000\u001b[0m \u001b[32m━━━━━━━━━━━━━━━━━━━━\u001b[0m\u001b[37m\u001b[0m \u001b[1m5s\u001b[0m 4ms/step - loss: 0.0015 - val_loss: 0.0014\n",
      "Epoch 5/30\n",
      "\u001b[1m1000/1000\u001b[0m \u001b[32m━━━━━━━━━━━━━━━━━━━━\u001b[0m\u001b[37m\u001b[0m \u001b[1m5s\u001b[0m 5ms/step - loss: 0.0013 - val_loss: 0.0012\n",
      "Epoch 6/30\n",
      "\u001b[1m1000/1000\u001b[0m \u001b[32m━━━━━━━━━━━━━━━━━━━━\u001b[0m\u001b[37m\u001b[0m \u001b[1m5s\u001b[0m 4ms/step - loss: 0.0011 - val_loss: 0.0011\n",
      "Epoch 7/30\n",
      "\u001b[1m1000/1000\u001b[0m \u001b[32m━━━━━━━━━━━━━━━━━━━━\u001b[0m\u001b[37m\u001b[0m \u001b[1m5s\u001b[0m 5ms/step - loss: 0.0010 - val_loss: 0.0011\n",
      "Epoch 8/30\n",
      "\u001b[1m1000/1000\u001b[0m \u001b[32m━━━━━━━━━━━━━━━━━━━━\u001b[0m\u001b[37m\u001b[0m \u001b[1m5s\u001b[0m 5ms/step - loss: 9.7333e-04 - val_loss: 9.9664e-04\n",
      "Epoch 9/30\n",
      "\u001b[1m1000/1000\u001b[0m \u001b[32m━━━━━━━━━━━━━━━━━━━━\u001b[0m\u001b[37m\u001b[0m \u001b[1m4s\u001b[0m 4ms/step - loss: 9.5377e-04 - val_loss: 9.7276e-04\n",
      "Epoch 10/30\n",
      "\u001b[1m1000/1000\u001b[0m \u001b[32m━━━━━━━━━━━━━━━━━━━━\u001b[0m\u001b[37m\u001b[0m \u001b[1m4s\u001b[0m 4ms/step - loss: 9.4600e-04 - val_loss: 9.4518e-04\n",
      "Epoch 11/30\n",
      "\u001b[1m1000/1000\u001b[0m \u001b[32m━━━━━━━━━━━━━━━━━━━━\u001b[0m\u001b[37m\u001b[0m \u001b[1m6s\u001b[0m 6ms/step - loss: 9.3948e-04 - val_loss: 9.4399e-04\n",
      "Epoch 12/30\n",
      "\u001b[1m1000/1000\u001b[0m \u001b[32m━━━━━━━━━━━━━━━━━━━━\u001b[0m\u001b[37m\u001b[0m \u001b[1m5s\u001b[0m 5ms/step - loss: 9.3415e-04 - val_loss: 9.3938e-04\n",
      "Epoch 13/30\n",
      "\u001b[1m1000/1000\u001b[0m \u001b[32m━━━━━━━━━━━━━━━━━━━━\u001b[0m\u001b[37m\u001b[0m \u001b[1m5s\u001b[0m 5ms/step - loss: 9.2644e-04 - val_loss: 9.4973e-04\n",
      "Epoch 14/30\n",
      "\u001b[1m1000/1000\u001b[0m \u001b[32m━━━━━━━━━━━━━━━━━━━━\u001b[0m\u001b[37m\u001b[0m \u001b[1m5s\u001b[0m 5ms/step - loss: 9.1926e-04 - val_loss: 9.1979e-04\n",
      "Epoch 15/30\n",
      "\u001b[1m1000/1000\u001b[0m \u001b[32m━━━━━━━━━━━━━━━━━━━━\u001b[0m\u001b[37m\u001b[0m \u001b[1m5s\u001b[0m 5ms/step - loss: 9.1617e-04 - val_loss: 9.3320e-04\n",
      "Epoch 16/30\n",
      "\u001b[1m1000/1000\u001b[0m \u001b[32m━━━━━━━━━━━━━━━━━━━━\u001b[0m\u001b[37m\u001b[0m \u001b[1m5s\u001b[0m 5ms/step - loss: 9.1759e-04 - val_loss: 9.4718e-04\n",
      "Epoch 17/30\n",
      "\u001b[1m1000/1000\u001b[0m \u001b[32m━━━━━━━━━━━━━━━━━━━━\u001b[0m\u001b[37m\u001b[0m \u001b[1m5s\u001b[0m 5ms/step - loss: 9.1330e-04 - val_loss: 9.5710e-04\n",
      "Epoch 18/30\n",
      "\u001b[1m1000/1000\u001b[0m \u001b[32m━━━━━━━━━━━━━━━━━━━━\u001b[0m\u001b[37m\u001b[0m \u001b[1m5s\u001b[0m 5ms/step - loss: 9.1451e-04 - val_loss: 9.2827e-04\n",
      "Epoch 19/30\n",
      "\u001b[1m1000/1000\u001b[0m \u001b[32m━━━━━━━━━━━━━━━━━━━━\u001b[0m\u001b[37m\u001b[0m \u001b[1m6s\u001b[0m 5ms/step - loss: 9.1421e-04 - val_loss: 9.3097e-04\n",
      "Epoch 20/30\n",
      "\u001b[1m1000/1000\u001b[0m \u001b[32m━━━━━━━━━━━━━━━━━━━━\u001b[0m\u001b[37m\u001b[0m \u001b[1m10s\u001b[0m 5ms/step - loss: 9.1081e-04 - val_loss: 9.4663e-04\n",
      "Epoch 21/30\n",
      "\u001b[1m1000/1000\u001b[0m \u001b[32m━━━━━━━━━━━━━━━━━━━━\u001b[0m\u001b[37m\u001b[0m \u001b[1m10s\u001b[0m 5ms/step - loss: 9.1157e-04 - val_loss: 9.2870e-04\n",
      "Epoch 22/30\n",
      "\u001b[1m1000/1000\u001b[0m \u001b[32m━━━━━━━━━━━━━━━━━━━━\u001b[0m\u001b[37m\u001b[0m \u001b[1m5s\u001b[0m 5ms/step - loss: 9.1047e-04 - val_loss: 9.2336e-04\n",
      "Epoch 23/30\n",
      "\u001b[1m1000/1000\u001b[0m \u001b[32m━━━━━━━━━━━━━━━━━━━━\u001b[0m\u001b[37m\u001b[0m \u001b[1m5s\u001b[0m 5ms/step - loss: 9.0786e-04 - val_loss: 9.3255e-04\n",
      "Epoch 24/30\n",
      "\u001b[1m1000/1000\u001b[0m \u001b[32m━━━━━━━━━━━━━━━━━━━━\u001b[0m\u001b[37m\u001b[0m \u001b[1m5s\u001b[0m 5ms/step - loss: 9.0821e-04 - val_loss: 9.3328e-04\n",
      "Epoch 25/30\n",
      "\u001b[1m1000/1000\u001b[0m \u001b[32m━━━━━━━━━━━━━━━━━━━━\u001b[0m\u001b[37m\u001b[0m \u001b[1m9s\u001b[0m 4ms/step - loss: 9.1029e-04 - val_loss: 9.5330e-04\n",
      "Epoch 26/30\n",
      "\u001b[1m1000/1000\u001b[0m \u001b[32m━━━━━━━━━━━━━━━━━━━━\u001b[0m\u001b[37m\u001b[0m \u001b[1m4s\u001b[0m 4ms/step - loss: 9.0942e-04 - val_loss: 9.3547e-04\n",
      "Epoch 27/30\n",
      "\u001b[1m1000/1000\u001b[0m \u001b[32m━━━━━━━━━━━━━━━━━━━━\u001b[0m\u001b[37m\u001b[0m \u001b[1m3s\u001b[0m 3ms/step - loss: 9.0797e-04 - val_loss: 9.3755e-04\n",
      "Epoch 28/30\n",
      "\u001b[1m1000/1000\u001b[0m \u001b[32m━━━━━━━━━━━━━━━━━━━━\u001b[0m\u001b[37m\u001b[0m \u001b[1m3s\u001b[0m 3ms/step - loss: 9.0775e-04 - val_loss: 9.4928e-04\n",
      "Epoch 29/30\n",
      "\u001b[1m1000/1000\u001b[0m \u001b[32m━━━━━━━━━━━━━━━━━━━━\u001b[0m\u001b[37m\u001b[0m \u001b[1m4s\u001b[0m 4ms/step - loss: 9.0516e-04 - val_loss: 9.7740e-04\n",
      "Epoch 30/30\n",
      "\u001b[1m1000/1000\u001b[0m \u001b[32m━━━━━━━━━━━━━━━━━━━━\u001b[0m\u001b[37m\u001b[0m \u001b[1m5s\u001b[0m 5ms/step - loss: 9.0562e-04 - val_loss: 9.3859e-04\n"
     ]
    }
   ],
   "source": [
    "df = pd.read_csv('creditcard.csv')  \n",
    "\n",
    "X = df.drop(columns=['Class'])\n",
    "y = df['Class']\n",
    "\n",
    "\n",
    "scaler = MinMaxScaler()\n",
    "X_scaled = scaler.fit_transform(X)\n",
    "\n",
    "X_train = X_scaled[y == 0]\n",
    "\n",
    "# Test on full dataset to detect outliers where its being trained only on normal ones\n",
    "X_test = X_scaled\n",
    "y_test = y.values\n",
    "\n",
    "\n",
    "input_dim = X_train.shape[1]\n",
    "input_layer = Input(shape=(input_dim,))\n",
    "\n",
    "# Encoder\n",
    "encoder = Dense(int(input_dim / 2), activation=\"relu\")(input_layer)\n",
    "encoder = Dense(int(input_dim / 4), activation=\"relu\")(encoder)\n",
    "\n",
    "# Decoder\n",
    "decoder = Dense(int(input_dim / 2), activation=\"relu\")(encoder)\n",
    "decoder = Dense(input_dim, activation=\"sigmoid\")(decoder)\n",
    "\n",
    "autoencoder = Model(inputs=input_layer, outputs=decoder)\n",
    "autoencoder.compile(optimizer='adam', loss='mse')\n",
    "\n",
    "\n",
    "history = autoencoder.fit(\n",
    "    X_train, X_train,\n",
    "    epochs=30,\n",
    "    batch_size=256,\n",
    "    validation_split=0.1,\n",
    "    shuffle=True,\n",
    ")"
   ]
  },
  {
   "cell_type": "markdown",
   "id": "11b6dbd4",
   "metadata": {},
   "source": [
    "Train only on normal (Class=0) so the Autoencoder:\n",
    "\n",
    "Learns only “normal patterns”\n",
    "\n",
    "Struggles to reconstruct abnormal ones\n",
    "\n",
    "Produces higher errors for fraud — letting us detect them."
   ]
  },
  {
   "cell_type": "markdown",
   "id": "0da92a72",
   "metadata": {},
   "source": [
    "Autoencoders learn to reconstruct what they’ve seen well — and perform poorly on unfamiliar or rare patterns, like fraud."
   ]
  },
  {
   "cell_type": "markdown",
   "id": "8482bae9",
   "metadata": {},
   "source": [
    "Both loss and val_loss decreased after ecah ephoc and were very close at each ephoc so  model is learning well and generalizing!"
   ]
  },
  {
   "cell_type": "markdown",
   "id": "780aa4e5",
   "metadata": {},
   "source": [
    "1. Input:  (e.g., 28 numbers)\n",
    "\n",
    "2. Dense layer(s): \n",
    "   - Encoder: Compresses the input data into a smaller representation (latent space).\n",
    "\n",
    "   - Decoder: Takes that compressed representation and tries to rebuild (reconstruct) the original input.\n",
    "\n",
    "Model: Connects input → encoder layers → decoder layers → output\n",
    "\n",
    "Keras: Provides the tools to create all of the above easily"
   ]
  },
  {
   "cell_type": "markdown",
   "id": "a2eb4eb3",
   "metadata": {},
   "source": [
    "🧠 Autoencoder: fails to reconstruct abnormal/fraudulent transactions → those have high reconstruction error.\n",
    "\n",
    "🧠 Reconstruction error means difference ebtween input and reconstructed output\n",
    "\n",
    "🧠 Think of it like:\n",
    "“I’ve seen thousands of cats. I can draw cats perfectly now.\n",
    "But this dog? I can’t draw it well — it’s too different.”\n",
    "\n"
   ]
  },
  {
   "cell_type": "markdown",
   "id": "6e788122",
   "metadata": {},
   "source": [
    "In general in supervised when training using.fit(x,y) we are feeding the model input data x, and the model tries to predict y. After prediction, the model compares its output to the true labels y using a loss function, which measures how far off the predictions are if we get loss and acc after ech ephoc during training if the loss decreases and acc increase after each ephoc then the model is training well otherwise (underfitting) feed the model with more data. \n",
    "\n",
    "Overfitting occurs when a model performs very well on the training data but poorly on unseen test data. You can detect it by comparing metrics: if training loss is low but test loss is high, or training accuracy is high but test accuracy is low, the model is likely overfitting."
   ]
  },
  {
   "cell_type": "code",
   "execution_count": 56,
   "id": "d7e3f661",
   "metadata": {},
   "outputs": [
    {
     "name": "stdout",
     "output_type": "stream",
     "text": [
      "\u001b[1m8901/8901\u001b[0m \u001b[32m━━━━━━━━━━━━━━━━━━━━\u001b[0m\u001b[37m\u001b[0m \u001b[1m21s\u001b[0m 2ms/step\n"
     ]
    },
    {
     "data": {
      "text/plain": [
       "array([[0.03411165, 0.94827837, 0.7670654 , ..., 0.41574872, 0.31298622,\n",
       "        0.00340308],\n",
       "       [0.03260557, 0.9480021 , 0.7672024 , ..., 0.41599676, 0.31312177,\n",
       "        0.00300981],\n",
       "       [0.02928472, 0.9473594 , 0.76714015, ..., 0.4160859 , 0.31306553,\n",
       "        0.00293064],\n",
       "       ...,\n",
       "       [0.9325651 , 0.96513504, 0.7663014 , ..., 0.41601026, 0.31303075,\n",
       "        0.00408169],\n",
       "       [0.9435946 , 0.96195835, 0.762904  , ..., 0.41650242, 0.3134037 ,\n",
       "        0.00333957],\n",
       "       [0.9440012 , 0.964984  , 0.76553684, ..., 0.41653082, 0.3124091 ,\n",
       "        0.00418192]], dtype=float32)"
      ]
     },
     "execution_count": 56,
     "metadata": {},
     "output_type": "execute_result"
    }
   ],
   "source": [
    "\"\"\"\n",
    "1. feed input data without the class column (just features).\n",
    "\n",
    "2. The model returns the reconstructed version of that input — not labels.\n",
    "\"\"\"\n",
    "reconstructed=autoencoder.predict(X_test)\n",
    "reconstructed"
   ]
  },
  {
   "cell_type": "code",
   "execution_count": 57,
   "id": "88574deb",
   "metadata": {},
   "outputs": [],
   "source": [
    "# MSE: difference between reconstructed and original one\n",
    "mse = np.mean(np.power(X_test - reconstructed, 2), axis=1)"
   ]
  },
  {
   "cell_type": "code",
   "execution_count": 58,
   "id": "a1d21fd3",
   "metadata": {},
   "outputs": [
    {
     "data": {
      "text/plain": [
       "array([0.00061556, 0.00032385, 0.00189571, ..., 0.00111242, 0.0035621 ,\n",
       "       0.00031785])"
      ]
     },
     "execution_count": 58,
     "metadata": {},
     "output_type": "execute_result"
    }
   ],
   "source": [
    "mse"
   ]
  },
  {
   "cell_type": "markdown",
   "id": "691cb3c5",
   "metadata": {},
   "source": [
    "Low MSE: The autoencoder reconstructed the sample well → likely normal data.\n",
    "\n",
    "High MSE: The autoencoder struggled to reconstruct the sample → possibly anomalous or fraudulent."
   ]
  },
  {
   "cell_type": "code",
   "execution_count": 59,
   "id": "c96e49fd",
   "metadata": {},
   "outputs": [
    {
     "data": {
      "text/plain": [
       "array([False, False, False, ..., False, False, False])"
      ]
     },
     "execution_count": 59,
     "metadata": {},
     "output_type": "execute_result"
    }
   ],
   "source": [
    "threshold = np.percentile(mse, 99)#gives you the MSE value which is bigger than 99% of these values\n",
    "anomalies = mse > threshold\n",
    "anomalies"
   ]
  },
  {
   "cell_type": "code",
   "execution_count": 60,
   "id": "125d3ee8",
   "metadata": {},
   "outputs": [
    {
     "data": {
      "text/plain": [
       "np.int64(2849)"
      ]
     },
     "execution_count": 60,
     "metadata": {},
     "output_type": "execute_result"
    }
   ],
   "source": [
    "count=(anomalies==True).sum()\n",
    "count"
   ]
  },
  {
   "cell_type": "code",
   "execution_count": 61,
   "id": "c11268c7",
   "metadata": {},
   "outputs": [
    {
     "data": {
      "text/plain": [
       "np.int64(492)"
      ]
     },
     "execution_count": 61,
     "metadata": {},
     "output_type": "execute_result"
    }
   ],
   "source": [
    "count2=(y_test==1).sum()\n",
    "count2"
   ]
  },
  {
   "cell_type": "code",
   "execution_count": 62,
   "id": "ec0db20a",
   "metadata": {},
   "outputs": [
    {
     "name": "stdout",
     "output_type": "stream",
     "text": [
      "              precision    recall  f1-score   support\n",
      "\n",
      "           0       1.00      0.99      1.00    284315\n",
      "           1       0.14      0.82      0.24       492\n",
      "\n",
      "    accuracy                           0.99    284807\n",
      "   macro avg       0.57      0.91      0.62    284807\n",
      "weighted avg       1.00      0.99      0.99    284807\n",
      "\n"
     ]
    }
   ],
   "source": [
    "predicted_labels = anomalies.astype(int)\n",
    "print(classification_report(y_test, predicted_labels))\n"
   ]
  },
  {
   "cell_type": "markdown",
   "id": "9abe5d88",
   "metadata": {},
   "source": [
    "✅ Recall = 0.78\n",
    "\"Of all actual fraud cases, 78% were correctly predicted as fraud.\"\n",
    "\n",
    "⚠️ Precision = 0.14\n",
    "\"Of all the transactions predicted as fraud, only 14% were actually fraud.\""
   ]
  },
  {
   "cell_type": "code",
   "execution_count": 63,
   "id": "5aa2d9d7",
   "metadata": {},
   "outputs": [
    {
     "data": {
      "text/plain": [
       "0.1418041418041418"
      ]
     },
     "execution_count": 63,
     "metadata": {},
     "output_type": "execute_result"
    }
   ],
   "source": [
    "precision_score(y_test,anomalies)"
   ]
  },
  {
   "cell_type": "code",
   "execution_count": 64,
   "id": "8e46fc10",
   "metadata": {},
   "outputs": [
    {
     "data": {
      "text/plain": [
       "0.8211382113821138"
      ]
     },
     "execution_count": 64,
     "metadata": {},
     "output_type": "execute_result"
    }
   ],
   "source": [
    "recall_score(y_test,anomalies)"
   ]
  },
  {
   "cell_type": "markdown",
   "id": "ce71c0cf",
   "metadata": {},
   "source": [
    "Conclusion and Insights:\n",
    "\n",
    "The models demonstrate strong performance in identifying normal transactions but face significant challenges detecting rare fraud cases due to the extreme class imbalance. "
   ]
  },
  {
   "cell_type": "markdown",
   "id": "566ac88f",
   "metadata": {},
   "source": [
    "It’s normal that precision is low in unsupervised fraud detection.\n",
    "\n",
    "You're trying to find tiny needles in a massive haystack without knowing what the needle looks like.\n",
    "\n",
    "But detecting 70–80% of frauds still adds value — especially if you send those cases for human review.\n",
    "\n"
   ]
  }
 ],
 "metadata": {
  "kernelspec": {
   "display_name": "test",
   "language": "python",
   "name": "python3"
  },
  "language_info": {
   "codemirror_mode": {
    "name": "ipython",
    "version": 3
   },
   "file_extension": ".py",
   "mimetype": "text/x-python",
   "name": "python",
   "nbconvert_exporter": "python",
   "pygments_lexer": "ipython3",
   "version": "3.10.3"
  }
 },
 "nbformat": 4,
 "nbformat_minor": 5
}
